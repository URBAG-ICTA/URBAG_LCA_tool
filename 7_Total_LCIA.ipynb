{
 "cells": [
  {
   "cell_type": "markdown",
   "id": "ca9e3775-f3ad-48ba-b1ed-25ba246043c0",
   "metadata": {},
   "source": [
    "# Total LCIA"
   ]
  },
  {
   "cell_type": "markdown",
   "id": "d3d390ed-8891-4698-8a5a-d761972c647b",
   "metadata": {},
   "source": [
    "This notebook calculates the total LCIA as the sum of direct and indirect LCIA"
   ]
  },
  {
   "cell_type": "code",
   "execution_count": null,
   "id": "99cd1445-525d-4f0f-b1bb-9da9c49cfa3d",
   "metadata": {},
   "outputs": [],
   "source": [
    "import pandas as pd\n",
    "import numpy as np\n",
    "import matplotlib.pyplot as plt\n",
    "import seaborn as sns"
   ]
  },
  {
   "cell_type": "code",
   "execution_count": null,
   "id": "2cfe682d-9b1b-4171-a246-0c9514eb14a9",
   "metadata": {},
   "outputs": [],
   "source": [
    "#In this cell the scenario is chosen. This can either be defined here or in the RUN_ALL.ipynb\n",
    "#If defined here unmark the scen = line and select the scenario you will run.\n",
    "#If defined in RUN_ALL.ipynb unmark the %store -r scen line.\n",
    "#Scenario names are:\n",
    "#S0_MinFert > N,P,K demand met by mineral fertilizers only\n",
    "#S0_struvite_P > P demand met by struvite, N demand met by struvite and mineral fertilizer and K demand met by mineral fertilizer\n",
    "#S0_compost > N,P,K supplied by compost produced in the AMB, remaining N,P,K demand met by mineral fertilizer\n",
    "#S0_Ammon_salts > N supplied from recovered ammonium salts and from mineral fertilizers, P from struvite and K from mineral fertilizer\n",
    "scen = 'S0_MinFert'\n",
    "#%store -r scen"
   ]
  },
  {
   "cell_type": "code",
   "execution_count": null,
   "id": "6ffdbf3c-966a-4e38-99d7-8b006dc4a67c",
   "metadata": {},
   "outputs": [],
   "source": [
    "print(scen)"
   ]
  },
  {
   "cell_type": "code",
   "execution_count": null,
   "id": "39aa6213-a3e1-479d-8c18-433deea64d25",
   "metadata": {
    "tags": []
   },
   "outputs": [],
   "source": [
    "%store -r data_back\n",
    "%store -r data_foreground_1"
   ]
  },
  {
   "cell_type": "markdown",
   "id": "a2fe154a-4066-47d3-8406-5fc2789ae8b9",
   "metadata": {
    "tags": []
   },
   "source": [
    "## Background impacts"
   ]
  },
  {
   "cell_type": "code",
   "execution_count": null,
   "id": "129f07c6-186f-42e2-b496-4c522da51bf2",
   "metadata": {},
   "outputs": [],
   "source": [
    "data_back.keys()"
   ]
  },
  {
   "cell_type": "code",
   "execution_count": null,
   "id": "ab2e83f0-2ddd-4593-aeaf-8705eafcf50a",
   "metadata": {},
   "outputs": [],
   "source": [
    "background_impacts = data_back.copy()\n",
    "background_impacts"
   ]
  },
  {
   "cell_type": "code",
   "execution_count": null,
   "id": "7fdca96c-9d2c-488c-9dda-ce0fc604a396",
   "metadata": {},
   "outputs": [],
   "source": [
    "background_impacts.keys()"
   ]
  },
  {
   "cell_type": "code",
   "execution_count": null,
   "id": "9275ddb9-c61f-4601-8421-b249060a78f2",
   "metadata": {},
   "outputs": [],
   "source": [
    "pd.unique(background_impacts['database'])"
   ]
  },
  {
   "cell_type": "code",
   "execution_count": null,
   "id": "2932abea-b71e-436e-bb9d-2339a1e2b6c0",
   "metadata": {},
   "outputs": [],
   "source": []
  },
  {
   "cell_type": "markdown",
   "id": "2cc4c95f-26ce-4ff5-990a-c2ff73694d4e",
   "metadata": {},
   "source": [
    "## Foreground impacts"
   ]
  },
  {
   "cell_type": "code",
   "execution_count": null,
   "id": "b369620f-5f2c-4812-a885-7d1d5c1b82ef",
   "metadata": {
    "tags": []
   },
   "outputs": [],
   "source": [
    "data_foreground_1.keys()"
   ]
  },
  {
   "cell_type": "code",
   "execution_count": null,
   "id": "818d4752-6347-4404-a7f9-55ce6f360839",
   "metadata": {},
   "outputs": [],
   "source": [
    "foreground_impacts = data_foreground_1.copy()"
   ]
  },
  {
   "cell_type": "code",
   "execution_count": null,
   "id": "6b7e0d1e-873c-4400-b37b-710be04ee32c",
   "metadata": {},
   "outputs": [],
   "source": [
    "foreground_impacts"
   ]
  },
  {
   "cell_type": "markdown",
   "id": "abcf4541-bbf8-4987-a469-ca4d7663860f",
   "metadata": {},
   "source": [
    "## Total LCIA"
   ]
  },
  {
   "cell_type": "code",
   "execution_count": null,
   "id": "7be3a709-0b90-4493-8f25-d7e9c32d41ec",
   "metadata": {},
   "outputs": [],
   "source": [
    "#concatenating both background and extended foreground\n",
    "data_all_LCIA = pd.concat([background_impacts,foreground_impacts],ignore_index=True)"
   ]
  },
  {
   "cell_type": "code",
   "execution_count": null,
   "id": "dfbf0d82-fa02-4687-9d77-b79f27025507",
   "metadata": {},
   "outputs": [],
   "source": [
    "#making a copy create the total impacts in another dataframe\n",
    "total_impacts = data_all_LCIA.copy()"
   ]
  },
  {
   "cell_type": "code",
   "execution_count": null,
   "id": "b22511f2-0599-42fa-bed3-bc9a8c13e86f",
   "metadata": {},
   "outputs": [],
   "source": [
    "total_impacts.keys()"
   ]
  },
  {
   "cell_type": "code",
   "execution_count": null,
   "id": "419034b3-8719-4691-8670-579a5199612c",
   "metadata": {},
   "outputs": [],
   "source": [
    "pd.unique(total_impacts['database'])"
   ]
  },
  {
   "cell_type": "code",
   "execution_count": null,
   "id": "7d8098b8-9754-492e-a5a2-6bd575bed3ac",
   "metadata": {},
   "outputs": [],
   "source": [
    "pd.unique(total_impacts['product'])"
   ]
  },
  {
   "cell_type": "code",
   "execution_count": null,
   "id": "068d4975-1316-491d-b135-eaf13a14e105",
   "metadata": {},
   "outputs": [],
   "source": [
    "pd.unique(total_impacts['imp_cat'])"
   ]
  },
  {
   "cell_type": "code",
   "execution_count": null,
   "id": "84dda17d-753e-43e2-b422-7dadd2ee0599",
   "metadata": {},
   "outputs": [],
   "source": [
    "pd.unique(total_impacts['Scenario'])"
   ]
  },
  {
   "cell_type": "code",
   "execution_count": null,
   "id": "424146b2-b05e-4bf8-9459-af9f5fa4a763",
   "metadata": {},
   "outputs": [],
   "source": [
    "total_impacts"
   ]
  },
  {
   "cell_type": "code",
   "execution_count": null,
   "id": "b72494d2-f24b-4ff9-981d-6b75b5dd11d8",
   "metadata": {},
   "outputs": [],
   "source": [
    "total_impacts_GW = total_impacts[(total_impacts['imp_cat']=='GWP100')]\n",
    "total_impacts_ME = total_impacts[(total_impacts['imp_cat']=='ME')]\n",
    "total_impacts_ME_Reg = total_impacts[(total_impacts['imp_cat']=='ME_Reg')]\n",
    "total_impacts_FE = total_impacts[(total_impacts['imp_cat']=='FE')]\n",
    "total_impacts_FE_Reg = total_impacts[(total_impacts['imp_cat']=='FE_Reg')]\n",
    "total_impacts_WC = total_impacts[(total_impacts['imp_cat']=='WC')]\n",
    "total_impacts_ADP = total_impacts[(total_impacts['imp_cat']=='ADP')]"
   ]
  },
  {
   "cell_type": "code",
   "execution_count": null,
   "id": "ace17be0-2f57-4592-bdc0-f7d0713133d9",
   "metadata": {},
   "outputs": [],
   "source": [
    "print(total_impacts_GW.loc[total_impacts_GW[\"database\"]==\"ei391\"])"
   ]
  },
  {
   "cell_type": "code",
   "execution_count": null,
   "id": "5b773358-95dc-4a50-8fcf-71f0a923e967",
   "metadata": {},
   "outputs": [],
   "source": [
    "print(total_impacts_ME.loc[total_impacts_ME[\"database\"]==\"ei391\"])"
   ]
  },
  {
   "cell_type": "code",
   "execution_count": null,
   "id": "23562294-8169-42b7-8eb6-d535a09da6ec",
   "metadata": {},
   "outputs": [],
   "source": [
    "print(total_impacts_ME_Reg.loc[total_impacts_ME_Reg[\"database\"]==\"ei391\"])"
   ]
  },
  {
   "cell_type": "code",
   "execution_count": null,
   "id": "0bcc393e-1df3-4ddc-b045-7d9a44694618",
   "metadata": {},
   "outputs": [],
   "source": [
    "print(total_impacts_FE.loc[total_impacts_FE[\"database\"]==\"ei391\"])"
   ]
  },
  {
   "cell_type": "code",
   "execution_count": null,
   "id": "82f12622-92ff-4147-80a9-301e0c3c8994",
   "metadata": {},
   "outputs": [],
   "source": [
    "print(total_impacts_FE_Reg.loc[total_impacts_FE_Reg[\"database\"]==\"ei391\"])"
   ]
  },
  {
   "cell_type": "code",
   "execution_count": null,
   "id": "17fa1a4b-cf68-49f2-88e8-c9b75139da1b",
   "metadata": {},
   "outputs": [],
   "source": [
    "print(total_impacts_ADP.loc[total_impacts_ADP[\"database\"]==\"ei391\"])"
   ]
  },
  {
   "cell_type": "code",
   "execution_count": null,
   "id": "5cbdd1c8-eab5-4abe-88b2-7640a409b63c",
   "metadata": {},
   "outputs": [],
   "source": [
    "print(total_impacts_WC.loc[total_impacts_WC[\"database\"]==\"ei391\"])"
   ]
  },
  {
   "cell_type": "markdown",
   "id": "c068a8d2-0afe-4943-b264-15c426ba596e",
   "metadata": {},
   "source": [
    "## Saving outputs"
   ]
  },
  {
   "cell_type": "code",
   "execution_count": null,
   "id": "55eb2cd9-3752-46e4-a434-78c30a738c03",
   "metadata": {},
   "outputs": [],
   "source": [
    "%store total_impacts\n",
    "%store total_impacts_GW\n",
    "%store total_impacts_ME\n",
    "%store total_impacts_ME_Reg\n",
    "%store total_impacts_FE\n",
    "%store total_impacts_FE_Reg\n",
    "%store total_impacts_WC"
   ]
  },
  {
   "cell_type": "code",
   "execution_count": null,
   "id": "241be423-bac9-4d87-b253-9c82f525ec59",
   "metadata": {},
   "outputs": [],
   "source": [
    "#Total_impacts + foreground_impacts\n",
    "total_impacts.to_csv(\"output/\" + scen + \"/LCIA/Total_LCIA.csv\")\n",
    "total_impacts_GW.to_csv(\"output/\" + scen + \"/LCIA/Total_LCIA_GWP.csv\")\n",
    "total_impacts_ME.to_csv(\"output/\" + scen + \"/LCIA/Total_LCIA_ME.csv\")\n",
    "total_impacts_ME_Reg.to_csv(\"output/\" + scen + \"/LCIA/Total_LCIA_ME_Reg.csv\")\n",
    "total_impacts_FE.to_csv(\"output/\" + scen + \"/LCIA/Total_LCIA_FE.csv\")\n",
    "total_impacts_FE_Reg.to_csv(\"output/\" + scen + \"/LCIA/Total_LCIA_FE_Reg.csv\")\n",
    "total_impacts_WC.to_csv(\"output/\" + scen + \"/LCIA/Total_LCIA_WC.csv\")"
   ]
  },
  {
   "cell_type": "code",
   "execution_count": null,
   "id": "b3cc1735-9c44-46f2-8614-37425412f384",
   "metadata": {},
   "outputs": [],
   "source": []
  },
  {
   "cell_type": "code",
   "execution_count": null,
   "id": "4e8476d9-a2d7-4b0a-8c24-01a8bc364372",
   "metadata": {},
   "outputs": [],
   "source": []
  }
 ],
 "metadata": {
  "kernelspec": {
   "display_name": "Python 3 (ipykernel)",
   "language": "python",
   "name": "python3"
  },
  "language_info": {
   "codemirror_mode": {
    "name": "ipython",
    "version": 3
   },
   "file_extension": ".py",
   "mimetype": "text/x-python",
   "name": "python",
   "nbconvert_exporter": "python",
   "pygments_lexer": "ipython3",
   "version": "3.11.8"
  }
 },
 "nbformat": 4,
 "nbformat_minor": 5
}
