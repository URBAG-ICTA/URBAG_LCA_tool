{
 "cells": [
  {
   "cell_type": "markdown",
   "id": "5684f04a-78ca-4f18-8644-3e4b9f4af80c",
   "metadata": {
    "tags": []
   },
   "source": [
    "# Nutrient inputs"
   ]
  },
  {
   "cell_type": "markdown",
   "id": "e02a4440-73a7-4bab-aa70-e212578f8d23",
   "metadata": {},
   "source": [
    "In this notebook we define the inputs of mineral fertilizer, struvite, compost and ammonium salts before balance per polygon, \n",
    "accounting for limitations of production at the AMB and the characteristics of each product. The main data input is the nutrients (NPK) crop requirement from the URBAG map. "
   ]
  },
  {
   "cell_type": "code",
   "execution_count": null,
   "id": "d7e02340-f45f-4aba-8eeb-5e32d33aad5c",
   "metadata": {},
   "outputs": [],
   "source": [
    "import pandas as pd\n",
    "import numpy as np\n",
    "import matplotlib.pyplot as plt\n",
    "import seaborn as sns"
   ]
  },
  {
   "cell_type": "code",
   "execution_count": null,
   "id": "65a78dfb-9447-46a4-9716-b221072e83c0",
   "metadata": {},
   "outputs": [],
   "source": [
    "#In this cell the scenario is chosen. This can either be defined here or in the RUN_ALL.ipynb\n",
    "#If defined here unmark the scen = line and select the scenario you will run.\n",
    "#If defined in RUN_ALL.ipynb unmark the %store -r scen line.\n",
    "#Scenario names are:\n",
    "#S0_MinFert > N,P,K demand met by mineral fertilizers only\n",
    "#S0_struvite_P > P demand met by struvite, N demand met by struvite and mineral fertilizer and K demand met by mineral fertilizer\n",
    "#S0_compost > N,P,K supplied by compost produced in the AMB, remaining N,P,K demand met by mineral fertilizer\n",
    "#S0_Ammon_salts > N supplied from recovered ammonium salts and from mineral fertilizers, P from struvite and K from mineral fertilizer\n",
    "scen = 'S0_MinFert'\n",
    "#%store -r scen"
   ]
  },
  {
   "cell_type": "code",
   "execution_count": null,
   "id": "4af88690-2754-4140-9fc9-bf2a1116d624",
   "metadata": {},
   "outputs": [],
   "source": [
    "print(scen)"
   ]
  },
  {
   "cell_type": "code",
   "execution_count": null,
   "id": "73c125db-c4a6-4647-b992-43d5d87ebcc8",
   "metadata": {},
   "outputs": [],
   "source": [
    "%store -r URBAG_map\n",
    "%store -r Total_N_require\n",
    "%store -r Total_P2O5_require\n",
    "%store -r Total_K2O_require"
   ]
  },
  {
   "cell_type": "code",
   "execution_count": null,
   "id": "43d13323-74e6-46fb-b6c1-043e19584bd2",
   "metadata": {},
   "outputs": [],
   "source": [
    "len_URBAG_map= len(URBAG_map['Voronoi_1'])\n",
    "print(f\"This is the amount of plots in the map in this notebook: {len_URBAG_map}\")"
   ]
  },
  {
   "cell_type": "code",
   "execution_count": null,
   "id": "374e5bb3-b69a-4718-a7be-26520e487f91",
   "metadata": {},
   "outputs": [],
   "source": [
    "URBAG_map.keys()"
   ]
  },
  {
   "cell_type": "markdown",
   "id": "cc534973-4fc2-40e9-bd8f-bbd59da90014",
   "metadata": {},
   "source": [
    "## Inputs assumed to be Zero"
   ]
  },
  {
   "cell_type": "code",
   "execution_count": null,
   "id": "6eaa08f2-8068-4005-9c62-47cb60215455",
   "metadata": {
    "tags": []
   },
   "outputs": [],
   "source": [
    "#Filling parameters in the URBAG map for manure and residues, all are set to zero i.e. these inputs are not included.\n",
    "URBAG_map['Manure']=0\n",
    "URBAG_map['Manure_N']=0\n",
    "URBAG_map['Manure_P2O5']=0\n",
    "URBAG_map['Agriwaste_toField']=0\n",
    "URBAG_map['Agriwaste_burned']=0\n",
    "URBAG_map['N_agriwaste_to_field']=0"
   ]
  },
  {
   "cell_type": "markdown",
   "id": "1b05c8fd-d156-463f-b05a-9d9914dffdeb",
   "metadata": {},
   "source": [
    "# Determining N, P, K inputs from different sources"
   ]
  },
  {
   "cell_type": "markdown",
   "id": "c5299ed0-2b95-4ee3-a02e-6eeeb8820615",
   "metadata": {},
   "source": [
    "## Struvite"
   ]
  },
  {
   "cell_type": "markdown",
   "id": "8b23af4b-8c79-41e9-a86f-5259fb7d3dd5",
   "metadata": {
    "tags": []
   },
   "source": [
    "### Content of N and P in struvite\n",
    "\n",
    "According to Want et.al. (2023)\n",
    "\n",
    "    *kg P2O5 per kg MAP = 0.25\n",
    "    *kg N per kg MAP = 0.045\n",
    "\n",
    "ICTA struvite and ENRICH struvite too:\n",
    "\n",
    "    *kg P2O5 per kg MAP = 0.29\n",
    "    *kg N per kg MAP = 0.057"
   ]
  },
  {
   "cell_type": "code",
   "execution_count": null,
   "id": "319230d9-1b08-43d1-9e37-f363fc472ae4",
   "metadata": {
    "tags": []
   },
   "outputs": [],
   "source": [
    "kg_P_kg_MAP = 0.127\n",
    "kg_P2O5_kg_MAP = 0.29\n",
    "kg_MAP_kg_P2O5 = 1/0.29\n",
    "kg_N_kg_MAP = 0.057\n",
    "kg_MAP_kg_N = 1/0.057"
   ]
  },
  {
   "cell_type": "code",
   "execution_count": null,
   "id": "156e6a1d-0195-40b0-ae2c-057f0e818add",
   "metadata": {},
   "outputs": [],
   "source": [
    "tons_struvite_year = 2167"
   ]
  },
  {
   "cell_type": "code",
   "execution_count": null,
   "id": "3ca098d1-b926-4ea5-81f6-509b41b51981",
   "metadata": {},
   "outputs": [],
   "source": [
    "N_in_struvite = tons_struvite_year*kg_N_kg_MAP\n",
    "N_in_struvite"
   ]
  },
  {
   "cell_type": "code",
   "execution_count": null,
   "id": "b490d2eb-9ff3-4df3-bab2-43fcb6ccda5f",
   "metadata": {},
   "outputs": [],
   "source": [
    "P_in_struvite = tons_struvite_year*kg_P_kg_MAP\n",
    "P_in_struvite"
   ]
  },
  {
   "cell_type": "markdown",
   "id": "4c2e4182-a301-45b7-a3b9-f793a20d52e9",
   "metadata": {},
   "source": [
    "## Compost"
   ]
  },
  {
   "cell_type": "markdown",
   "id": "881ca147-cc20-4f99-a33a-eafb94c9bcc5",
   "metadata": {},
   "source": [
    "### Content of N, P, K in compost produced in the AMB\n",
    "\n",
    "See file under data/compost_inventory/Compost_Scenario_Data_JA\n",
    "\n",
    "N in compost = DM% * N content * Assimilation rate\n",
    "\n",
    "P in compost = DM% * P content * Assimilation rate\n",
    "\n",
    "K in compost = DM% * Kcontent * Assimilation rate\n",
    "\n",
    "Three compost production sites in AMB in 2016: \n",
    "\n",
    "    *Sant Cugat CP\n",
    "    *Torrelles CP\n",
    "    *Barcelina Zona Franca ECP"
   ]
  },
  {
   "cell_type": "code",
   "execution_count": null,
   "id": "3331461e-6c6e-41b7-950c-77078569fc39",
   "metadata": {},
   "outputs": [],
   "source": [
    "kg_N_kg_FMcompost_SantCugatCP = 0.789*0.025*0.4\n",
    "kg_P2O5_kg_FMcompost_SantCugatCP = 0.789*0.0057*0.95*(1/0.4364)\n",
    "kg_K2O_kg_FMcompost_SantCugatCP = 0.789*0.0129*0.95*1.21"
   ]
  },
  {
   "cell_type": "code",
   "execution_count": null,
   "id": "ae11bdd7-20b0-49a0-8671-1644242adca3",
   "metadata": {},
   "outputs": [],
   "source": [
    "kg_N_kg_FMcompost_TorrellesCP = 0.779*0.0284*0.4\n",
    "kg_P2O5_kg_FMcompost_TorrellesCP = 0.779*0.0064*0.95*(1/0.4364)\n",
    "kg_K2O_kg_FMcompost_TorrellesCP = 0.779*0.0195*0.95*1.21"
   ]
  },
  {
   "cell_type": "code",
   "execution_count": null,
   "id": "6189b228-7913-4cdc-869a-518b0daa3f28",
   "metadata": {},
   "outputs": [],
   "source": [
    "kg_N_kg_FMcompost_ZonaFrancaECP = 0.592*0.023*0.4\n",
    "kg_P2O5_kg_FMcompost_ZonaFrancaECP = 0.592*0.0197*0.95*(1/0.4364)\n",
    "kg_K2O_kg_FMcompost_ZonaFrancaECP = 0.592*0.0091*0.95*1.21"
   ]
  },
  {
   "cell_type": "code",
   "execution_count": null,
   "id": "2ce1c8d2-6f92-43f1-9746-b243afce5ca2",
   "metadata": {},
   "outputs": [],
   "source": [
    "kg_N_kg_DMcompost_SantCugatCP_2 = 0.025*0.4\n",
    "kg_N_kg_DMcompost_TorrellesCP_2 = 0.0284*0.4\n",
    "kg_N_kg_DMcompost_ZonaFrancaECP_2 = 0.023*0.4"
   ]
  },
  {
   "cell_type": "code",
   "execution_count": null,
   "id": "c57627bc-d5e3-456e-95a3-4bb3a75a6380",
   "metadata": {},
   "outputs": [],
   "source": [
    "kg_K2O_kg_DMcompost_SantCugatCP_2 = 0.0129*0.95*1.21\n",
    "kg_K2O_kg_DMcompost_TorrellesCP_2 = 0.0195*0.95*1.21\n",
    "kg_K2O_kg_DMcompost_ZonaFrancaECP_2 = 0.0091*0.95*1.21"
   ]
  },
  {
   "cell_type": "code",
   "execution_count": null,
   "id": "bbeb2e87-d77b-4c81-a269-66ad1d253e8d",
   "metadata": {},
   "outputs": [],
   "source": [
    "kg_compostDM_kg_N = 1/np.average([(kg_N_kg_DMcompost_SantCugatCP_2),(kg_N_kg_DMcompost_TorrellesCP_2),(kg_N_kg_DMcompost_ZonaFrancaECP_2)], weights=[0.21,0.15,0.64])\n",
    "kg_compostDM_kg_N"
   ]
  },
  {
   "cell_type": "code",
   "execution_count": null,
   "id": "6ab86fc3-7346-46b4-ae62-36ff01da04ad",
   "metadata": {},
   "outputs": [],
   "source": [
    "kg_compostDM_kg_K = 1/np.average([(kg_K2O_kg_DMcompost_SantCugatCP_2),(kg_K2O_kg_DMcompost_TorrellesCP_2),(kg_K2O_kg_DMcompost_ZonaFrancaECP_2)], weights=[0.21,0.15,0.64])\n",
    "kg_compostDM_kg_K"
   ]
  },
  {
   "cell_type": "markdown",
   "id": "df4b7f84-25eb-41bf-9332-686458f72b57",
   "metadata": {},
   "source": [
    "### Assumption of supply of compost nutrients per poligon\n",
    "\n",
    "As compost is a constrained resource and not all demand of N,P,K by crops in the AMB can be covered by locally produced compost: \n",
    "\n",
    "We assume that the % of nutrients supplied by compost for each poligon is equal to\n",
    "the total AMB compost production of N,P,K in the AMB over the total demand of N,P,K. \n",
    "\n",
    "In this way only a fraction of the demand is covered and the rest is assumed to be covered by mineral fertilizer."
   ]
  },
  {
   "cell_type": "code",
   "execution_count": null,
   "id": "0efe25a9-644f-4757-b0fa-9793eaa985b1",
   "metadata": {},
   "outputs": [],
   "source": [
    "#Tons of compost producted per plant in 2016 * Fractions of available nutrients to plants\n",
    "Total_NCompost_production_SantCugat = 1075.67*kg_N_kg_FMcompost_SantCugatCP\n",
    "Total_NCompost_production_Torrelles = 728.42*kg_N_kg_FMcompost_TorrellesCP\n",
    "Total_NCompost_production_ZonaFranca = 3212.56*kg_N_kg_FMcompost_ZonaFrancaECP\n",
    "Total_NCompost_production = Total_NCompost_production_SantCugat + Total_NCompost_production_Torrelles + Total_NCompost_production_ZonaFranca\n",
    "Total_NCompost_production #tons of N in compost per year"
   ]
  },
  {
   "cell_type": "code",
   "execution_count": null,
   "id": "94db3dac-1876-4e6a-a871-9955b80dd0d4",
   "metadata": {},
   "outputs": [],
   "source": [
    "Total_N_require"
   ]
  },
  {
   "cell_type": "code",
   "execution_count": null,
   "id": "b38033ae-e8bc-4ca4-8870-b778660ba19b",
   "metadata": {},
   "outputs": [],
   "source": [
    "#Tons N produced over tons N required by crops\n",
    "FracN_supplied_polygon = Total_NCompost_production/Total_N_require\n",
    "FracN_supplied_polygon"
   ]
  },
  {
   "cell_type": "code",
   "execution_count": null,
   "id": "14ed92f3-56ae-4d42-9bbf-0a0c241beaff",
   "metadata": {},
   "outputs": [],
   "source": [
    "#Tons of compost producted per plant in 2016 * Fractions of available nutrients to plants\n",
    "Total_P2O5Compost_production_SantCugat = 1075.67*kg_P2O5_kg_FMcompost_SantCugatCP\n",
    "Total_P2O5Compost_production_Torrelles = 728.42*kg_P2O5_kg_FMcompost_TorrellesCP\n",
    "Total_P2O5Compost_production_ZonaFranca = 3212.56*kg_P2O5_kg_FMcompost_ZonaFrancaECP\n",
    "Total_P2O5Compost_production = Total_P2O5Compost_production_SantCugat + Total_P2O5Compost_production_Torrelles + Total_P2O5Compost_production_ZonaFranca\n",
    "Total_P2O5Compost_production"
   ]
  },
  {
   "cell_type": "code",
   "execution_count": null,
   "id": "6c257abb-7cac-48a1-9ad1-43b1b2f3dc75",
   "metadata": {},
   "outputs": [],
   "source": [
    "#Check cell (should be similar to input data in P i.e. 45.94 FInal compost P available (t))\n",
    "Total_P2O5Compost_production*0.4364"
   ]
  },
  {
   "cell_type": "code",
   "execution_count": null,
   "id": "147282ce-a3dc-4f82-9f9a-e03aaba911fa",
   "metadata": {},
   "outputs": [],
   "source": [
    "Total_P2O5_require"
   ]
  },
  {
   "cell_type": "code",
   "execution_count": null,
   "id": "362b9454-77b2-4eea-be16-1b86898e0e25",
   "metadata": {},
   "outputs": [],
   "source": [
    "#Tons P2O5 produced over tons P2O5 required by crops\n",
    "FracP2O5_supplied_polygon = Total_P2O5Compost_production/Total_P2O5_require\n",
    "FracP2O5_supplied_polygon"
   ]
  },
  {
   "cell_type": "code",
   "execution_count": null,
   "id": "8a25c28d-a14a-4864-b87e-1aba095de37f",
   "metadata": {},
   "outputs": [],
   "source": [
    "#Tons of compost producted per plant in 2016 * Fractions of available nutrients to plants\n",
    "Total_K2OCompost_production_SantCugat = 1075.67*kg_K2O_kg_FMcompost_SantCugatCP\n",
    "Total_K2OCompost_production_Torrelles = 728.42*kg_K2O_kg_FMcompost_TorrellesCP\n",
    "Total_K2OCompost_production_ZonaFranca = 3212.56*kg_K2O_kg_FMcompost_ZonaFrancaECP\n",
    "Total_K2OCompost_production = Total_K2OCompost_production_SantCugat + Total_K2OCompost_production_Torrelles + Total_K2OCompost_production_ZonaFranca\n",
    "Total_K2OCompost_production"
   ]
  },
  {
   "cell_type": "code",
   "execution_count": null,
   "id": "1d60b916-643a-4b88-af50-375595f8fba7",
   "metadata": {},
   "outputs": [],
   "source": [
    "#Check cell (should be similar to input data in K i.e. 37.35 FInal compost K available (t))\n",
    "Total_K2OCompost_production*(1/1.21)"
   ]
  },
  {
   "cell_type": "code",
   "execution_count": null,
   "id": "4ce2f696-12b7-4945-8fdf-899267a56120",
   "metadata": {},
   "outputs": [],
   "source": [
    "Total_K2O_require"
   ]
  },
  {
   "cell_type": "code",
   "execution_count": null,
   "id": "6e012a61-a77b-469e-bf8b-c20cad752535",
   "metadata": {},
   "outputs": [],
   "source": [
    "#Tons K2O produced over tons K2O required by crops\n",
    "FracK2O_supplied_polygon = Total_K2OCompost_production/Total_K2O_require\n",
    "FracK2O_supplied_polygon"
   ]
  },
  {
   "cell_type": "markdown",
   "id": "fe40c159-fe44-4e06-8466-0f7054cd131c",
   "metadata": {},
   "source": [
    "## Recovered ammonium salts"
   ]
  },
  {
   "cell_type": "markdown",
   "id": "8125d89d-372a-4bfe-b731-483141f8592c",
   "metadata": {},
   "source": [
    "### Assumption of supply of nitrogen from ammonium salts from WWTP per poligon\n",
    "\n",
    "Similar to compost ammonium salts supply of N is constrained. Therefore we assume: \n",
    "\n",
    "We assume that the % of nitrogen supplied by ammonium salts for each poligon is equal to\n",
    "the total Llobregat WWTP N in ammonium salts production over the total demand of N. \n",
    "\n",
    "In this way only a fraction of the demand is covered and the rest is assumed to be covered by mineral fertilizer.\n",
    "\n",
    "The productions used are:\n",
    "\n",
    "Struvite (tons/yr) > N content 5.7% and P content 12.7% / P2O5 content 29%\n",
    "\n",
    "    - Fertilizer = 2167\n",
    "    - P = 274\n",
    "    - N = 123.83\n",
    "\n",
    "Ammonium salts (tons/yr) > N content 18.8%\n",
    "\n",
    "    - Fertilizer = 3475\n",
    "    - P = 0\n",
    "    - N = 654"
   ]
  },
  {
   "cell_type": "code",
   "execution_count": null,
   "id": "d1038161-ee28-4527-b018-4c1b20948590",
   "metadata": {},
   "outputs": [],
   "source": [
    "tons_ammonium_sulphate_year = 2816"
   ]
  },
  {
   "cell_type": "code",
   "execution_count": null,
   "id": "a01fef26-a32f-45f7-9500-3977ce1374da",
   "metadata": {},
   "outputs": [],
   "source": [
    "N_content_ammonium_sulphate = 0.188"
   ]
  },
  {
   "cell_type": "code",
   "execution_count": null,
   "id": "9eeb15aa-f8d7-4738-9547-d8e33ab81838",
   "metadata": {},
   "outputs": [],
   "source": [
    "N_in_ammonium_salts_year = (tons_ammonium_sulphate_year*N_content_ammonium_sulphate)-N_in_struvite\n",
    "N_in_ammonium_salts_year"
   ]
  },
  {
   "cell_type": "code",
   "execution_count": null,
   "id": "42e72d37-260d-4853-8fdc-ffdbc655f3d7",
   "metadata": {},
   "outputs": [],
   "source": [
    "FracN_supplied_polygon_ammon_salts = N_in_ammonium_salts_year/Total_N_require\n",
    "FracN_supplied_polygon_ammon_salts"
   ]
  },
  {
   "cell_type": "markdown",
   "id": "273d3221-77d0-492f-8c9d-f61d9c122b3a",
   "metadata": {
    "tags": []
   },
   "source": [
    "## Inputs of: Mineral Fertilizers, struvite and compost per scenario"
   ]
  },
  {
   "cell_type": "markdown",
   "id": "4f74d9c5-664c-4914-bb19-d785d3355ce6",
   "metadata": {},
   "source": [
    "### Phosphorus "
   ]
  },
  {
   "cell_type": "code",
   "execution_count": null,
   "id": "5ab8e113-e179-4459-8956-5b10f046d9fc",
   "metadata": {},
   "outputs": [],
   "source": [
    "#Defining key variable for phosphorus inputs\n",
    "if scen == 'S0_MinFert':    \n",
    "    Mineral_fert_P2O5      = URBAG_map['kgP2O5/ha'] #Total P demand from mineral fertilizers application (kg P2O5/ha)\n",
    "    Struvite_P2O5          = np.repeat(0, len_URBAG_map) #No struvite in Minfert scenario\n",
    "    Compost_P2O5           = np.repeat(0, len_URBAG_map) #No compost in Minfert scenario\n",
    "elif scen == 'S0_struvite_P':\n",
    "    Mineral_fert_P2O5      = pd.Series(np.repeat(0, len_URBAG_map)) #No P mineral fertilizer in struvite P scenario\n",
    "    Struvite_P2O5          = URBAG_map['kgP2O5/ha'] #Total P demand covered with struvite (kg P2O5/ha)\n",
    "    Compost_P2O5           = pd.Series(np.repeat(0, len_URBAG_map)) #No P from compost in struvite scenario\n",
    "elif scen == 'S0_compost':\n",
    "    Mineral_fert_P2O5      = URBAG_map['kgP2O5/ha'] * (1-FracP2O5_supplied_polygon) #Difference not supplied from compost supplied from mineral fert (kg P2O5/ha)\n",
    "    Struvite_P2O5          = pd.Series(np.repeat(0, len_URBAG_map)) #No P from struvite in compost scenario\n",
    "    Compost_P2O5           = URBAG_map['kgP2O5/ha'] * FracP2O5_supplied_polygon #Total P demand supplied from compost, same fraction assumed for all polygons (kg P2O5/ha)\n",
    "elif scen == 'S0_Ammon_salts':\n",
    "    Mineral_fert_P2O5      = pd.Series(np.repeat(0, len_URBAG_map)) #No P from mineral fertilizer in ammonium salts scenario\n",
    "    Struvite_P2O5          = URBAG_map['kgP2O5/ha'] #Total P demand covered with struvite (kg P2O5/ha)\n",
    "    Compost_P2O5           = pd.Series(np.repeat(0, len_URBAG_map)) #No P from mineral fertilizer in ammonium salts scenario\n",
    "else:\n",
    "    pass"
   ]
  },
  {
   "cell_type": "code",
   "execution_count": null,
   "id": "bf9fa498-9665-4ba2-a9f3-841fa28d85ee",
   "metadata": {},
   "outputs": [],
   "source": [
    "#Min, Max, average kg of nutrient per ha in selected scenario and lenght of data should be equal to total plots\n",
    "d = {'P2O5_min': [np.min(Mineral_fert_P2O5), np.min(Struvite_P2O5), np.min(Compost_P2O5), 0], \n",
    "     'P2O5_max': [np.max(Mineral_fert_P2O5), np.max(Struvite_P2O5), np.max(Compost_P2O5), 0],\n",
    "     'P2O5_average': [np.average(Mineral_fert_P2O5), np.average(Struvite_P2O5), np.average(Compost_P2O5), 0],\n",
    "     'plots': [len(Mineral_fert_P2O5), len(Struvite_P2O5), len(Compost_P2O5), len(Struvite_P2O5)],\n",
    "    }\n",
    "df = pd.DataFrame(data=d, index=[\"MinFert\", \"Struvite\",\"Compost\",\"Ammon_salts\"])\n",
    "df"
   ]
  },
  {
   "cell_type": "code",
   "execution_count": null,
   "id": "f32db693-531d-4a4f-9b72-b1c8fc8c2d7f",
   "metadata": {},
   "outputs": [],
   "source": [
    "#Inputs for mineral fert, struvite and compost for each plot\n",
    "d1 = {'P2O5_MinFert': Mineral_fert_P2O5, \n",
    "     'P2O5_Struvite': Struvite_P2O5,\n",
    "     'P2O5_Compost': Compost_P2O5,\n",
    "     'P2O5_Ammon_salts': 0,\n",
    "    }\n",
    "df1 = pd.DataFrame(data=d1)\n",
    "df1"
   ]
  },
  {
   "cell_type": "code",
   "execution_count": null,
   "id": "616684f2-8dc3-431d-950e-f7d425e3034b",
   "metadata": {},
   "outputs": [],
   "source": [
    "sns.set()"
   ]
  },
  {
   "cell_type": "code",
   "execution_count": null,
   "id": "07bdc7a1-37b4-4c7a-8362-516e12ab9882",
   "metadata": {},
   "outputs": [],
   "source": [
    "sns.boxplot(data=df1)\n",
    "plt.title('Inputs of P - kg P2O5 per ha yr')"
   ]
  },
  {
   "cell_type": "markdown",
   "id": "4c8a389b-cef9-4c22-ad72-a21d82f7d362",
   "metadata": {},
   "source": [
    "### Nitrogen"
   ]
  },
  {
   "cell_type": "code",
   "execution_count": null,
   "id": "0b0576eb-b158-4f01-b8d1-f009fcd28ac4",
   "metadata": {},
   "outputs": [],
   "source": [
    "#Defining key variables for nitrogen inputs\n",
    "if scen == 'S0_MinFert':    \n",
    "    Mineral_fert_N      = URBAG_map['kgN/ha'] #Total N demand from mineral fertilizers application (kg N/ha)\n",
    "    Struvite_N          = np.repeat(0, len_URBAG_map) #No N from struvite in Minfert scenario\n",
    "    Compost_N           = np.repeat(0, len_URBAG_map) #No N from compost in Minfert scenario\n",
    "    Ammonium_salts      = np.repeat(0, len_URBAG_map) #No N from compost in Minfert scenario\n",
    "elif scen == 'S0_struvite_P':\n",
    "    Mineral_fert_N      = URBAG_map['kgN/ha'] - (URBAG_map['kgP2O5/ha']*kg_MAP_kg_P2O5*kg_N_kg_MAP) #Difference of total N demand minus N covered by struvite to cover P (kg N/ha)\n",
    "    Struvite_N          = URBAG_map['kgP2O5/ha']*kg_MAP_kg_P2O5*kg_N_kg_MAP #N demand covered by supply of struvite to cover P given N content of struvite (kg N/ha)\n",
    "    Compost_N           = pd.Series(np.repeat(0, len_URBAG_map)) #No N from compost in struvite scenario\n",
    "    Ammonium_salts      = np.repeat(0, len_URBAG_map) #No N from compost in Minfert scenario\n",
    "elif scen == 'S0_compost':\n",
    "    Mineral_fert_N      = URBAG_map['kgN/ha']* (1-FracN_supplied_polygon) #Total N demand not supplied from compost supplied by MinFert (kg N/ha)\n",
    "    Struvite_N          = pd.Series(np.repeat(0, len_URBAG_map)) #No N from struvite in compost scenario\n",
    "    Compost_N           = URBAG_map['kgN/ha']*FracN_supplied_polygon #Total N demand supplied from compost, same fraction assumed for all polygons (kg N/ha)\n",
    "    Ammonium_salts      = np.repeat(0, len_URBAG_map) #No N from compost in Minfert scenario\n",
    "if scen == 'S0_Ammon_salts':    \n",
    "    Mineral_fert_N      = (URBAG_map['kgN/ha'] - (URBAG_map['kgP2O5/ha']*kg_MAP_kg_P2O5*kg_N_kg_MAP))* (1-FracN_supplied_polygon_ammon_salts) #Total N demand minus what comes from struvite times fraction not covered from ammonium salts from mineral fertilizers application (kg N/ha)\n",
    "    Struvite_N          = URBAG_map['kgP2O5/ha']*kg_MAP_kg_P2O5*kg_N_kg_MAP #N demand covered by supply of struvite to cover P given N content of struvite (kg N/ha)\n",
    "    Compost_N           = np.repeat(0, len_URBAG_map) #No N from compost in Minfert scenario\n",
    "    Ammonium_salts      = (URBAG_map['kgN/ha'] - (URBAG_map['kgP2O5/ha']*kg_MAP_kg_P2O5*kg_N_kg_MAP))* FracN_supplied_polygon_ammon_salts #Total N demand minus what comes from struvite times fraction covered from ammonium salts (kg N/ha)\n",
    "else:\n",
    "    pass"
   ]
  },
  {
   "cell_type": "code",
   "execution_count": null,
   "id": "f9567c28-d409-4278-8a86-816988a51f1e",
   "metadata": {},
   "outputs": [],
   "source": [
    "#Min, Max, average kg of nutrient per ha in selected scenario and lenght of data should be equal to total plots\n",
    "d2 = {'N_min': [np.min(Mineral_fert_N), np.min(Struvite_N), np.min(Compost_N), np.min(Ammonium_salts)], \n",
    "     'N_max': [np.max(Mineral_fert_N), np.max(Struvite_N), np.max(Compost_N), np.max(Ammonium_salts)],\n",
    "     'N_average': [np.average(Mineral_fert_N), np.average(Struvite_N), np.average(Compost_N), np.average(Ammonium_salts)],\n",
    "     'plots': [len(Mineral_fert_N), len(Struvite_N), len(Compost_N), len(Ammonium_salts)],\n",
    "    }\n",
    "df2 = pd.DataFrame(data=d2, index=[\"MinFert\", \"Struvite\",\"Compost\",\"Ammon_salts\"])\n",
    "df2"
   ]
  },
  {
   "cell_type": "code",
   "execution_count": null,
   "id": "13caf962-2f7a-4cac-8e06-d8bb3ef2c584",
   "metadata": {},
   "outputs": [],
   "source": [
    "d3 = {'N_MinFert': Mineral_fert_N, \n",
    "     'N_Struvite': Struvite_N,\n",
    "     'N_Compost': Compost_N,\n",
    "      'N_Ammon_salts': Ammonium_salts,\n",
    "    }\n",
    "df3 = pd.DataFrame(data=d3)\n",
    "df3"
   ]
  },
  {
   "cell_type": "code",
   "execution_count": null,
   "id": "30ba1244-79d4-48c0-a44c-c3ba8d455ab0",
   "metadata": {},
   "outputs": [],
   "source": [
    "sns.boxplot(data=df3, showfliers=False)\n",
    "plt.title('Inputs of N - kg N per ha yr')"
   ]
  },
  {
   "cell_type": "markdown",
   "id": "021e305e-a324-470f-96cf-63f0ef2ed37a",
   "metadata": {},
   "source": [
    "### Potassium"
   ]
  },
  {
   "cell_type": "code",
   "execution_count": null,
   "id": "59dfcb9d-901a-4315-be3a-aac2f3e24563",
   "metadata": {},
   "outputs": [],
   "source": [
    "#Defining key variables for potassium inputs\n",
    "if scen == 'S0_MinFert':    \n",
    "    Mineral_fert_K2O      = URBAG_map['kgK2O/ha'] #Total K demand from mineral fertilizers application (kg K2O/ha)\n",
    "    Struvite_K2O          = np.repeat(0, len_URBAG_map) #No K from struvite in Minfert scenario\n",
    "    Compost_K2O           = np.repeat(0, len_URBAG_map) #No K from compost in Minfert scenario\n",
    "elif scen == 'S0_struvite_P':\n",
    "    Mineral_fert_K2O      = URBAG_map['kgK2O/ha'] #otal K demand from mineral fertilizers application in struvite scenario as no K in struvite (kg K2O/ha)\n",
    "    Struvite_K2O          = pd.Series(np.repeat(0, len_URBAG_map)) #No K from struvite in struvite scenario\n",
    "    Compost_K2O           = pd.Series(np.repeat(0, len_URBAG_map)) #No K from compost in struvite scenario\n",
    "elif scen == 'S0_compost':\n",
    "    Mineral_fert_K2O      = URBAG_map['kgK2O/ha']*(1-FracK2O_supplied_polygon) #Total K demand not supplied from compost supplied by MinFert (kg K2O/ha)\n",
    "    Struvite_K2O          = pd.Series(np.repeat(0, len_URBAG_map)) #No K from struvite in compost scenario\n",
    "    Compost_K2O           = URBAG_map['kgK2O/ha']*FracK2O_supplied_polygon #Total K demand supplied from compost, same fraction assumed for all polygons (kg K2O/ha)\n",
    "if scen == 'S0_Ammon_salts':    \n",
    "    Mineral_fert_K2O      = URBAG_map['kgK2O/ha'] #Total K demand from mineral fertilizers application (kg K2O/ha)\n",
    "    Struvite_K2O          = np.repeat(0, len_URBAG_map) #No K from struvite in Minfert scenario\n",
    "    Compost_K2O           = np.repeat(0, len_URBAG_map) #No K from compost in Minfert scenario\n",
    "else:\n",
    "    pass"
   ]
  },
  {
   "cell_type": "code",
   "execution_count": null,
   "id": "e48c2db4-637b-4463-b233-f50709a8e476",
   "metadata": {},
   "outputs": [],
   "source": [
    "#Min, Max, average kg of nutrient per ha in selected scenario and lenght of data should be equal to total plots\n",
    "d4 = {'K_min': [np.min(Mineral_fert_K2O), np.min(Struvite_K2O), np.min(Compost_K2O), 0], \n",
    "     'K_max' : [np.max(Mineral_fert_K2O), np.max(Struvite_K2O), np.max(Compost_K2O), 0],\n",
    "     'K_average': [np.average(Mineral_fert_K2O), np.average(Struvite_K2O), np.average(Compost_K2O), 0],\n",
    "     'plots': [len(Mineral_fert_K2O), len(Struvite_K2O), len(Compost_K2O), len(Struvite_K2O)],\n",
    "    }\n",
    "df4 = pd.DataFrame(data=d4, index=[\"MinFert\", \"Struvite\",\"Compost\",\"Ammon_salts\"])\n",
    "df4"
   ]
  },
  {
   "cell_type": "code",
   "execution_count": null,
   "id": "a33ca637-060b-478a-b4d5-622b381d2778",
   "metadata": {},
   "outputs": [],
   "source": [
    "d5 = {'K2O_MinFert': Mineral_fert_K2O, \n",
    "     'K2O_Struvite': Struvite_K2O,\n",
    "     'K2O_Compost': Compost_K2O,\n",
    "      'K2O_Ammon_salts': 0,\n",
    "    }\n",
    "df5 = pd.DataFrame(data=d5)\n",
    "df5"
   ]
  },
  {
   "cell_type": "code",
   "execution_count": null,
   "id": "a3788172-5642-4ee2-b7f8-efb1e686c614",
   "metadata": {},
   "outputs": [],
   "source": [
    "sns.boxplot(data=df5, showfliers=True)\n",
    "plt.title('Inputs of K - kg K2O per ha yr')"
   ]
  },
  {
   "cell_type": "markdown",
   "id": "18906c6c-ced5-4fb4-bb0e-8201ccd3e801",
   "metadata": {},
   "source": [
    "### Variables for Manure and residues"
   ]
  },
  {
   "cell_type": "code",
   "execution_count": null,
   "id": "d7d3731d-5f6e-48a4-b519-4c82b7f2817e",
   "metadata": {
    "tags": []
   },
   "outputs": [],
   "source": [
    "Manure_N = URBAG_map['Manure_N']\n",
    "Manure_N"
   ]
  },
  {
   "cell_type": "code",
   "execution_count": null,
   "id": "152fb3e7-39e9-4215-a182-9d4acad4e3b5",
   "metadata": {},
   "outputs": [],
   "source": [
    "N_agriwaste_to_field = URBAG_map['N_agriwaste_to_field']\n",
    "N_agriwaste_to_field"
   ]
  },
  {
   "cell_type": "code",
   "execution_count": null,
   "id": "cdf75883-02c9-4263-a4c3-07f11bc7b904",
   "metadata": {},
   "outputs": [],
   "source": [
    "Manure_P2O5 = URBAG_map['Manure_P2O5']\n",
    "Manure_P2O5"
   ]
  },
  {
   "cell_type": "code",
   "execution_count": null,
   "id": "71b82af6-a415-490e-886f-0a1a7c2b9d71",
   "metadata": {},
   "outputs": [],
   "source": [
    "URBAG_map.keys()"
   ]
  },
  {
   "cell_type": "code",
   "execution_count": null,
   "id": "0cd42331-8aa0-4c3b-924d-80c20b63e16b",
   "metadata": {},
   "outputs": [],
   "source": [
    "URBAG_map.loc[URBAG_map['Fid']==547]"
   ]
  },
  {
   "cell_type": "code",
   "execution_count": null,
   "id": "007d15ba-c8a5-4ed3-a65f-2a3bfc6d47db",
   "metadata": {},
   "outputs": [],
   "source": [
    "Mineral_fert_P2O5.loc[Mineral_fert_P2O5.index==547]"
   ]
  },
  {
   "cell_type": "markdown",
   "id": "29c50e21-4f45-4193-987c-ce1a872bbf45",
   "metadata": {},
   "source": [
    "## Saving outputs"
   ]
  },
  {
   "cell_type": "code",
   "execution_count": null,
   "id": "0f881413-c9af-4e88-b386-a52f6863ba13",
   "metadata": {},
   "outputs": [],
   "source": [
    "#Variables for next notebook\n",
    "%store URBAG_map\n",
    "\n",
    "%store Mineral_fert_N\n",
    "%store Mineral_fert_P2O5\n",
    "%store Mineral_fert_K2O\n",
    "%store Ammonium_salts\n",
    "\n",
    "%store Struvite_N\n",
    "%store Struvite_P2O5\n",
    "%store Struvite_K2O\n",
    "\n",
    "%store Compost_N\n",
    "%store Compost_P2O5\n",
    "%store Compost_K2O\n",
    "\n",
    "%store Manure_N\n",
    "%store Manure_P2O5\n",
    "\n",
    "%store N_agriwaste_to_field"
   ]
  },
  {
   "cell_type": "code",
   "execution_count": null,
   "id": "911b9720-33c9-4a6e-b8f4-d0f0e9b192e9",
   "metadata": {},
   "outputs": [],
   "source": []
  }
 ],
 "metadata": {
  "kernelspec": {
   "display_name": "Python 3 (ipykernel)",
   "language": "python",
   "name": "python3"
  },
  "language_info": {
   "codemirror_mode": {
    "name": "ipython",
    "version": 3
   },
   "file_extension": ".py",
   "mimetype": "text/x-python",
   "name": "python",
   "nbconvert_exporter": "python",
   "pygments_lexer": "ipython3",
   "version": "3.11.8"
  }
 },
 "nbformat": 4,
 "nbformat_minor": 5
}
