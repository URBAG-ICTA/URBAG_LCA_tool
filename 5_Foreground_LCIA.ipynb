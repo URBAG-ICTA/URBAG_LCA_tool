{
 "cells": [
  {
   "cell_type": "markdown",
   "metadata": {},
   "source": [
    "# Foreground LCIA"
   ]
  },
  {
   "cell_type": "markdown",
   "metadata": {},
   "source": [
    "This notebook calculates the direct impacts using emission factors for onsite emissions. These are regionalized for eutrophication impacts."
   ]
  },
  {
   "cell_type": "code",
   "execution_count": null,
   "metadata": {},
   "outputs": [],
   "source": [
    "import pandas as pd\n",
    "import numpy as np\n",
    "import matplotlib.pyplot as plt\n",
    "import seaborn as sns"
   ]
  },
  {
   "cell_type": "code",
   "execution_count": null,
   "metadata": {},
   "outputs": [],
   "source": [
    "#In this cell the scenario is chosen. This can either be defined here or in the RUN_ALL.ipynb\n",
    "#If defined here unmark the scen = line and select the scenario you will run.\n",
    "#If defined in RUN_ALL.ipynb unmark the %store -r scen line.\n",
    "#Scenario names are:\n",
    "#S0_MinFert > N,P,K demand met by mineral fertilizers only\n",
    "#S0_struvite_P > P demand met by struvite, N demand met by struvite and mineral fertilizer and K demand met by mineral fertilizer\n",
    "#S0_compost > N,P,K supplied by compost produced in the AMB, remaining N,P,K demand met by mineral fertilizer\n",
    "#S0_Ammon_salts > N supplied from recovered ammonium salts and from mineral fertilizers, P from struvite and K from mineral fertilizer\n",
    "scen = 'S0_MinFert'\n",
    "#%store -r scen"
   ]
  },
  {
   "cell_type": "code",
   "execution_count": null,
   "metadata": {},
   "outputs": [],
   "source": [
    "print(scen)"
   ]
  },
  {
   "cell_type": "code",
   "execution_count": null,
   "metadata": {},
   "outputs": [],
   "source": [
    "%store -r d_conv_emiss\n",
    "%store -r URBAG_map"
   ]
  },
  {
   "cell_type": "markdown",
   "metadata": {},
   "source": [
    "## Emission factors"
   ]
  },
  {
   "cell_type": "code",
   "execution_count": null,
   "metadata": {},
   "outputs": [],
   "source": [
    "#Emission factors for direct emissions according to ReCiPe v1.13 (H) + Regionalized eutrophication CFs for Besos and Llobregat\n",
    "CFs_foreground_impacts = pd.read_excel(\"inputs/CFs_foreground_impacts.xlsx\")\n",
    "CFs_foreground_impacts"
   ]
  },
  {
   "cell_type": "code",
   "execution_count": null,
   "metadata": {},
   "outputs": [],
   "source": [
    "CFs_foreground_impacts.keys()"
   ]
  },
  {
   "cell_type": "code",
   "execution_count": null,
   "metadata": {
    "tags": []
   },
   "outputs": [],
   "source": [
    "CO2_CFs   = CFs_foreground_impacts[(CFs_foreground_impacts.env_flow_foreground == 'carbon_dioxide_to_air')]\n",
    "CH4_CFs   = CFs_foreground_impacts[(CFs_foreground_impacts.env_flow_foreground == 'methane_to_air')]\n",
    "N2O_CFs   = CFs_foreground_impacts[(CFs_foreground_impacts.env_flow_foreground == 'dinitrogen_monoxide_to_air')]\n",
    "NO3_CFs   = CFs_foreground_impacts[(CFs_foreground_impacts.env_flow_foreground == 'nitrate_to_water')]\n",
    "N_CFs     = CFs_foreground_impacts[(CFs_foreground_impacts.env_flow_foreground == 'nitrogen_to_water')]\n",
    "PO43_CFs  = CFs_foreground_impacts[(CFs_foreground_impacts.env_flow_foreground == 'phosphate_to_water')]\n",
    "P_CFs     = CFs_foreground_impacts[(CFs_foreground_impacts.env_flow_foreground == 'phosphorus_to_water')]\n",
    "water_CFs = CFs_foreground_impacts[(CFs_foreground_impacts.env_flow_foreground == 'water')]"
   ]
  },
  {
   "cell_type": "markdown",
   "metadata": {},
   "source": [
    "### LCIA Methods: Family and version, Name, Unit, # of CFsS\n"
   ]
  },
  {
   "cell_type": "markdown",
   "metadata": {},
   "source": [
    "- IPCC 2021, climate change, global warming potential (GWP100)\tkg CO2-Eq\t226  >>> N2O, CO2, CH4 to air\n",
    "- ReCiPe 2016 v1.03, midpoint (H), eutrophication: marine, marine eutrophication potential (MEP)\tkg N-Eq\t22 >>> Nitrate to water\n",
    "- ReCiPe 2016 v1.03, midpoint (H), eutrophication: freshwater, freshwater eutrophication potential (FEP)\tkg P-Eq\t13 >>> Phosphate to water\n",
    "- ReCiPe 2016 v1.03, midpoint (H), water use, water consumption potential (WCP) m3 of water consumed/m3 water extracted 5 >>> Water Extraction \n",
    "- CML v4.8 2016, material resources: metals/minerals, abiotic depletion potential (ADP): elements (ultimate reserves)\tkg Sb-Eq\t129 >> NO DIRECT EMISSIONS"
   ]
  },
  {
   "cell_type": "markdown",
   "metadata": {},
   "source": [
    "#### WCP - Midpoint level ReCiPe"
   ]
  },
  {
   "cell_type": "markdown",
   "metadata": {},
   "source": [
    "Water extraction, is the withdrawal of water from surface water bodies or the abstraction of groundwater from aquifer. It is the total amount of water withdrawn, irrespective of\n",
    "return flows to the water bodies or water use efficiencies.\n",
    "Water consumption, on the other hand is the amount of water that the watershed of origin is losing.\n",
    "- CF is:\n",
    "    - 1 if inventory is in water consumption\n",
    "    - water requirement ratio (Spain 0,6; world-agriculture 0.44) if inventory is in water extraction\n",
    "      "
   ]
  },
  {
   "cell_type": "code",
   "execution_count": null,
   "metadata": {},
   "outputs": [],
   "source": [
    "d_conv_emiss.keys()"
   ]
  },
  {
   "cell_type": "code",
   "execution_count": null,
   "metadata": {},
   "outputs": [],
   "source": [
    "URBAG_map.keys().values"
   ]
  },
  {
   "cell_type": "code",
   "execution_count": null,
   "metadata": {},
   "outputs": [],
   "source": [
    "pd.unique(URBAG_map['CUENCA'])"
   ]
  },
  {
   "cell_type": "code",
   "execution_count": null,
   "metadata": {},
   "outputs": [],
   "source": [
    "URBAG_map[\"Cuencas\"] = 0"
   ]
  },
  {
   "cell_type": "code",
   "execution_count": null,
   "metadata": {},
   "outputs": [],
   "source": [
    "URBAG_map[\"Cuencas\"][URBAG_map['CUENCA'].str.contains(\"Maresme\")] = \"Besos\"\n",
    "URBAG_map[\"Cuencas\"][URBAG_map['CUENCA'].str.contains(\"Besos\")]   = \"Besos\"\n",
    "URBAG_map[\"Cuencas\"][URBAG_map['CUENCA'].str.contains(\"Llobregat\")]       = \"Llobregat\"\n",
    "URBAG_map[\"Cuencas\"][URBAG_map['CUENCA'].str.contains(\"CiutatBarcelona\")] = \"Llobregat\"\n",
    "URBAG_map[\"Cuencas\"][URBAG_map['CUENCA'].str.contains(\"Garraf\")]          = \"Llobregat\""
   ]
  },
  {
   "cell_type": "code",
   "execution_count": null,
   "metadata": {},
   "outputs": [],
   "source": [
    "pd.unique(URBAG_map[\"Cuencas\"])"
   ]
  },
  {
   "cell_type": "markdown",
   "metadata": {},
   "source": [
    "### Direct impacts"
   ]
  },
  {
   "cell_type": "markdown",
   "metadata": {},
   "source": [
    "#### N2O foreground impacts"
   ]
  },
  {
   "cell_type": "code",
   "execution_count": null,
   "metadata": {
    "tags": []
   },
   "outputs": [],
   "source": [
    "#kg CO2eq per ha yr\n",
    "URBAG_map['GWP100_IPCC_N2O'] = d_conv_emiss['N2O_total_air'].values * N2O_CFs.loc[N2O_CFs['impact_cat']=='climate_IPCC']['CF_recipe'].values"
   ]
  },
  {
   "cell_type": "markdown",
   "metadata": {},
   "source": [
    "#### CO2 foreground impacts"
   ]
  },
  {
   "cell_type": "code",
   "execution_count": null,
   "metadata": {},
   "outputs": [],
   "source": [
    "#kg CO2eq per ha yr\n",
    "URBAG_map['GWP100_IPCC_CO2'] = d_conv_emiss['CO2_total_air'].values * CO2_CFs.loc[CO2_CFs['impact_cat']=='climate_IPCC']['CF_recipe'].values"
   ]
  },
  {
   "cell_type": "markdown",
   "metadata": {},
   "source": [
    "#### CH4 foreground impacts"
   ]
  },
  {
   "cell_type": "code",
   "execution_count": null,
   "metadata": {},
   "outputs": [],
   "source": [
    "#kg CO2eq per ha yr\n",
    "URBAG_map['GWP100_IPCC_CH4'] = d_conv_emiss['CH4_burnwaste_air'].values * CH4_CFs.loc[CH4_CFs['impact_cat']=='climate_IPCC']['CF_recipe'].values"
   ]
  },
  {
   "cell_type": "markdown",
   "metadata": {},
   "source": [
    "#### NO3- foreground impacts"
   ]
  },
  {
   "cell_type": "code",
   "execution_count": null,
   "metadata": {},
   "outputs": [],
   "source": [
    "#kg Neq per ha yr\n",
    "URBAG_map['ME_NO3'] = d_conv_emiss['NO3_total'].values * NO3_CFs.loc[NO3_CFs['impact_cat']=='marine_eutroph']['CF_recipe'].values"
   ]
  },
  {
   "cell_type": "code",
   "execution_count": null,
   "metadata": {},
   "outputs": [],
   "source": [
    "#kg Neq per ha yr\n",
    "cond1 = URBAG_map['Cuencas'] == 'Llobregat' \n",
    "cond2 = URBAG_map['Cuencas'] == 'Besos'\n",
    "\n",
    "#For plots in condition 1: Midpoint regionalised impacts are\n",
    "URBAG_map.loc[URBAG_map.index[cond1],'ME_NO3_Reg'] = d_conv_emiss.loc[d_conv_emiss.index[cond1],'NO3_total'].values * NO3_CFs.loc[NO3_CFs['impact_cat']=='marine_eutroph']['CF_Llobregat_midpoint'].values\n",
    "\n",
    "#For plots in condition 2: Midpoint regionalised impacts are\n",
    "URBAG_map.loc[URBAG_map.index[cond2],'ME_NO3_Reg'] = d_conv_emiss.loc[d_conv_emiss.index[cond2],'NO3_total'].values * NO3_CFs.loc[NO3_CFs['impact_cat']=='marine_eutroph']['CF_Besòs_midpoint'].values"
   ]
  },
  {
   "cell_type": "markdown",
   "metadata": {},
   "source": [
    "#### PO43- foreground impacts"
   ]
  },
  {
   "cell_type": "code",
   "execution_count": null,
   "metadata": {},
   "outputs": [],
   "source": [
    "#kg Peq per ha yr\n",
    "URBAG_map['FE_PO43'] = d_conv_emiss['PO43_runoff_water_total'].values * PO43_CFs.loc[PO43_CFs['impact_cat']=='Freshwater_eutroph']['CF_recipe'].values"
   ]
  },
  {
   "cell_type": "code",
   "execution_count": null,
   "metadata": {},
   "outputs": [],
   "source": [
    "#kg Peq per ha yr\n",
    "cond1 = URBAG_map['Cuencas'] == 'Llobregat' \n",
    "cond2 = URBAG_map['Cuencas'] == 'Besos'\n",
    "\n",
    "#For plots in condition 1: Midpoint regionalised impacts are\n",
    "URBAG_map.loc[URBAG_map.index[cond1],'FE_PO43_Reg'] = d_conv_emiss.loc[d_conv_emiss.index[cond1],'PO43_runoff_water_total'].values * PO43_CFs.loc[PO43_CFs['impact_cat']=='Freshwater_eutroph']['CF_Llobregat_midpoint'].values\n",
    "\n",
    "#For plots in condition 2: Midpoint regionalised impacts are\n",
    "URBAG_map.loc[URBAG_map.index[cond2],'FE_PO43_Reg'] = d_conv_emiss.loc[d_conv_emiss.index[cond2],'PO43_runoff_water_total'].values * PO43_CFs.loc[PO43_CFs['impact_cat']=='Freshwater_eutroph']['CF_Besòs_midpoint'].values"
   ]
  },
  {
   "cell_type": "markdown",
   "metadata": {},
   "source": [
    "#### Water consumption"
   ]
  },
  {
   "cell_type": "code",
   "execution_count": null,
   "metadata": {},
   "outputs": [],
   "source": [
    "#m3 water consumed/ ha yr\n",
    "URBAG_map['WC'] = URBAG_map['WE_m3_ha_yr'] * water_CFs.loc[water_CFs['impact_cat']=='water_consumption_potential']['CF_recipe'].values"
   ]
  },
  {
   "cell_type": "code",
   "execution_count": null,
   "metadata": {},
   "outputs": [],
   "source": [
    "#calculate total water consumption AMB m3/yr\n",
    "np.sum(URBAG_map['WC']*URBAG_map['Area']*(1/10000))"
   ]
  },
  {
   "cell_type": "code",
   "execution_count": null,
   "metadata": {
    "tags": []
   },
   "outputs": [],
   "source": [
    "foreground_impacts = pd.DataFrame(URBAG_map)"
   ]
  },
  {
   "cell_type": "code",
   "execution_count": null,
   "metadata": {},
   "outputs": [],
   "source": [
    "foreground_impacts.keys().values"
   ]
  },
  {
   "cell_type": "code",
   "execution_count": null,
   "metadata": {},
   "outputs": [],
   "source": [
    "pd.unique(foreground_impacts['FE_PO43_Reg'])"
   ]
  },
  {
   "cell_type": "code",
   "execution_count": null,
   "metadata": {},
   "outputs": [],
   "source": [
    "foreground_impacts = foreground_impacts.drop(['TIPO_RIEGO', 'EFIC_RIEGO', 'TIPO_DIST', 'EFIC_DISTR', 'DUN_GRUP',\n",
    "       'DUN_CULTIU', 'Voronoi_1', 'TF', 'REG_CREAF', 'REG_CAT', 'TF_REG',\n",
    "       'CAT_NIV_5', 'ORD_NIV_5', 'CAT_NIV_4', 'ORD_NIV_4', 'CAT_NIV_3',\n",
    "       'ORD_NIV_3', 'CAT_NIV_2', 'ORD_NIV_2', 'CAT_NIV_1F', 'ORD_NIV_1F',\n",
    "       'CAT_NIV_1', 'ORD_NIV_1', '01_ETO', '02_ETO', '03_ETO', '04_ETO',\n",
    "       '05_ETO', '06_ETO', '07_ETO', '08_ETO', '09_ETO', '10_ETO',\n",
    "       '11_ETO', '12_ETO', '01_PPT', '02_PPT', '03_PPT', '04_PPT',\n",
    "       '05_PPT', '06_PPT', '07_PPT', '08_PPT', '09_PPT', '10_PPT',\n",
    "       '11_PPT', '12_PPT', 'ID_Voronoi', 'Municipi', 'Codi_munic',\n",
    "        'Comarca', 'Codi_comar', 'ID_CUENCA', 'CUENCA',\n",
    "       'ID_SUBCUEN', 'N_SUBCUENC', 'SUBCUENCAS',\n",
    "       'yield_kgHA', 'kgP2O5/ha', 'kgK2O/ha', 'kgN/ha', 'EF_Tier2',\n",
    "       'id_final', 'Kc_b_Kc1', 'Kc_b_Kc2', 'Kc_b_Kc3', 'Kc_b_Kc4',\n",
    "       'Kc_b_Kc5', 'Kc_b_Kc6', 'Kc_b_Kc7', 'Kc_b_Kc8', 'Kc_b_Kc9',\n",
    "       'Kc_b_Kc10', 'Kc_b_Kc11', 'Kc_b_Kc12', 'N_T', 'P_T', 'K_T',\n",
    "       'Voronoi_ag', 'Vor_ag_Num', 'FoodTons_N', '01_CWR', '02_CWR',\n",
    "       '03_CWR', '04_CWR', '05_CWR', '06_CWR', '07_CWR', '08_CWR',\n",
    "       '09_CWR', '10_CWR', '11_CWR', '12_CWR', '01_PPTe', '02_PPTe',\n",
    "       '03_PPTe', '04_PPTe', '05_PPTe', '06_PPTe', '07_PPTe', '08_PPTe',\n",
    "       '09_PPTe', '10_PPTe', '11_PPTe', '12_PPTe', '01_ID', '02_ID',\n",
    "       '03_ID', '04_ID', '05_ID', '06_ID', '07_ID', '08_ID', '09_ID',\n",
    "       '10_ID', '11_ID', '12_ID', 'LOSSES', '01_WE', '02_WE', '03_WE',\n",
    "       '04_WE', '05_WE', '06_WE', '07_WE', '08_WE', '09_WE', '10_WE',\n",
    "       '11_WE', '12_WE', 'WE_m3_ha_yr', 'Manure', 'Manure_N',\n",
    "       'Manure_P2O5', 'Agriwaste_toField', 'Agriwaste_burned',\n",
    "       'N_agriwaste_to_field', 'Cuencas'], axis=1)"
   ]
  },
  {
   "cell_type": "code",
   "execution_count": null,
   "metadata": {},
   "outputs": [],
   "source": [
    "foreground_impacts.keys()"
   ]
  },
  {
   "cell_type": "code",
   "execution_count": null,
   "metadata": {},
   "outputs": [],
   "source": [
    "#Foreground impacts ME kg \n",
    "d2 = {'ME_NO3' : foreground_impacts['ME_NO3'],\n",
    "      'ME_NO3_Reg': foreground_impacts['ME_NO3_Reg'],\n",
    "      }\n",
    "df2 = pd.DataFrame(data=d2)\n",
    "df2.plot(kind=\"box\", showfliers=False)\n",
    "plt.title('ME - kg Neq per ha yr')"
   ]
  },
  {
   "cell_type": "code",
   "execution_count": null,
   "metadata": {},
   "outputs": [],
   "source": [
    "#Foreground impacts GWP\n",
    "d3 = {'GWP100_IPCC_N2O': foreground_impacts['GWP100_IPCC_N2O'], \n",
    "     'GWP100_IPCC_CO2': foreground_impacts['GWP100_IPCC_CO2'],\n",
    "     'GWP100_IPCC_CH4': foreground_impacts['GWP100_IPCC_CH4'],\n",
    "    }\n",
    "df3 = pd.DataFrame(data=d3)\n",
    "df3.plot(kind=\"box\", showfliers=False)\n",
    "plt.title('GWP - kg CO2eq per ha yr')"
   ]
  },
  {
   "cell_type": "code",
   "execution_count": null,
   "metadata": {},
   "outputs": [],
   "source": [
    "#Foreground impacts FE\n",
    "d4 = {\n",
    "      'FE_PO43': foreground_impacts['FE_PO43'],\n",
    "      'FE_PO43_Reg': foreground_impacts['FE_PO43_Reg'],\n",
    "    }\n",
    "df4 = pd.DataFrame(data=d4)\n",
    "df4.plot(kind=\"box\", showfliers=False)\n",
    "plt.title('FE - kg Peq per ha yr')"
   ]
  },
  {
   "cell_type": "code",
   "execution_count": null,
   "metadata": {},
   "outputs": [],
   "source": [
    "#Foreground impacts Irrigation\n",
    "d5 = {\n",
    "      'WC': foreground_impacts['WC'],\n",
    "    }\n",
    "df5 = pd.DataFrame(data=d5)\n",
    "df5.plot(kind=\"box\", showfliers=False)\n",
    "plt.title('WC - m3 per ha yr')"
   ]
  },
  {
   "cell_type": "code",
   "execution_count": null,
   "metadata": {},
   "outputs": [],
   "source": [
    "#Select only impacts you want to have in the figures\n",
    "foreground_impacts_1 = pd.melt(foreground_impacts, id_vars=[ 'Fid',\"Area\"], value_vars=[\n",
    "        'GWP100_IPCC_N2O', \n",
    "        'GWP100_IPCC_CO2', \n",
    "        'GWP100_IPCC_CH4', \n",
    "        'ME_NO3',\n",
    "        'ME_NO3_Reg', \n",
    "        'FE_PO43', \n",
    "        'FE_PO43_Reg', \n",
    "        'WC'\n",
    "        ],var_name='impact_emission')"
   ]
  },
  {
   "cell_type": "code",
   "execution_count": null,
   "metadata": {},
   "outputs": [],
   "source": [
    "pd.unique(foreground_impacts_1['impact_emission'])"
   ]
  },
  {
   "cell_type": "code",
   "execution_count": null,
   "metadata": {},
   "outputs": [],
   "source": [
    "foreground_impacts_1.loc[(foreground_impacts_1[\"Fid\"]==2544)\n",
    "                         &(foreground_impacts_1[\"impact_emission\"]==\"WC\")]"
   ]
  },
  {
   "cell_type": "code",
   "execution_count": null,
   "metadata": {},
   "outputs": [],
   "source": [
    "imp_emiss_to_impact = {'GWP100_IPCC_N2O':['GWP100'],\n",
    "                        'GWP100_IPCC_CO2':['GWP100'],\n",
    "                        'GWP100_IPCC_CH4':['GWP100'],\n",
    "                        'ME_NO3':['ME'],\n",
    "                        'ME_NO3_Reg':['ME_Reg'],\n",
    "                        'FE_PO43':['FE'],\n",
    "                        'FE_PO43_Reg':['FE_Reg'],\n",
    "                        'WC':['WC']\n",
    "                          }"
   ]
  },
  {
   "cell_type": "code",
   "execution_count": null,
   "metadata": {},
   "outputs": [],
   "source": [
    "imp_emiss_to_emiss = {'ME_NO3':['Nitrate'],\n",
    "                        'ME_NO3_Reg':['Nitrate'],\n",
    "                        'GWP100_IPCC_N2O':['N2O'],\n",
    "                        'GWP100_IPCC_CO2':['CO2'],\n",
    "                        'GWP100_IPCC_CH4':['CH4'],\n",
    "                        'FE_PO43':['Phosphate'],\n",
    "                        'FE_PO43_Reg':['Phosphate'],\n",
    "                        'WC':['Irrigation']\n",
    "                         }"
   ]
  },
  {
   "cell_type": "code",
   "execution_count": null,
   "metadata": {},
   "outputs": [],
   "source": [
    "imp_emiss = {}\n",
    "for key, impacts in imp_emiss_to_impact.items():\n",
    "    \n",
    "    for x in impacts:\n",
    "        imp_emiss[key] = x\n",
    "\n",
    "foreground_impacts_1['imp_cat'] = foreground_impacts_1['impact_emission'].map(imp_emiss)\n",
    "\n",
    "pd.unique(foreground_impacts_1['imp_cat'])"
   ]
  },
  {
   "cell_type": "code",
   "execution_count": null,
   "metadata": {},
   "outputs": [],
   "source": [
    "imp_emiss_subs = {}\n",
    "for key, subs in imp_emiss_to_emiss.items():\n",
    "    \n",
    "    for x in subs:\n",
    "        imp_emiss_subs[key] = x\n",
    "\n",
    "foreground_impacts_1['product'] = foreground_impacts_1['impact_emission'].map(imp_emiss_subs)\n",
    "\n",
    "pd.unique(foreground_impacts_1['product'])"
   ]
  },
  {
   "cell_type": "code",
   "execution_count": null,
   "metadata": {},
   "outputs": [],
   "source": [
    "foreground_impacts_1 = foreground_impacts_1.drop('impact_emission', axis=1)"
   ]
  },
  {
   "cell_type": "code",
   "execution_count": null,
   "metadata": {},
   "outputs": [],
   "source": [
    "foreground_impacts_1.keys()"
   ]
  },
  {
   "cell_type": "code",
   "execution_count": null,
   "metadata": {},
   "outputs": [],
   "source": [
    "foreground_impacts_1.rename(columns={'value': 'imp_per_ha'}, inplace=True)"
   ]
  },
  {
   "cell_type": "code",
   "execution_count": null,
   "metadata": {},
   "outputs": [],
   "source": [
    "#Adding total impacts per year\n",
    "#Total impact per parcel in kg impact units/ha*yr and for water in m3/ha yr\n",
    "#!!!!!!conveting kg to tons>> GWP = Ton CO2eq; MEP= Ton Neq; FEP= Ton P eq; and WD = from m3 to 1000 m3!!!!!\n",
    "#Final units for impacts are ton impact unit/yr and 1000 m3/yr\n",
    "#Adding foreground label\n",
    "#Adding scenario scen\n",
    "#Adding no database as this are direct emissions\n",
    "foreground_impacts_1['imp_yr']=foreground_impacts_1['imp_per_ha']*foreground_impacts_1['Area']*(1/10000)/1000\n",
    "foreground_impacts_1['LCIA']='foreground'\n",
    "foreground_impacts_1['Scenario']=scen\n",
    "foreground_impacts_1['database']='ei391'"
   ]
  },
  {
   "cell_type": "code",
   "execution_count": null,
   "metadata": {},
   "outputs": [],
   "source": [
    "foreground_impacts_1.keys()"
   ]
  },
  {
   "cell_type": "code",
   "execution_count": null,
   "metadata": {},
   "outputs": [],
   "source": [
    "#imp_per_ha in kg impact per ha year\n",
    "#imp_yr in ton per year\n",
    "data_foreground = foreground_impacts_1"
   ]
  },
  {
   "cell_type": "code",
   "execution_count": null,
   "metadata": {},
   "outputs": [],
   "source": [
    "data_foreground.loc[data_foreground['Fid']==2544]"
   ]
  },
  {
   "cell_type": "code",
   "execution_count": null,
   "metadata": {},
   "outputs": [],
   "source": [
    "data_foreground_GWP = data_foreground[(data_foreground['imp_cat']=='GWP100')]\n",
    "len(data_foreground_GWP)"
   ]
  },
  {
   "cell_type": "code",
   "execution_count": null,
   "metadata": {},
   "outputs": [],
   "source": [
    "#number of plots times substances emitted per category (3 for GWP)\n",
    "4581*3"
   ]
  },
  {
   "cell_type": "code",
   "execution_count": null,
   "metadata": {},
   "outputs": [],
   "source": [
    "print(\"Total GMP foreground impacts in tons CO2eq/yr are \" + str(data_foreground_GWP.imp_yr.sum()))"
   ]
  },
  {
   "cell_type": "code",
   "execution_count": null,
   "metadata": {},
   "outputs": [],
   "source": [
    "data_foreground_ME = data_foreground[(data_foreground['imp_cat']=='ME')]\n",
    "len(data_foreground_ME)"
   ]
  },
  {
   "cell_type": "code",
   "execution_count": null,
   "metadata": {},
   "outputs": [],
   "source": [
    "data_foreground_ME_Reg = data_foreground[(data_foreground['imp_cat']=='ME_Reg')]\n",
    "len(data_foreground_ME_Reg)"
   ]
  },
  {
   "cell_type": "code",
   "execution_count": null,
   "metadata": {},
   "outputs": [],
   "source": [
    "data_foreground_ME_Reg.imp_yr.sum()"
   ]
  },
  {
   "cell_type": "code",
   "execution_count": null,
   "metadata": {},
   "outputs": [],
   "source": [
    "print(\"Total ME_Reg foreground impacts in tons Neq/yr are \" + str(data_foreground_ME_Reg.imp_yr.sum()))"
   ]
  },
  {
   "cell_type": "code",
   "execution_count": null,
   "metadata": {},
   "outputs": [],
   "source": [
    "data_foreground_FE = data_foreground[(data_foreground['imp_cat']=='FE')]\n",
    "len(data_foreground_FE)"
   ]
  },
  {
   "cell_type": "code",
   "execution_count": null,
   "metadata": {},
   "outputs": [],
   "source": [
    "data_foreground_FE_Reg = data_foreground[(data_foreground['imp_cat']=='FE_Reg')]\n",
    "len(data_foreground_FE_Reg)"
   ]
  },
  {
   "cell_type": "code",
   "execution_count": null,
   "metadata": {},
   "outputs": [],
   "source": [
    "print(\"Total FE_Reg foreground impacts in tons Peq/yr are \" + str(data_foreground_FE_Reg.imp_yr.sum()))"
   ]
  },
  {
   "cell_type": "code",
   "execution_count": null,
   "metadata": {},
   "outputs": [],
   "source": [
    "data_foreground_WC = data_foreground[(data_foreground['imp_cat']=='WC')]\n",
    "len(data_foreground_WC)"
   ]
  },
  {
   "cell_type": "code",
   "execution_count": null,
   "metadata": {},
   "outputs": [],
   "source": [
    "print(\"Total WC foreground impacts in *1000 m3/yr are \" + str(data_foreground_WC.imp_yr.sum()))"
   ]
  },
  {
   "cell_type": "code",
   "execution_count": null,
   "metadata": {},
   "outputs": [],
   "source": [
    "#Databases to be included as foreground, for visualization purposes. This does not matter for calculations\n",
    "databases = ['ei391', \n",
    "#             'ei38_SSP2-Base_30', \n",
    "#             'ei38_SSP2-Base_40',\n",
    "             'ei391_Image_SSP2_Base_50', \n",
    "#             'ei38_SSP2-RCP2.6_30', \n",
    "#             'ei38_SSP2-RCP2.6_40',\n",
    "             'ei391_Image_SSP2_RCP26_50'\n",
    "            ]"
   ]
  },
  {
   "cell_type": "code",
   "execution_count": null,
   "metadata": {},
   "outputs": [],
   "source": [
    "#copying the foreground impacts the same amount of background databases (foreground is the same in all scenarios while background changes)\n",
    "data_foreground = pd.concat([data_foreground.replace('ei391',db) for db in databases],ignore_index=True)\n",
    "data_foreground"
   ]
  },
  {
   "cell_type": "code",
   "execution_count": null,
   "metadata": {},
   "outputs": [],
   "source": [
    "#Total impact in ton impact unit or *1000 m3/yr for the whole AMB, per product and database and scenario\n",
    "data_foreground_1 = data_foreground.groupby([\"LCIA\",'database',\"imp_cat\", \"Scenario\", \"product\"])[\"imp_yr\"].aggregate(\"sum\").reset_index()\n",
    "data_foreground_1"
   ]
  },
  {
   "cell_type": "markdown",
   "metadata": {},
   "source": [
    "## Regionalized Eutrophication Impacts"
   ]
  },
  {
   "cell_type": "code",
   "execution_count": null,
   "metadata": {},
   "outputs": [],
   "source": [
    "URBAG_map.keys().values"
   ]
  },
  {
   "cell_type": "code",
   "execution_count": null,
   "metadata": {},
   "outputs": [],
   "source": [
    "regional_impacts = URBAG_map.drop(['TIPO_RIEGO', 'EFIC_RIEGO', 'TIPO_DIST', 'EFIC_DISTR', 'TF', 'REG_CREAF', 'REG_CAT', 'TF_REG',\n",
    "       'CAT_NIV_4', 'ORD_NIV_4', 'CAT_NIV_3',\n",
    "       'ORD_NIV_3', 'CAT_NIV_2', 'ORD_NIV_2', 'CAT_NIV_1F', 'ORD_NIV_1F',\n",
    "       'CAT_NIV_1', 'ORD_NIV_1', '01_ETO', '02_ETO', '03_ETO', '04_ETO',\n",
    "       '05_ETO', '06_ETO', '07_ETO', '08_ETO', '09_ETO', '10_ETO', '11_ETO',\n",
    "       '12_ETO', '01_PPT', '02_PPT', '03_PPT', '04_PPT', '05_PPT', '06_PPT',\n",
    "       '07_PPT', '08_PPT', '09_PPT', '10_PPT', '11_PPT', '12_PPT',\n",
    "        'kgP2O5/ha', 'N_T', 'P_T', 'K_T', '01_CWR', '02_CWR',\n",
    "       '03_CWR', '04_CWR', '05_CWR', '06_CWR', '07_CWR', '08_CWR',\n",
    "       '09_CWR', '10_CWR', '11_CWR', '12_CWR', '01_PPTe', '02_PPTe',\n",
    "       '03_PPTe', '04_PPTe', '05_PPTe', '06_PPTe', '07_PPTe', '08_PPTe',\n",
    "       '09_PPTe', '10_PPTe', '11_PPTe', '12_PPTe', '01_ID', '02_ID',\n",
    "       '03_ID', '04_ID', '05_ID', '06_ID', '07_ID', '08_ID', '09_ID',\n",
    "       '10_ID', '11_ID', '12_ID', 'LOSSES', '01_WE', '02_WE', '03_WE',\n",
    "       '04_WE', '05_WE', '06_WE', '07_WE', '08_WE', '09_WE', '10_WE',\n",
    "       '11_WE', '12_WE', 'WE_m3_ha_yr',\n",
    "       'kgK2O/ha', 'kgN/ha', \n",
    "       'EF_Tier2', 'id_final', 'Kc_b_Kc1', 'Kc_b_Kc2', 'Kc_b_Kc3', 'Kc_b_Kc4',\n",
    "       'Kc_b_Kc5', 'Kc_b_Kc6', 'Kc_b_Kc7', 'Kc_b_Kc8', 'Kc_b_Kc9', 'Kc_b_Kc10',\n",
    "       'Kc_b_Kc11', 'Kc_b_Kc12', 'Manure', 'Manure_N', 'Manure_P2O5',\n",
    "       'Agriwaste_toField', 'Agriwaste_burned', 'N_agriwaste_to_field',\n",
    "       'GWP100_IPCC_N2O', 'GWP100_IPCC_CO2', 'GWP100_IPCC_CH4',\n",
    "       'ME_NO3', 'ME_NO3_Reg', 'FE_PO43', 'FE_PO43_Reg', 'WC'],axis=1)\n",
    "regional_impacts.head()"
   ]
  },
  {
   "cell_type": "code",
   "execution_count": null,
   "metadata": {},
   "outputs": [],
   "source": [
    "#Fix name of Cuencas according to how they are read from the excel file with the URBAG map as shown here\n",
    "pd.unique(regional_impacts['Cuencas'])"
   ]
  },
  {
   "cell_type": "code",
   "execution_count": null,
   "metadata": {
    "tags": []
   },
   "outputs": [],
   "source": [
    "###### ADAPT THE NAMES AS THEY APPEAR IN THE CELL BEFORE FOR CUENCAS IF NOT THE SAME!!!!\n",
    "#There are actually six Basins in the AMB\n",
    "#We place the plots in iether LLobregat or Besos basins given that only CFs are available for these two.\n",
    "#Assumption 1: Plots in the Llobregat basin\n",
    "#Assumption 2: Plots in the Garraf basin >> Llobregat CFs are used\n",
    "#Assumption 3: Plots in rivers of the barcelona plain >> Llobregat CFs are used. These possibly drain directly to the ocean.\n",
    "#Assumption 4: Plots in the Besos basin\n",
    "#Assumption 5: Plots in the rivers of maresme >> Besos CFs are used. These possibly drain directly to the ocean.\n",
    "#Assumption 6: Plots in the rives of the Llobregat Plain >> LLobregat CFs are used. These possibly drain directly to the ocean as well. \n",
    "\n",
    "cond1 = regional_impacts['Cuencas'] == 'Llobregat' \n",
    "cond2 = regional_impacts['Cuencas'] == 'Besos'\n",
    "\n",
    "#For plots in condition 1: Midpoint regionalised impacts are\n",
    "regional_impacts.loc[regional_impacts.index[cond1],'ME_NO3_midpoint']      = d_conv_emiss.loc[d_conv_emiss.index[cond1],'NO3_total'].values * NO3_CFs.loc[NO3_CFs['impact_cat']=='marine_eutroph']['CF_Llobregat_midpoint'].values\n",
    "regional_impacts.loc[regional_impacts.index[cond1],'FE_PO43_midpoint']     = d_conv_emiss.loc[d_conv_emiss.index[cond1],'PO43_runoff_water_total'].values * PO43_CFs.loc[PO43_CFs['impact_cat']=='Freshwater_eutroph']['CF_Llobregat_midpoint'].values\n",
    "\n",
    "#For plots in condition 2: Midpoint regionalised impacts are\n",
    "regional_impacts.loc[regional_impacts.index[cond2],'ME_NO3_midpoint']      = d_conv_emiss.loc[d_conv_emiss.index[cond2],'NO3_total'].values * NO3_CFs.loc[NO3_CFs['impact_cat']=='marine_eutroph']['CF_Besòs_midpoint'].values\n",
    "regional_impacts.loc[regional_impacts.index[cond2],'FE_PO43_midpoint']     = d_conv_emiss.loc[d_conv_emiss.index[cond2],'PO43_runoff_water_total'].values * PO43_CFs.loc[PO43_CFs['impact_cat']=='Freshwater_eutroph']['CF_Besòs_midpoint'].values\n"
   ]
  },
  {
   "cell_type": "code",
   "execution_count": null,
   "metadata": {},
   "outputs": [],
   "source": [
    "#Total Midpoint regionalized impacts for:\n",
    "#Marine eutrophication kg Neq/ha year\n",
    "#Freshwater eutrophication kg Peq/ha year\n",
    "regional_impacts['ME_midpoint']    = regional_impacts['ME_NO3_midpoint'].values\n",
    "regional_impacts['FE_midpoint']    = regional_impacts['FE_PO43_midpoint'].values"
   ]
  },
  {
   "cell_type": "code",
   "execution_count": null,
   "metadata": {},
   "outputs": [],
   "source": [
    "#For plots in condition 1: Endpoint regionalised impacts\n",
    "regional_impacts.loc[regional_impacts.index[cond1],'ME_NO3_endp']      = d_conv_emiss.loc[d_conv_emiss.index[cond1],'NO3_total'].values * NO3_CFs.loc[NO3_CFs['impact_cat']=='marine_eutroph']['CF_Llobregat_endpoint'].values\n",
    "regional_impacts.loc[regional_impacts.index[cond1],'FE_PO43_endp']     = d_conv_emiss.loc[d_conv_emiss.index[cond1],'PO43_runoff_water_total'].values * PO43_CFs.loc[PO43_CFs['impact_cat']=='Freshwater_eutroph']['CF_Llobregat_endpoint'].values\n",
    "\n",
    "#For plots in condition 2: Endpoint regionalised impacts\n",
    "regional_impacts.loc[regional_impacts.index[cond2],'ME_NO3_endp']      = d_conv_emiss.loc[d_conv_emiss.index[cond2],'NO3_total'].values * NO3_CFs.loc[NO3_CFs['impact_cat']=='marine_eutroph']['CF_Besòs_endpoint'].values\n",
    "regional_impacts.loc[regional_impacts.index[cond2],'FE_PO43_endp']     = d_conv_emiss.loc[d_conv_emiss.index[cond2],'PO43_runoff_water_total'].values * PO43_CFs.loc[PO43_CFs['impact_cat']=='Freshwater_eutroph']['CF_Besòs_endpoint'].values\n"
   ]
  },
  {
   "cell_type": "code",
   "execution_count": null,
   "metadata": {},
   "outputs": [],
   "source": [
    "#Total Endpoint regionalized impacts for:\n",
    "#Marine eutrophication (potential dissapering fraction) PDF m3 yr/ha \n",
    "#Freshwater eutrophication (potential dissapering fraction) PDF m3 yr/ha\n",
    "regional_impacts['ME_endpoint']  = regional_impacts['ME_NO3_endp'].values \n",
    "regional_impacts['FE_endpoint']  = regional_impacts['FE_PO43_endp'].values"
   ]
  },
  {
   "cell_type": "code",
   "execution_count": null,
   "metadata": {},
   "outputs": [],
   "source": [
    "#For plots in condition 1: Damage regionalised impacts are\n",
    "regional_impacts.loc[regional_impacts.index[cond1],'ME_NO3_dmg']      = d_conv_emiss.loc[d_conv_emiss.index[cond1],'NO3_total'].values * NO3_CFs.loc[NO3_CFs['impact_cat']=='marine_eutroph']['CF_Llobregat_damage'].values\n",
    "regional_impacts.loc[regional_impacts.index[cond1],'FE_PO43_dmg']     = d_conv_emiss.loc[d_conv_emiss.index[cond1],'PO43_runoff_water_total'].values * PO43_CFs.loc[PO43_CFs['impact_cat']=='Freshwater_eutroph']['CF_Llobregat_damage'].values\n",
    "\n",
    "#For plots in condition 2: Damage regionalised impacts are\n",
    "regional_impacts.loc[regional_impacts.index[cond2],'ME_NO3_dmg']      = d_conv_emiss.loc[d_conv_emiss.index[cond2],'NO3_total'].values * NO3_CFs.loc[NO3_CFs['impact_cat']=='marine_eutroph']['CF_Besòs_damage'].values\n",
    "regional_impacts.loc[regional_impacts.index[cond2],'FE_PO43_dmg']     = d_conv_emiss.loc[d_conv_emiss.index[cond2],'PO43_runoff_water_total'].values * PO43_CFs.loc[PO43_CFs['impact_cat']=='Freshwater_eutroph']['CF_Besòs_damage'].values\n"
   ]
  },
  {
   "cell_type": "code",
   "execution_count": null,
   "metadata": {},
   "outputs": [],
   "source": [
    "#Total Damage regionalized impacts for:\n",
    "#Marine eutrophication species yr/ha \n",
    "#Freshwater eutrophication species yr/ha\n",
    "regional_impacts['ME_damage'] = regional_impacts['ME_NO3_dmg'].values\n",
    "regional_impacts['FE_damage'] = regional_impacts['FE_PO43_dmg'].values"
   ]
  },
  {
   "cell_type": "code",
   "execution_count": null,
   "metadata": {},
   "outputs": [],
   "source": [
    "regional_impacts.keys()"
   ]
  },
  {
   "cell_type": "code",
   "execution_count": null,
   "metadata": {},
   "outputs": [],
   "source": [
    "eutrophication_impacts = regional_impacts"
   ]
  },
  {
   "cell_type": "code",
   "execution_count": null,
   "metadata": {
    "tags": []
   },
   "outputs": [],
   "source": [
    "#Marine and freshwater eutrophication impacts for Recipe and regionalized CFs \n",
    "#For direct emissions\n",
    "#Midpoint ME> kg Neq/ha yr FE> kg Peq/ha yr > FROM RECIPE no emissions to air included for comparison with regionalized CFs\n",
    "#Endpoint ME and FE> PDF m3 / ha\n",
    "#Damage ME and FE> species yr/ha\n",
    "eutrophication_impacts['ME_midpt_ReCiPe'] = d_conv_emiss['NO3_total'].values * NO3_CFs.loc[NO3_CFs['impact_cat']=='marine_eutroph']['CF_recipe'].values \n",
    "eutrophication_impacts['FE_midpt_ReCiPe'] = d_conv_emiss['PO43_runoff_water_total'].values * PO43_CFs.loc[PO43_CFs['impact_cat']=='Freshwater_eutroph']['CF_recipe'].values"
   ]
  },
  {
   "cell_type": "code",
   "execution_count": null,
   "metadata": {},
   "outputs": [],
   "source": [
    "eutrophication_impacts.head()"
   ]
  },
  {
   "cell_type": "code",
   "execution_count": null,
   "metadata": {},
   "outputs": [],
   "source": [
    "regional_impacts['ME_NO3_endp']"
   ]
  },
  {
   "cell_type": "code",
   "execution_count": null,
   "metadata": {},
   "outputs": [],
   "source": [
    "URBAG_map.keys()"
   ]
  },
  {
   "cell_type": "markdown",
   "metadata": {},
   "source": [
    "## Visualization"
   ]
  },
  {
   "cell_type": "code",
   "execution_count": null,
   "metadata": {
    "tags": []
   },
   "outputs": [],
   "source": [
    "eutrophication_impacts.keys()"
   ]
  },
  {
   "cell_type": "code",
   "execution_count": null,
   "metadata": {
    "tags": []
   },
   "outputs": [],
   "source": [
    "data_ME_Regional = pd.DataFrame()\n",
    "data_FE_Regional = pd.DataFrame()\n",
    "data_end_regional= pd.DataFrame()\n",
    "data_dmg_regional= pd.DataFrame()"
   ]
  },
  {
   "cell_type": "code",
   "execution_count": null,
   "metadata": {},
   "outputs": [],
   "source": [
    "data_ME_Regional['ME_Reg']        = eutrophication_impacts['ME_midpoint']\n",
    "data_ME_Regional['ME_ReCiPe']     = eutrophication_impacts['ME_midpt_ReCiPe']\n",
    "\n",
    "data_FE_Regional['FE_Reg']        = eutrophication_impacts['FE_midpoint']\n",
    "data_FE_Regional['FE_ReCiPe']     = eutrophication_impacts['FE_midpt_ReCiPe']\n",
    "\n",
    "data_end_regional['ME_endpoint']  = eutrophication_impacts['ME_endpoint']\n",
    "data_end_regional['FE_endpoint']  = eutrophication_impacts['FE_endpoint']\n",
    "\n",
    "data_dmg_regional['ME_damage']    = eutrophication_impacts['ME_damage']\n",
    "data_dmg_regional['FE_damage']    = eutrophication_impacts['FE_damage']"
   ]
  },
  {
   "cell_type": "code",
   "execution_count": null,
   "metadata": {},
   "outputs": [],
   "source": [
    "data_ME_Regional1 = []\n",
    "for x in data_ME_Regional.keys():\n",
    "    print(x)\n",
    "    data_ME_Regional1.append(data_ME_Regional[x])"
   ]
  },
  {
   "cell_type": "code",
   "execution_count": null,
   "metadata": {},
   "outputs": [],
   "source": [
    "data_FE_Regional1 = []\n",
    "for x in data_FE_Regional.keys():\n",
    "    print(x)\n",
    "    data_FE_Regional1.append(data_FE_Regional[x])"
   ]
  },
  {
   "cell_type": "code",
   "execution_count": null,
   "metadata": {},
   "outputs": [],
   "source": [
    "data_end_regional1 = []\n",
    "for x in data_end_regional.keys():\n",
    "    print(x)\n",
    "    data_end_regional1.append(data_end_regional[x])"
   ]
  },
  {
   "cell_type": "code",
   "execution_count": null,
   "metadata": {},
   "outputs": [],
   "source": [
    "data_dmg_regional1 = []\n",
    "for x in data_dmg_regional.keys():\n",
    "    print(x)\n",
    "    data_dmg_regional1.append(data_dmg_regional[x])"
   ]
  },
  {
   "cell_type": "code",
   "execution_count": null,
   "metadata": {},
   "outputs": [],
   "source": [
    "fig, axs = plt.subplots(2, 2, figsize=(13,13))\n",
    "axs[0, 0].boxplot(data_ME_Regional1, 0, '', labels=['Total \\n AMB-Specific','Total ReCiPe'], vert=True, showmeans=True)\n",
    "axs[0, 0].set_title(\"Marine Eutrophication \\n kg N$_{eq}$/ha\")\n",
    "axs[0, 1].boxplot(data_FE_Regional1, 0, '', labels=['Total \\n AMB-Specific','Total ReCiPe'], vert=True )\n",
    "axs[0, 1].set_title(\"Freshwater Eutrophication \\n kg P$_{eq}$/ha\")\n",
    "axs[1, 0].boxplot(data_end_regional1, 0, '', labels=['Total ME','Total FE'], vert=True, showmeans=True)\n",
    "axs[1, 0].set_title(\"Endpoint impacts AMB-Specific \\n PDF m$^3$/ha\")\n",
    "axs[1, 1].boxplot(data_dmg_regional1, 0, '', labels=['Total ME','Total FE'], vert=True, showmeans=True)\n",
    "axs[1, 1].set_title(\"Damage AMB-Specific \\n species yr/ha\")\n",
    "#fig.savefig( 'output/' + scen + '/emissions/RegEutrophication_LCIA' + '.png')"
   ]
  },
  {
   "cell_type": "markdown",
   "metadata": {},
   "source": [
    "### Saving outputs"
   ]
  },
  {
   "cell_type": "code",
   "execution_count": null,
   "metadata": {},
   "outputs": [],
   "source": [
    "%store data_foreground_1\n",
    "%store eutrophication_impacts\n",
    "%store URBAG_map"
   ]
  },
  {
   "cell_type": "code",
   "execution_count": null,
   "metadata": {},
   "outputs": [],
   "source": [
    "#Eutrophication local impacts with regionalized CFs for nitrate and phosphate emissions only kg Peq/ha and kg Neq/ha\n",
    "eutrophication_impacts.to_csv(\"output/\" + scen + \"/LCIA/regionalised_eutrophication.csv\")"
   ]
  },
  {
   "cell_type": "code",
   "execution_count": null,
   "metadata": {},
   "outputs": [],
   "source": [
    "#Total foreground impacts\n",
    "#imp_per_ha in kg impact per ha year\n",
    "#imp_yr in ton per year\n",
    "data_foreground.to_csv(\"output/\" + scen + \"/LCIA/foregroundImpacts/Map_foreground_impacts.csv\")"
   ]
  },
  {
   "cell_type": "code",
   "execution_count": null,
   "metadata": {},
   "outputs": [],
   "source": [
    "#Total foreground impacts in ton per ha yr\n",
    "data_foreground_1.to_csv(\"output/\" + scen + \"/LCIA/foregroundImpacts/Total_foreground_impacts.csv\")"
   ]
  },
  {
   "cell_type": "code",
   "execution_count": null,
   "metadata": {},
   "outputs": [],
   "source": []
  },
  {
   "cell_type": "code",
   "execution_count": null,
   "metadata": {},
   "outputs": [],
   "source": []
  }
 ],
 "metadata": {
  "kernelspec": {
   "display_name": "Python 3 (ipykernel)",
   "language": "python",
   "name": "python3"
  },
  "language_info": {
   "codemirror_mode": {
    "name": "ipython",
    "version": 3
   },
   "file_extension": ".py",
   "mimetype": "text/x-python",
   "name": "python",
   "nbconvert_exporter": "python",
   "pygments_lexer": "ipython3",
   "version": "3.11.8"
  }
 },
 "nbformat": 4,
 "nbformat_minor": 4
}
