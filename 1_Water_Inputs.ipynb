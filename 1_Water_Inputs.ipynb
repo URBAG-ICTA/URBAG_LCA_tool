{
 "cells": [
  {
   "cell_type": "markdown",
   "id": "8c8f5794-7857-4549-b599-3426014e388d",
   "metadata": {},
   "source": [
    "# Climate and water data from URBAG MAP"
   ]
  },
  {
   "cell_type": "markdown",
   "id": "7e70fd5c-758e-4bc0-837d-37f4ee4bdeef",
   "metadata": {},
   "source": [
    "This notebook quantifies the green, blue and water extraction per polygon using climate data from the URBAG map."
   ]
  },
  {
   "cell_type": "code",
   "execution_count": null,
   "id": "f0e623f0-27a1-4e58-8e7c-7348f8920daa",
   "metadata": {},
   "outputs": [],
   "source": [
    "import pandas as pd\n",
    "import numpy as np\n",
    "import matplotlib.pyplot as plt\n",
    "import seaborn as sns"
   ]
  },
  {
   "cell_type": "code",
   "execution_count": null,
   "id": "6cfc8975-3565-4499-ae8c-c426bfee51c6",
   "metadata": {},
   "outputs": [],
   "source": [
    "#In this cell the scenario is chosen. This can either be defined here or in the RUN_ALL.ipynb\n",
    "#If defined here unmark the scen = line and select the scenario you will run.\n",
    "#If defined in RUN_ALL.ipynb unmark the %store -r scen line.\n",
    "#Scenario names are:\n",
    "#S0_MinFert > N,P,K demand met by mineral fertilizers only\n",
    "#S0_struvite_P > P demand met by struvite, N demand met by struvite and mineral fertilizer and K demand met by mineral fertilizer\n",
    "#S0_compost > N,P,K supplied by compost produced in the AMB, remaining N,P,K demand met by mineral fertilizer\n",
    "#S0_Ammon_salts > N supplied from recovered ammonium salts and from mineral fertilizers, P from struvite and K from mineral fertilizer\n",
    "scen = 'S0_MinFert'\n",
    "#%store -r scen"
   ]
  },
  {
   "cell_type": "code",
   "execution_count": null,
   "id": "0b178868-af3d-4c8f-9a0e-6d2d87809907",
   "metadata": {},
   "outputs": [],
   "source": [
    "print(scen)"
   ]
  },
  {
   "cell_type": "code",
   "execution_count": null,
   "id": "afaa1124-bd45-4b59-974c-96bfc5d0ba59",
   "metadata": {},
   "outputs": [],
   "source": [
    "#This cell determines the path and name of the map file\n",
    "filename = \"S4_NewVoronoi_0524.csv\"\n",
    "file_path = f\"inputs/{filename}\""
   ]
  },
  {
   "cell_type": "code",
   "execution_count": null,
   "id": "6f08c47f-b249-4df4-9910-96f0aa3e6440",
   "metadata": {},
   "outputs": [],
   "source": [
    "URBAG_map = pd.read_csv(file_path)"
   ]
  },
  {
   "cell_type": "code",
   "execution_count": null,
   "id": "cb84a168-b69f-48b7-80a8-9919fe7ef7de",
   "metadata": {},
   "outputs": [],
   "source": [
    "#Number of plots. Currently 4581 (NPK_27_06_22An - 3_02_23.xlsx)\n",
    "len_URBAG_map= len(URBAG_map['Voronoi_1'])\n",
    "len_URBAG_map"
   ]
  },
  {
   "cell_type": "code",
   "execution_count": null,
   "id": "efc02787-b60c-455d-85f2-6e178726ca1b",
   "metadata": {},
   "outputs": [],
   "source": [
    "URBAG_map.columns"
   ]
  },
  {
   "cell_type": "code",
   "execution_count": null,
   "id": "99d0cbb6-df67-493b-8fd7-16c259b66271",
   "metadata": {},
   "outputs": [],
   "source": [
    "URBAG_map.keys()"
   ]
  },
  {
   "cell_type": "code",
   "execution_count": null,
   "id": "db6ef295-70c4-4f54-923c-45bc43be7576",
   "metadata": {},
   "outputs": [],
   "source": [
    "#Checking precipitation and evapotranspiration data per month\n",
    "Precipitation_months = ['01_PPT', '02_PPT', '03_PPT', '04_PPT', '05_PPT', '06_PPT','07_PPT', '08_PPT', '09_PPT', '10_PPT', '11_PPT', '12_PPT']\n",
    "Evapotranspiration_months = ['01_ETO', '02_ETO', '03_ETO', '04_ETO', '05_ETO', '06_ETO','07_ETO', '08_ETO', '09_ETO', '10_ETO', '11_ETO', '12_ETO']\n",
    "months = [\"Jan\",\"Feb\",\"Mar\",\"Apr\",\"May\",\"Jun\",\"Jul\",\"Aug\",\"Sep\",\"Oct\",\"Nov\",\"Dec\",]"
   ]
  },
  {
   "cell_type": "code",
   "execution_count": null,
   "id": "de33b36f-99b3-450c-a344-976dffac8b8c",
   "metadata": {},
   "outputs": [],
   "source": [
    "type(URBAG_map['03_PPT'][1])"
   ]
  },
  {
   "cell_type": "code",
   "execution_count": null,
   "id": "c92bd98a-c549-4932-a6c4-f59b29ecf0d1",
   "metadata": {},
   "outputs": [],
   "source": [
    "Precipitation_ranges = URBAG_map.agg({'01_PPT' : ['min', 'max'],\n",
    "                                        '02_PPT' : ['min', 'max'],\n",
    "                                        '03_PPT' : ['min', 'max'],\n",
    "                                        '04_PPT' : ['min', 'max'],\n",
    "                                        '05_PPT' : ['min', 'max'],\n",
    "                                        '06_PPT' : ['min', 'max'],\n",
    "                                        '07_PPT' : ['min', 'max'],\n",
    "                                        '08_PPT' : ['min', 'max'],\n",
    "                                        '09_PPT' : ['min', 'max'],\n",
    "                                        '10_PPT' : ['min', 'max'],\n",
    "                                        '11_PPT' : ['min', 'max'],\n",
    "                                        '12_PPT' : ['min', 'max']})"
   ]
  },
  {
   "cell_type": "code",
   "execution_count": null,
   "id": "a9b3e010-b6b3-497a-9940-62859c855351",
   "metadata": {},
   "outputs": [],
   "source": [
    "Evapotranspiration_ranges = URBAG_map.agg({'01_ETO' : ['min', 'max'],\n",
    "                                        '02_ETO' : ['min', 'max'],\n",
    "                                        '03_ETO' : ['min', 'max'],\n",
    "                                        '04_ETO' : ['min', 'max'],\n",
    "                                        '05_ETO' : ['min', 'max'],\n",
    "                                        '06_ETO' : ['min', 'max'],\n",
    "                                        '07_ETO' : ['min', 'max'],\n",
    "                                        '08_ETO' : ['min', 'max'],\n",
    "                                        '09_ETO' : ['min', 'max'],\n",
    "                                        '10_ETO' : ['min', 'max'],\n",
    "                                        '11_ETO' : ['min', 'max'],\n",
    "                                        '12_ETO' : ['min', 'max']})"
   ]
  },
  {
   "cell_type": "code",
   "execution_count": null,
   "id": "07c4f81b-48f5-472f-9e56-1d02a8710f4c",
   "metadata": {},
   "outputs": [],
   "source": [
    "Kc_ranges = URBAG_map.agg({'Kc_b_Kc1' : ['min', 'max'],\n",
    "                            'Kc_b_Kc2' : ['min', 'max'],\n",
    "                            'Kc_b_Kc3' : ['min', 'max'],\n",
    "                            'Kc_b_Kc4' : ['min', 'max'],\n",
    "                            'Kc_b_Kc5' : ['min', 'max'],\n",
    "                            'Kc_b_Kc6' : ['min', 'max'],\n",
    "                            'Kc_b_Kc7' : ['min', 'max'],\n",
    "                            'Kc_b_Kc8' : ['min', 'max'],\n",
    "                            'Kc_b_Kc9' : ['min', 'max'],\n",
    "                            'Kc_b_Kc10' : ['min', 'max'],\n",
    "                            'Kc_b_Kc11' : ['min', 'max'],\n",
    "                            'Kc_b_Kc12' : ['min', 'max']})"
   ]
  },
  {
   "cell_type": "code",
   "execution_count": null,
   "id": "aaec001c-350c-418a-a5eb-dfe7dd73d022",
   "metadata": {},
   "outputs": [],
   "source": [
    "Eficiencies_ranges = URBAG_map.agg({'EFIC_DISTR' : ['min', 'max'],\n",
    "                                    'EFIC_RIEGO' : ['min', 'max']})"
   ]
  },
  {
   "cell_type": "code",
   "execution_count": null,
   "id": "bda3f936-cdd9-4ad6-9c3b-5c977a47f03b",
   "metadata": {},
   "outputs": [],
   "source": [
    "Precipitation_ranges"
   ]
  },
  {
   "cell_type": "code",
   "execution_count": null,
   "id": "1f5be3f8-e962-4c3a-8b12-c41a96805e3b",
   "metadata": {},
   "outputs": [],
   "source": [
    "Evapotranspiration_ranges"
   ]
  },
  {
   "cell_type": "code",
   "execution_count": null,
   "id": "e5c5df32-6005-436c-a420-0176105f72dc",
   "metadata": {},
   "outputs": [],
   "source": [
    "Kc_ranges"
   ]
  },
  {
   "cell_type": "code",
   "execution_count": null,
   "id": "0ea392a0-d98b-42fb-bef8-129e0205547b",
   "metadata": {},
   "outputs": [],
   "source": [
    "Eficiencies_ranges"
   ]
  },
  {
   "cell_type": "markdown",
   "id": "2b140192-57d8-4244-8879-3ea12fefde8c",
   "metadata": {},
   "source": [
    "## CWR"
   ]
  },
  {
   "cell_type": "markdown",
   "id": "1d1ca7e3-3634-4919-814b-1957b0eb751b",
   "metadata": {},
   "source": [
    "Crop water requirements (CWR) according to Allen et al. (1998) (mm) per month (m) and farm/plot (f)\n",
    "\n",
    "    CWRf,m= ETof,m * Kcc,m"
   ]
  },
  {
   "cell_type": "code",
   "execution_count": null,
   "id": "3da7febc-0621-4c8c-9f12-c163db3567ce",
   "metadata": {},
   "outputs": [],
   "source": [
    "URBAG_map[\"01_CWR\"] = URBAG_map[\"01_ETO\"]*URBAG_map[\"Kc_b_Kc1\"]\n",
    "URBAG_map[\"02_CWR\"] = URBAG_map[\"02_ETO\"]*URBAG_map[\"Kc_b_Kc2\"]\n",
    "URBAG_map[\"03_CWR\"] = URBAG_map[\"03_ETO\"]*URBAG_map[\"Kc_b_Kc3\"]\n",
    "URBAG_map[\"04_CWR\"] = URBAG_map[\"04_ETO\"]*URBAG_map[\"Kc_b_Kc4\"]\n",
    "URBAG_map[\"05_CWR\"] = URBAG_map[\"05_ETO\"]*URBAG_map[\"Kc_b_Kc5\"]\n",
    "URBAG_map[\"06_CWR\"] = URBAG_map[\"06_ETO\"]*URBAG_map[\"Kc_b_Kc6\"]\n",
    "URBAG_map[\"07_CWR\"] = URBAG_map[\"07_ETO\"]*URBAG_map[\"Kc_b_Kc7\"]\n",
    "URBAG_map[\"08_CWR\"] = URBAG_map[\"08_ETO\"]*URBAG_map[\"Kc_b_Kc8\"]\n",
    "URBAG_map[\"09_CWR\"] = URBAG_map[\"09_ETO\"]*URBAG_map[\"Kc_b_Kc9\"]\n",
    "URBAG_map[\"10_CWR\"] = URBAG_map[\"10_ETO\"]*URBAG_map[\"Kc_b_Kc10\"]\n",
    "URBAG_map[\"11_CWR\"] = URBAG_map[\"11_ETO\"]*URBAG_map[\"Kc_b_Kc11\"]\n",
    "URBAG_map[\"12_CWR\"] = URBAG_map[\"12_ETO\"]*URBAG_map[\"Kc_b_Kc12\"]"
   ]
  },
  {
   "cell_type": "code",
   "execution_count": null,
   "id": "8ec34ae6-3cb5-40b4-a194-c1de4f79e1cf",
   "metadata": {},
   "outputs": [],
   "source": [
    "np.sort(pd.unique(URBAG_map[\"01_CWR\"]))"
   ]
  },
  {
   "cell_type": "markdown",
   "id": "3a917468-811c-4961-8e99-891a7cd8e8b4",
   "metadata": {},
   "source": [
    "## PPTe (Effective precipitation)"
   ]
  },
  {
   "cell_type": "markdown",
   "id": "53326ee4-5478-4570-917d-a8fbc52b2cae",
   "metadata": {},
   "source": [
    "Effective precipitation (PPTe) (mm) per month per plot = IF PPT > 4mm then, PPT*0.75, else 0"
   ]
  },
  {
   "cell_type": "code",
   "execution_count": null,
   "id": "0e3f2ac3-b980-4c75-8cda-9f5877664dc0",
   "metadata": {},
   "outputs": [],
   "source": [
    "URBAG_map['01_PPTe'] = np.where(URBAG_map['01_PPT'] >= 4, URBAG_map['01_PPT']*0.75, 0)\n",
    "URBAG_map['02_PPTe'] = np.where(URBAG_map['02_PPT'] >= 4, URBAG_map['02_PPT']*0.75, 0)\n",
    "URBAG_map['03_PPTe'] = np.where(URBAG_map['03_PPT'] >= 4, URBAG_map['03_PPT']*0.75, 0)\n",
    "URBAG_map['04_PPTe'] = np.where(URBAG_map['04_PPT'] >= 4, URBAG_map['04_PPT']*0.75, 0)\n",
    "URBAG_map['05_PPTe'] = np.where(URBAG_map['05_PPT'] >= 4, URBAG_map['05_PPT']*0.75, 0)\n",
    "URBAG_map['06_PPTe'] = np.where(URBAG_map['06_PPT'] >= 4, URBAG_map['06_PPT']*0.75, 0)\n",
    "URBAG_map['07_PPTe'] = np.where(URBAG_map['07_PPT'] >= 4, URBAG_map['07_PPT']*0.75, 0)\n",
    "URBAG_map['08_PPTe'] = np.where(URBAG_map['08_PPT'] >= 4, URBAG_map['08_PPT']*0.75, 0)\n",
    "URBAG_map['09_PPTe'] = np.where(URBAG_map['09_PPT'] >= 4, URBAG_map['09_PPT']*0.75, 0)\n",
    "URBAG_map['10_PPTe'] = np.where(URBAG_map['10_PPT'] >= 4, URBAG_map['10_PPT']*0.75, 0)\n",
    "URBAG_map['11_PPTe'] = np.where(URBAG_map['11_PPT'] >= 4, URBAG_map['11_PPT']*0.75, 0)\n",
    "URBAG_map['12_PPTe'] = np.where(URBAG_map['12_PPT'] >= 4, URBAG_map['12_PPT']*0.75, 0)"
   ]
  },
  {
   "cell_type": "code",
   "execution_count": null,
   "id": "d6b2fd8f-1894-4c4c-a3ad-79813d65a313",
   "metadata": {},
   "outputs": [],
   "source": [
    "pd.unique(URBAG_map['06_PPTe'])"
   ]
  },
  {
   "cell_type": "code",
   "execution_count": null,
   "id": "c5c4c6f8-e6e7-4c3d-bba5-0a81207119dd",
   "metadata": {},
   "outputs": [],
   "source": [
    "URBAG_map['06_PPT']"
   ]
  },
  {
   "cell_type": "markdown",
   "id": "ce995e12-dbca-4018-9c23-01db2e5f527e",
   "metadata": {},
   "source": [
    "## Blue water use / Irrigation demand (ID)"
   ]
  },
  {
   "cell_type": "markdown",
   "id": "5061bef8-06ec-4ff5-a500-63b0ca32ee88",
   "metadata": {},
   "source": [
    "Blue water use (mm)/ Irrigation demand (ID) (mm) per month per plot = CWR – PPTe"
   ]
  },
  {
   "cell_type": "code",
   "execution_count": null,
   "id": "88617a95-1876-4d3f-a31b-83fa688db5f0",
   "metadata": {},
   "outputs": [],
   "source": [
    "URBAG_map[\"01_ID_1\"] = URBAG_map[\"01_CWR\"] - URBAG_map[\"01_PPTe\"]\n",
    "URBAG_map[\"02_ID_1\"] = URBAG_map[\"02_CWR\"] - URBAG_map[\"02_PPTe\"]\n",
    "URBAG_map[\"03_ID_1\"] = URBAG_map[\"03_CWR\"] - URBAG_map[\"03_PPTe\"]\n",
    "URBAG_map[\"04_ID_1\"] = URBAG_map[\"04_CWR\"] - URBAG_map[\"04_PPTe\"]\n",
    "URBAG_map[\"05_ID_1\"] = URBAG_map[\"05_CWR\"] - URBAG_map[\"05_PPTe\"]\n",
    "URBAG_map[\"06_ID_1\"] = URBAG_map[\"06_CWR\"] - URBAG_map[\"06_PPTe\"]\n",
    "URBAG_map[\"07_ID_1\"] = URBAG_map[\"07_CWR\"] - URBAG_map[\"07_PPTe\"]\n",
    "URBAG_map[\"08_ID_1\"] = URBAG_map[\"08_CWR\"] - URBAG_map[\"08_PPTe\"]\n",
    "URBAG_map[\"09_ID_1\"] = URBAG_map[\"09_CWR\"] - URBAG_map[\"09_PPTe\"]\n",
    "URBAG_map[\"10_ID_1\"] = URBAG_map[\"10_CWR\"] - URBAG_map[\"10_PPTe\"]\n",
    "URBAG_map[\"11_ID_1\"] = URBAG_map[\"11_CWR\"] - URBAG_map[\"11_PPTe\"]\n",
    "URBAG_map[\"12_ID_1\"] = URBAG_map[\"12_CWR\"] - URBAG_map[\"12_PPTe\"]"
   ]
  },
  {
   "cell_type": "code",
   "execution_count": null,
   "id": "fe62c56c-a24c-4625-b28d-69c6a470c950",
   "metadata": {},
   "outputs": [],
   "source": [
    "np.sort(pd.unique(URBAG_map[\"01_ID_1\"]))"
   ]
  },
  {
   "cell_type": "code",
   "execution_count": null,
   "id": "a26f22b8-38ce-4240-98fc-ebf98c113158",
   "metadata": {},
   "outputs": [],
   "source": [
    "URBAG_map.loc[pd.isna(URBAG_map[\"01_ID_1\"])] [\"Fid\"]"
   ]
  },
  {
   "cell_type": "markdown",
   "id": "cf4b9549-b5ea-4540-8b06-f108ff61667b",
   "metadata": {},
   "source": [
    "For irrigation demand that is negative i.e. higher PPTe than CRW we ser the irrigation demando to zero"
   ]
  },
  {
   "cell_type": "code",
   "execution_count": null,
   "id": "ee746cc0-29c4-4d7d-8437-2856e09a02f1",
   "metadata": {},
   "outputs": [],
   "source": [
    "URBAG_map['01_ID_2'] = np.where(URBAG_map['01_ID_1'] < 0, 0, URBAG_map['01_ID_1'])\n",
    "URBAG_map['02_ID_2'] = np.where(URBAG_map['02_ID_1'] < 0, 0, URBAG_map['02_ID_1'])\n",
    "URBAG_map['03_ID_2'] = np.where(URBAG_map['03_ID_1'] < 0, 0, URBAG_map['03_ID_1'])\n",
    "URBAG_map['04_ID_2'] = np.where(URBAG_map['04_ID_1'] < 0, 0, URBAG_map['04_ID_1'])\n",
    "URBAG_map['05_ID_2'] = np.where(URBAG_map['05_ID_1'] < 0, 0, URBAG_map['05_ID_1'])\n",
    "URBAG_map['06_ID_2'] = np.where(URBAG_map['06_ID_1'] < 0, 0, URBAG_map['06_ID_1'])\n",
    "URBAG_map['07_ID_2'] = np.where(URBAG_map['07_ID_1'] < 0, 0, URBAG_map['07_ID_1'])\n",
    "URBAG_map['08_ID_2'] = np.where(URBAG_map['08_ID_1'] < 0, 0, URBAG_map['08_ID_1'])\n",
    "URBAG_map['09_ID_2'] = np.where(URBAG_map['09_ID_1'] < 0, 0, URBAG_map['09_ID_1'])\n",
    "URBAG_map['10_ID_2'] = np.where(URBAG_map['10_ID_1'] < 0, 0, URBAG_map['10_ID_1'])\n",
    "URBAG_map['11_ID_2'] = np.where(URBAG_map['11_ID_1'] < 0, 0, URBAG_map['11_ID_1'])\n",
    "URBAG_map['12_ID_2'] = np.where(URBAG_map['12_ID_1'] < 0, 0, URBAG_map['12_ID_1'])"
   ]
  },
  {
   "cell_type": "code",
   "execution_count": null,
   "id": "9402b3a0-ed56-412d-b854-021eb0b40a18",
   "metadata": {},
   "outputs": [],
   "source": [
    "np.sort(pd.unique(URBAG_map[\"12_ID_2\"]))"
   ]
  },
  {
   "cell_type": "markdown",
   "id": "7408b16c-a09f-4cdd-bdea-0d9d2e9c79dd",
   "metadata": {},
   "source": [
    "Further if catastro says there is no irrigation, then irrigation demand is set to zero"
   ]
  },
  {
   "cell_type": "code",
   "execution_count": null,
   "id": "f1505b89-6b4c-4482-a525-116a05f384f7",
   "metadata": {},
   "outputs": [],
   "source": [
    "#checking the URBAG map parameter with the cataster information on which plot has (SI) or not (NO) irrigation\n",
    "URBAG_map['REG_CAT']"
   ]
  },
  {
   "cell_type": "code",
   "execution_count": null,
   "id": "efc903ad-bb68-465f-8576-ea2cb52d09cf",
   "metadata": {},
   "outputs": [],
   "source": [
    "URBAG_map['01_ID'] = np.where(URBAG_map['REG_CAT']==\"NO\", 0, URBAG_map['01_ID_2'])\n",
    "URBAG_map['02_ID'] = np.where(URBAG_map['REG_CAT']==\"NO\", 0, URBAG_map['02_ID_2'])\n",
    "URBAG_map['03_ID'] = np.where(URBAG_map['REG_CAT']==\"NO\", 0, URBAG_map['03_ID_2'])\n",
    "URBAG_map['04_ID'] = np.where(URBAG_map['REG_CAT']==\"NO\", 0, URBAG_map['04_ID_2'])\n",
    "URBAG_map['05_ID'] = np.where(URBAG_map['REG_CAT']==\"NO\", 0, URBAG_map['05_ID_2'])\n",
    "URBAG_map['06_ID'] = np.where(URBAG_map['REG_CAT']==\"NO\", 0, URBAG_map['06_ID_2'])\n",
    "URBAG_map['07_ID'] = np.where(URBAG_map['REG_CAT']==\"NO\", 0, URBAG_map['07_ID_2'])\n",
    "URBAG_map['08_ID'] = np.where(URBAG_map['REG_CAT']==\"NO\", 0, URBAG_map['08_ID_2'])\n",
    "URBAG_map['09_ID'] = np.where(URBAG_map['REG_CAT']==\"NO\", 0, URBAG_map['09_ID_2'])\n",
    "URBAG_map['10_ID'] = np.where(URBAG_map['REG_CAT']==\"NO\", 0, URBAG_map['10_ID_2'])\n",
    "URBAG_map['11_ID'] = np.where(URBAG_map['REG_CAT']==\"NO\", 0, URBAG_map['11_ID_2'])\n",
    "URBAG_map['12_ID'] = np.where(URBAG_map['REG_CAT']==\"NO\", 0, URBAG_map['12_ID_2'])"
   ]
  },
  {
   "cell_type": "code",
   "execution_count": null,
   "id": "3b3273a2-031c-4817-98b6-0bf3ef771bd8",
   "metadata": {},
   "outputs": [],
   "source": [
    "np.sort(pd.unique(URBAG_map[\"12_ID_2\"]))"
   ]
  },
  {
   "cell_type": "markdown",
   "id": "bfc5a836-e23a-4c22-90bd-18b84b43697a",
   "metadata": {},
   "source": [
    "## Water consumed"
   ]
  },
  {
   "cell_type": "markdown",
   "id": "ea4a5ef9-1d83-49c2-ad9e-8572481a33ca",
   "metadata": {},
   "source": [
    "Water consumed (direct water use) (mm) per month per plot\n",
    "\n",
    "If cataster says no irrigation then water consumed is set to zero. Else:\n",
    "\n",
    "Irrigation demand (ID) * (1 + distribution losses (%) + irrigation losses (%))"
   ]
  },
  {
   "cell_type": "code",
   "execution_count": null,
   "id": "713e205b-44ad-4310-8a37-5a4b68de909b",
   "metadata": {},
   "outputs": [],
   "source": [
    "#distribution efficiency is NAN for some plots which do not need irrigation according to Cataster data\n",
    "np.sort(pd.unique(URBAG_map['EFIC_DISTR']))"
   ]
  },
  {
   "cell_type": "code",
   "execution_count": null,
   "id": "901c4dd2-4a64-41b1-a5a6-996e52222eec",
   "metadata": {},
   "outputs": [],
   "source": [
    "#converting efficiency of distribution to losses due to distribution\n",
    "#for plots where there is NAN we set the losses to zero\n",
    "URBAG_map['DISTR_LOSSES'] = np.where(pd.isna(URBAG_map[\"EFIC_DISTR\"]), 0, (100-URBAG_map['EFIC_DISTR']))"
   ]
  },
  {
   "cell_type": "code",
   "execution_count": null,
   "id": "5170c830-6089-4857-a25d-6d5083bc27dc",
   "metadata": {},
   "outputs": [],
   "source": [
    "#checking there are no NAN in the distribution losses\n",
    "np.sort(pd.unique(URBAG_map['DISTR_LOSSES']))"
   ]
  },
  {
   "cell_type": "code",
   "execution_count": null,
   "id": "92343ad6-9e06-47d3-8aa9-0392d3de2ce0",
   "metadata": {},
   "outputs": [],
   "source": [
    "#checking there are no NAN in the distribution losses\n",
    "URBAG_map.loc[pd.isna(URBAG_map[\"DISTR_LOSSES\"])] [\"Fid\"]"
   ]
  },
  {
   "cell_type": "code",
   "execution_count": null,
   "id": "e1b7b1cb-42a8-489b-8fc9-99cf2884e8ab",
   "metadata": {},
   "outputs": [],
   "source": [
    "#converting efficiency of irrifation into losses and for plot with no irrigation NAN is set to zero\n",
    "URBAG_map['RIEGO_LOSSES'] = np.where(pd.isna(URBAG_map['EFIC_RIEGO']), 0, (100-URBAG_map['EFIC_RIEGO']))"
   ]
  },
  {
   "cell_type": "code",
   "execution_count": null,
   "id": "04283bd7-5534-4872-8fc7-89e0e7812e2f",
   "metadata": {},
   "outputs": [],
   "source": [
    "#checking the original irrigation efficiency, some plots have NAN\n",
    "np.sort(pd.unique(URBAG_map['EFIC_RIEGO']))"
   ]
  },
  {
   "cell_type": "code",
   "execution_count": null,
   "id": "54a07c43-9698-468b-a1bd-05abe8d2d2c6",
   "metadata": {},
   "outputs": [],
   "source": [
    "#checking calculated irrigation losses no NAN should appear\n",
    "np.sort(pd.unique(URBAG_map['RIEGO_LOSSES']))"
   ]
  },
  {
   "cell_type": "code",
   "execution_count": null,
   "id": "191c4d38-aad6-44e6-a1e9-cb6d80af2ef2",
   "metadata": {},
   "outputs": [],
   "source": [
    "#checking calculated irrigation losses no NAN should appear, her the Fid of any plot with NAN is identified\n",
    "URBAG_map.loc[pd.isna(URBAG_map[\"RIEGO_LOSSES\"])] [\"Fid\"]"
   ]
  },
  {
   "cell_type": "code",
   "execution_count": null,
   "id": "33342368-a72c-49a5-ae59-c7b63e24ffcf",
   "metadata": {},
   "outputs": [],
   "source": [
    "URBAG_map['LOSSES'] = (1 + (URBAG_map['DISTR_LOSSES']/100) + (URBAG_map['RIEGO_LOSSES']/100))"
   ]
  },
  {
   "cell_type": "code",
   "execution_count": null,
   "id": "76195afe-cb46-4c51-b387-287b1b25086e",
   "metadata": {},
   "outputs": [],
   "source": [
    "#total losses in irrigation and distribution should be above zero or zero, no NAN should appear\n",
    "np.sort(pd.unique(URBAG_map['LOSSES']))"
   ]
  },
  {
   "cell_type": "code",
   "execution_count": null,
   "id": "e585b81e-8a33-4a8d-b872-5dbe1e3805ab",
   "metadata": {},
   "outputs": [],
   "source": [
    "#calculating water extraction including the losses of the systems\n",
    "URBAG_map['01_WE'] = URBAG_map['01_ID'] * URBAG_map['LOSSES']\n",
    "URBAG_map['02_WE'] = URBAG_map['02_ID'] * URBAG_map['LOSSES']\n",
    "URBAG_map['03_WE'] = URBAG_map['03_ID'] * URBAG_map['LOSSES'] \n",
    "URBAG_map['04_WE'] = URBAG_map['04_ID'] * URBAG_map['LOSSES'] \n",
    "URBAG_map['05_WE'] = URBAG_map['05_ID'] * URBAG_map['LOSSES']\n",
    "URBAG_map['06_WE'] = URBAG_map['06_ID'] * URBAG_map['LOSSES']\n",
    "URBAG_map['07_WE'] = URBAG_map['07_ID'] * URBAG_map['LOSSES'] \n",
    "URBAG_map['08_WE'] = URBAG_map['08_ID'] * URBAG_map['LOSSES'] \n",
    "URBAG_map['09_WE'] = URBAG_map['09_ID'] * URBAG_map['LOSSES']\n",
    "URBAG_map['10_WE'] = URBAG_map['10_ID'] * URBAG_map['LOSSES'] \n",
    "URBAG_map['11_WE'] = URBAG_map['11_ID'] * URBAG_map['LOSSES']\n",
    "URBAG_map['12_WE'] = URBAG_map['12_ID'] * URBAG_map['LOSSES']"
   ]
  },
  {
   "cell_type": "code",
   "execution_count": null,
   "id": "abda7d81-4268-41f7-84c3-524469907332",
   "metadata": {},
   "outputs": [],
   "source": [
    "URBAG_map.loc[pd.isna(URBAG_map[\"01_WE\"])] [\"Fid\"]"
   ]
  },
  {
   "cell_type": "markdown",
   "id": "f5048187-36a6-4ac0-a538-72430078ec3d",
   "metadata": {},
   "source": [
    "## OUTPUTS"
   ]
  },
  {
   "cell_type": "code",
   "execution_count": null,
   "id": "7a7a4c89-ab88-416b-a3b2-c1b3a993228d",
   "metadata": {},
   "outputs": [],
   "source": [
    "#Crop water requirement (mm) per month per plot\n",
    "CWR = pd.DataFrame([URBAG_map['Fid'],\n",
    "        URBAG_map['Area']*(1/10000),     #Area per plot in Ha       \n",
    "        URBAG_map['01_CWR'],\n",
    "        URBAG_map['02_CWR'],\n",
    "        URBAG_map['03_CWR'],\n",
    "        URBAG_map['04_CWR'],\n",
    "        URBAG_map['05_CWR'],\n",
    "        URBAG_map['06_CWR'],\n",
    "        URBAG_map['07_CWR'],\n",
    "        URBAG_map['08_CWR'],\n",
    "        URBAG_map['09_CWR'],\n",
    "        URBAG_map['10_CWR'],\n",
    "        URBAG_map['11_CWR'],\n",
    "        URBAG_map['12_CWR']]).T"
   ]
  },
  {
   "cell_type": "code",
   "execution_count": null,
   "id": "3f1ec6c8-e1aa-41fa-9b66-17ba83705eaf",
   "metadata": {},
   "outputs": [],
   "source": [
    "CWR"
   ]
  },
  {
   "cell_type": "code",
   "execution_count": null,
   "id": "20acf2bc-d245-4c03-bb11-a049081d05d2",
   "metadata": {},
   "outputs": [],
   "source": [
    "sns.set()"
   ]
  },
  {
   "cell_type": "code",
   "execution_count": null,
   "id": "b6cf466f-4edc-4f5c-be76-445820a5bd89",
   "metadata": {},
   "outputs": [],
   "source": [
    "#mm per month\n",
    "df=CWR.drop(['Fid',\"Area\"], axis=1)\n",
    "sns.boxplot(data=df, orient=\"h\")\n",
    "plt.xlabel('mm per month')\n",
    "plt.title('Crop Water Requirement (CWR)')"
   ]
  },
  {
   "cell_type": "code",
   "execution_count": null,
   "id": "39acd3f9-1f52-4434-be9b-a73d4e2341a1",
   "metadata": {},
   "outputs": [],
   "source": [
    "#Green water use (mm) per month per plot\n",
    "Green_water = pd.DataFrame([URBAG_map['Fid'],\n",
    "        URBAG_map['Area']*(1/10000),     #Area per plot in Ha\n",
    "        URBAG_map['01_PPTe'],\n",
    "        URBAG_map['02_PPTe'],\n",
    "        URBAG_map['03_PPTe'],\n",
    "        URBAG_map['04_PPTe'],\n",
    "        URBAG_map['05_PPTe'],\n",
    "        URBAG_map['06_PPTe'],\n",
    "        URBAG_map['07_PPTe'],\n",
    "        URBAG_map['08_PPTe'],\n",
    "        URBAG_map['09_PPTe'],\n",
    "        URBAG_map['10_PPTe'],\n",
    "        URBAG_map['11_PPTe'],\n",
    "        URBAG_map['12_PPTe']]).T"
   ]
  },
  {
   "cell_type": "code",
   "execution_count": null,
   "id": "1e76bc29-ee5c-43c3-838d-caa46e670809",
   "metadata": {},
   "outputs": [],
   "source": [
    "Green_water"
   ]
  },
  {
   "cell_type": "code",
   "execution_count": null,
   "id": "043f50a8-f3c9-41e8-9869-4ca602362ff9",
   "metadata": {},
   "outputs": [],
   "source": [
    "#mm per month\n",
    "df2 = Green_water.drop(['Fid',\"Area\"], axis=1)\n",
    "sns.boxplot(data=df2, orient=\"h\")\n",
    "plt.xlabel('mm per month')\n",
    "plt.title('Green Water')"
   ]
  },
  {
   "cell_type": "code",
   "execution_count": null,
   "id": "b1fc718e-6e62-4b67-986d-4a79e4ae40ee",
   "metadata": {},
   "outputs": [],
   "source": [
    "#Blue water use/Irrigation demand (mm) per month per plot\n",
    "Irrigation_Demand = pd.DataFrame([URBAG_map['Fid'],\n",
    "                                URBAG_map['Area']*(1/10000),     #Area per plot in Ha\n",
    "                                URBAG_map['01_ID'],\n",
    "                                URBAG_map['02_ID'],\n",
    "                                URBAG_map['03_ID'],\n",
    "                                URBAG_map['04_ID'],\n",
    "                                URBAG_map['05_ID'],\n",
    "                                URBAG_map['06_ID'],\n",
    "                                URBAG_map['07_ID'],\n",
    "                                URBAG_map['08_ID'],\n",
    "                                URBAG_map['09_ID'],\n",
    "                                URBAG_map['10_ID'],\n",
    "                                URBAG_map['11_ID'],\n",
    "                                URBAG_map['12_ID']]).T"
   ]
  },
  {
   "cell_type": "code",
   "execution_count": null,
   "id": "86833f15-b34f-4f98-9a64-20d3c9947fab",
   "metadata": {},
   "outputs": [],
   "source": [
    "Irrigation_Demand"
   ]
  },
  {
   "cell_type": "code",
   "execution_count": null,
   "id": "13ba6243-419a-411a-afe7-009af00c4f96",
   "metadata": {},
   "outputs": [],
   "source": [
    "#mm per month\n",
    "df3 = Irrigation_Demand.drop(['Fid',\"Area\"], axis=1)\n",
    "sns.boxplot(data=df3, orient=\"h\")\n",
    "plt.xlabel('mm per month')\n",
    "plt.title('Irrigation Demand')"
   ]
  },
  {
   "cell_type": "code",
   "execution_count": null,
   "id": "42b2de30-e39f-438a-93e7-2e5f26c2d293",
   "metadata": {},
   "outputs": [],
   "source": [
    "#Direct water use/Irrigation (mm) per month per plot\n",
    "Water_extraction = pd.DataFrame([URBAG_map['Fid'],\n",
    "                            URBAG_map['Area']*(1/10000),     #Area per plot in Ha\n",
    "                            URBAG_map['01_WE'],\n",
    "                            URBAG_map['02_WE'],\n",
    "                            URBAG_map['03_WE'],\n",
    "                            URBAG_map['04_WE'],\n",
    "                            URBAG_map['05_WE'],\n",
    "                            URBAG_map['06_WE'],\n",
    "                            URBAG_map['07_WE'],\n",
    "                            URBAG_map['08_WE'],\n",
    "                            URBAG_map['09_WE'],\n",
    "                            URBAG_map['10_WE'],\n",
    "                            URBAG_map['11_WE'],\n",
    "                            URBAG_map['12_WE']]).T"
   ]
  },
  {
   "cell_type": "code",
   "execution_count": null,
   "id": "7dedfe7f-8d41-4244-b09f-b8ba80088a10",
   "metadata": {},
   "outputs": [],
   "source": [
    "Water_extraction"
   ]
  },
  {
   "cell_type": "code",
   "execution_count": null,
   "id": "3a8b9bca-7ccf-4223-ac56-61f1c87ec125",
   "metadata": {},
   "outputs": [],
   "source": [
    "Water_extraction.keys()"
   ]
  },
  {
   "cell_type": "code",
   "execution_count": null,
   "id": "9cf69d0e-9a3a-414d-a1da-5e2a7d4b1df2",
   "metadata": {},
   "outputs": [],
   "source": [
    "#mm per month\n",
    "df4 = Water_extraction.drop(['Fid',\"Area\"], axis=1)\n",
    "sns.boxplot(data=df4, orient=\"h\")\n",
    "plt.xlabel('mm per month')\n",
    "plt.title('Water Extraction')"
   ]
  },
  {
   "cell_type": "markdown",
   "id": "3dc16e5e-f1ba-4b99-bac6-bed692c4dc60",
   "metadata": {},
   "source": [
    "## Conversion to m3/ha yr"
   ]
  },
  {
   "cell_type": "markdown",
   "id": "ea121053-56b7-4bf7-82cd-9e4afa5ce4ce",
   "metadata": {},
   "source": [
    "### Irrigation demand conversion from mm/ha * month to m3/ha * yr"
   ]
  },
  {
   "cell_type": "code",
   "execution_count": null,
   "id": "349dfd62-aa46-4e70-89cb-11543e41d0bc",
   "metadata": {},
   "outputs": [],
   "source": [
    "#First step is to find the mm/month per ha! in order to convert later to m3\n",
    "Irrigation_Demand_ha_month = pd.DataFrame()\n",
    "Irrigation_Demand_ha_month['01_ID'] = Irrigation_Demand['01_ID']/Irrigation_Demand['Area']\n",
    "Irrigation_Demand_ha_month['02_ID'] = Irrigation_Demand['02_ID']/Irrigation_Demand['Area']\n",
    "Irrigation_Demand_ha_month['03_ID'] = Irrigation_Demand['03_ID']/Irrigation_Demand['Area']\n",
    "Irrigation_Demand_ha_month['04_ID'] = Irrigation_Demand['04_ID']/Irrigation_Demand['Area']\n",
    "Irrigation_Demand_ha_month['05_ID'] = Irrigation_Demand['05_ID']/Irrigation_Demand['Area']\n",
    "Irrigation_Demand_ha_month['06_ID'] = Irrigation_Demand['06_ID']/Irrigation_Demand['Area']\n",
    "Irrigation_Demand_ha_month['07_ID'] = Irrigation_Demand['07_ID']/Irrigation_Demand['Area']\n",
    "Irrigation_Demand_ha_month['08_ID'] = Irrigation_Demand['08_ID']/Irrigation_Demand['Area']\n",
    "Irrigation_Demand_ha_month['09_ID'] = Irrigation_Demand['09_ID']/Irrigation_Demand['Area']\n",
    "Irrigation_Demand_ha_month['10_ID'] = Irrigation_Demand['10_ID']/Irrigation_Demand['Area']\n",
    "Irrigation_Demand_ha_month['11_ID'] = Irrigation_Demand['11_ID']/Irrigation_Demand['Area']\n",
    "Irrigation_Demand_ha_month['12_ID'] = Irrigation_Demand['12_ID']/Irrigation_Demand['Area']"
   ]
  },
  {
   "cell_type": "code",
   "execution_count": null,
   "id": "f4590d57-b27c-434b-8a92-0c4ab5d060ab",
   "metadata": {},
   "outputs": [],
   "source": [
    "Irrigation_Demand_ha_month"
   ]
  },
  {
   "cell_type": "code",
   "execution_count": null,
   "id": "cd829c3e-c30f-4499-85fb-ed30026df82f",
   "metadata": {},
   "outputs": [],
   "source": [
    "col_list_ID= list(Irrigation_Demand_ha_month)\n",
    "col_list_ID"
   ]
  },
  {
   "cell_type": "code",
   "execution_count": null,
   "id": "a8ee55bd-03bf-4909-baae-06733a15cd38",
   "metadata": {},
   "outputs": [],
   "source": [
    "ID_ha_yr = pd.DataFrame()\n",
    "ID_ha_yr [\"Fid\"] = Irrigation_Demand[\"Fid\"]\n",
    "ID_ha_yr [\"Area\"] = Irrigation_Demand[\"Area\"] #Area in Ha\n",
    "ID_ha_yr [\"ID_mm_ha_yr\"] = Irrigation_Demand_ha_month[col_list_ID].sum(axis=1) #mm per ha year\n",
    "ID_ha_yr"
   ]
  },
  {
   "cell_type": "code",
   "execution_count": null,
   "id": "9f65f8d6-980d-4a42-9aee-9fb4e23136c2",
   "metadata": {},
   "outputs": [],
   "source": [
    "ID_m3_ha_yr = pd.DataFrame()\n",
    "ID_m3_ha_yr [\"Fid\"] = ID_ha_yr[\"Fid\"]\n",
    "ID_m3_ha_yr [\"Area\"] = ID_ha_yr[\"Area\"] #Area in Ha\n",
    "ID_m3_ha_yr [\"ID_m3_ha_yr\"] = ID_ha_yr[\"ID_mm_ha_yr\"] * 10 #m3 per ha year\n",
    "ID_m3_ha_yr"
   ]
  },
  {
   "cell_type": "markdown",
   "id": "9ec11c0d-0147-4741-b2de-fdcaa2dc0da5",
   "metadata": {},
   "source": [
    "### Water_extraction conversion from mm/ha * month to m3/ha * yr"
   ]
  },
  {
   "cell_type": "code",
   "execution_count": null,
   "id": "7cc335f1-ba8b-465e-96d2-c495e98009fb",
   "metadata": {},
   "outputs": [],
   "source": [
    "#First step is to find the mm/month per ha! in order to convert later to m3\n",
    "WE_ha_month = pd.DataFrame()\n",
    "WE_ha_month[\"Fid\"]   = Water_extraction['Fid']\n",
    "WE_ha_month['01_WE'] = Water_extraction['01_WE']/Water_extraction['Area']\n",
    "WE_ha_month['02_WE'] = Water_extraction['02_WE']/Water_extraction['Area']\n",
    "WE_ha_month['03_WE'] = Water_extraction['03_WE']/Water_extraction['Area']\n",
    "WE_ha_month['04_WE'] = Water_extraction['04_WE']/Water_extraction['Area']\n",
    "WE_ha_month['05_WE'] = Water_extraction['05_WE']/Water_extraction['Area']\n",
    "WE_ha_month['06_WE'] = Water_extraction['06_WE']/Water_extraction['Area']\n",
    "WE_ha_month['07_WE'] = Water_extraction['07_WE']/Water_extraction['Area']\n",
    "WE_ha_month['08_WE'] = Water_extraction['08_WE']/Water_extraction['Area']\n",
    "WE_ha_month['09_WE'] = Water_extraction['09_WE']/Water_extraction['Area']\n",
    "WE_ha_month['10_WE'] = Water_extraction['10_WE']/Water_extraction['Area']\n",
    "WE_ha_month['11_WE'] = Water_extraction['11_WE']/Water_extraction['Area']\n",
    "WE_ha_month['12_WE'] = Water_extraction['12_WE']/Water_extraction['Area']"
   ]
  },
  {
   "cell_type": "code",
   "execution_count": null,
   "id": "865f1a17-e1f7-45b6-ae86-14c40735e5af",
   "metadata": {},
   "outputs": [],
   "source": [
    "WE_ha_month"
   ]
  },
  {
   "cell_type": "code",
   "execution_count": null,
   "id": "f580c70a-68da-4dfe-8251-abcb15e4322a",
   "metadata": {},
   "outputs": [],
   "source": [
    "WE_ha_month.loc[pd.isna(WE_ha_month[\"01_WE\"])] [\"Fid\"]"
   ]
  },
  {
   "cell_type": "code",
   "execution_count": null,
   "id": "d807c740-c2a8-41e3-b9db-61dedade4966",
   "metadata": {},
   "outputs": [],
   "source": [
    "Water_extraction.loc[WE_ha_month[\"Fid\"]==559][\"Area\"]"
   ]
  },
  {
   "cell_type": "code",
   "execution_count": null,
   "id": "625b5870-77fc-47f7-a999-9ea174fce233",
   "metadata": {},
   "outputs": [],
   "source": [
    "WE_ha_month.loc[WE_ha_month[\"Fid\"]==559]"
   ]
  },
  {
   "cell_type": "code",
   "execution_count": null,
   "id": "1210058b-76fe-4cdf-8bf1-3bed7c508ac2",
   "metadata": {},
   "outputs": [],
   "source": [
    "#mm/ha per month\n",
    "df5 = WE_ha_month.drop(['Fid'], axis=1)\n",
    "sns.boxplot(data=df5, orient=\"h\", showfliers=False)\n",
    "plt.xlabel('mm per month')\n",
    "plt.title('Water extraction')"
   ]
  },
  {
   "cell_type": "code",
   "execution_count": null,
   "id": "5f999c92-396d-4baa-b7b1-7c6b26a24324",
   "metadata": {},
   "outputs": [],
   "source": [
    "col_list= list(WE_ha_month)\n",
    "col_list.remove('Fid')\n",
    "col_list"
   ]
  },
  {
   "cell_type": "code",
   "execution_count": null,
   "id": "cc9a76b2-2bb7-4570-8b16-4dd29c4f9a9c",
   "metadata": {},
   "outputs": [],
   "source": [
    "WE_ha_yr = pd.DataFrame()\n",
    "WE_ha_yr [\"Fid\"] = Water_extraction[\"Fid\"]\n",
    "WE_ha_yr [\"Area\"] = Water_extraction[\"Area\"] #Area in Ha\n",
    "WE_ha_yr [\"WE_mm_ha_yr\"] = WE_ha_month[col_list].sum(axis=1) #mm per ha year\n",
    "WE_ha_yr"
   ]
  },
  {
   "cell_type": "code",
   "execution_count": null,
   "id": "ecf5626a-9ea3-44de-8e47-fe195030f973",
   "metadata": {},
   "outputs": [],
   "source": [
    "WE_ha_yr[\"WE_mm_ha_yr\"].sort_values(ascending=True)"
   ]
  },
  {
   "cell_type": "code",
   "execution_count": null,
   "id": "36ef55ed-9dcb-42ca-85f3-69553b23f47a",
   "metadata": {},
   "outputs": [],
   "source": [
    "WE_ha_yr[\"WE_mm_ha_yr\"].plot(kind=\"box\", showfliers=False)\n",
    "plt.title('Water extraction - mm per ha yr')"
   ]
  },
  {
   "cell_type": "code",
   "execution_count": null,
   "id": "a2f7b268-e99a-45bf-a7e9-abe7af41873e",
   "metadata": {},
   "outputs": [],
   "source": [
    "WE_m3_ha_yr = pd.DataFrame()\n",
    "WE_m3_ha_yr [\"Fid\"] = WE_ha_yr[\"Fid\"]\n",
    "WE_m3_ha_yr [\"Area\"] = WE_ha_yr[\"Area\"] #Area in Ha\n",
    "WE_m3_ha_yr [\"WE_m3_ha_yr\"] = WE_ha_yr[\"WE_mm_ha_yr\"] * 10 #m3 per ha year\n",
    "WE_m3_ha_yr"
   ]
  },
  {
   "cell_type": "code",
   "execution_count": null,
   "id": "21ce17b8-64be-4df2-89f5-9b6030926b22",
   "metadata": {},
   "outputs": [],
   "source": [
    "WE_m3_ha_yr [\"WE_m3_ha_yr\"].sort_values(ascending=True)"
   ]
  },
  {
   "cell_type": "code",
   "execution_count": null,
   "id": "dde12e3a-e2df-42b3-a83e-3ff13c393923",
   "metadata": {},
   "outputs": [],
   "source": [
    "URBAG_map[\"WE_m3_ha_yr\"] = WE_m3_ha_yr [\"WE_m3_ha_yr\"]"
   ]
  },
  {
   "cell_type": "code",
   "execution_count": null,
   "id": "c6eac7ba-f423-480c-affd-173c945b7ac1",
   "metadata": {},
   "outputs": [],
   "source": [
    "URBAG_map[\"WE_m3_ha_yr\"].plot(kind=\"box\", showfliers=False)\n",
    "plt.title('Water extraction - m3 per ha yr')"
   ]
  },
  {
   "cell_type": "code",
   "execution_count": null,
   "id": "85c810cd-7897-44e6-9c8c-4f5fa2d28855",
   "metadata": {},
   "outputs": [],
   "source": [
    "URBAG_map = URBAG_map.drop(['01_ID_1', '02_ID_1',\n",
    "       '03_ID_1', '04_ID_1', '05_ID_1', '06_ID_1', '07_ID_1', '08_ID_1',\n",
    "       '09_ID_1', '10_ID_1', '11_ID_1', '12_ID_1', '01_ID_2', '02_ID_2',\n",
    "       '03_ID_2', '04_ID_2', '05_ID_2', '06_ID_2', '07_ID_2', '08_ID_2',\n",
    "       '09_ID_2', '10_ID_2', '11_ID_2', '12_ID_2', 'DISTR_LOSSES', 'RIEGO_LOSSES'], axis=1)"
   ]
  },
  {
   "cell_type": "code",
   "execution_count": null,
   "id": "1252e0c1-bc78-467f-a8a6-39e8286bc090",
   "metadata": {},
   "outputs": [],
   "source": [
    "URBAG_map.keys().values"
   ]
  },
  {
   "cell_type": "code",
   "execution_count": null,
   "id": "f586cd96-7f6f-4e50-9e63-06f0eb767bf2",
   "metadata": {},
   "outputs": [],
   "source": [
    "#1e6 m3 = hm3\n",
    "AMB_total_water_irrigation_demand = np.sum(ID_m3_ha_yr[\"Area\"]*ID_m3_ha_yr[\"ID_m3_ha_yr\"])/1e6"
   ]
  },
  {
   "cell_type": "code",
   "execution_count": null,
   "id": "dfee6cab-e466-494d-a5d3-b0b0fdf365e4",
   "metadata": {},
   "outputs": [],
   "source": [
    "print(\"Total water irrigation demand in hm3/yr is \"+ str(AMB_total_water_irrigation_demand))"
   ]
  },
  {
   "cell_type": "code",
   "execution_count": null,
   "id": "e232de57-0da8-45f0-bf69-fce734ea4e45",
   "metadata": {},
   "outputs": [],
   "source": [
    "#1e6 m3 = hm3\n",
    "AMB_total_water_extraction = np.sum((URBAG_map[\"Area\"]*(1/10000))*URBAG_map[\"WE_m3_ha_yr\"])/1e6"
   ]
  },
  {
   "cell_type": "code",
   "execution_count": null,
   "id": "c76d36a6-3050-4836-b873-efe1179fe51d",
   "metadata": {},
   "outputs": [],
   "source": [
    "print(\"Total water extraction in hm3/yr is \"+ str(AMB_total_water_extraction))"
   ]
  },
  {
   "cell_type": "markdown",
   "id": "6b1e79ff-f61e-4f6b-a571-ce749e69e246",
   "metadata": {},
   "source": [
    "## Saving outputs"
   ]
  },
  {
   "cell_type": "code",
   "execution_count": null,
   "id": "7212e76c-467f-4c8c-914a-8441650f3901",
   "metadata": {},
   "outputs": [],
   "source": [
    "%store URBAG_map"
   ]
  },
  {
   "cell_type": "code",
   "execution_count": null,
   "id": "f1207023-63d1-46be-90c2-91407a860f79",
   "metadata": {},
   "outputs": [],
   "source": [
    "CWR.to_csv(\"output/\" + scen + \"/water/CWR.csv\") #mm/month crop water requirements\n",
    "Green_water.to_csv(\"output/\" + scen + \"/water/Green_water.csv\") #mm/month Effective precipitation\n",
    "Irrigation_Demand.to_csv(\"output/\" + scen + \"/water/Irrigation_Demand.csv\") #mm/month\n",
    "Water_extraction.to_csv(\"output/\" + scen + \"/water/Water_extraction.csv\") #mm/month after losses\n",
    "WE_ha_yr.to_csv(\"output/\" + scen + \"/water/WE_ha_yr.csv\") #mm /ha * year\n",
    "WE_m3_ha_yr.to_csv(\"output/\" + scen + \"/water/WE_m3_ha_yr.csv\") #m3 /ha * year"
   ]
  },
  {
   "cell_type": "code",
   "execution_count": null,
   "id": "7f495df5-3b16-40aa-bcb7-c7695e67fefb",
   "metadata": {},
   "outputs": [],
   "source": []
  },
  {
   "cell_type": "code",
   "execution_count": null,
   "id": "7fd67ac7-0e3d-42ad-ab95-81c10fc8bb0a",
   "metadata": {},
   "outputs": [],
   "source": []
  },
  {
   "cell_type": "code",
   "execution_count": null,
   "id": "fd1d1cbb-f38a-4bca-ae68-f82b9662878d",
   "metadata": {},
   "outputs": [],
   "source": []
  },
  {
   "cell_type": "code",
   "execution_count": null,
   "id": "e3f1ce9c-9bfc-4397-af09-1b5975253409",
   "metadata": {},
   "outputs": [],
   "source": []
  },
  {
   "cell_type": "code",
   "execution_count": null,
   "id": "3a0aef1c-3f10-48b5-92e4-40dd5ee2ec8c",
   "metadata": {},
   "outputs": [],
   "source": []
  },
  {
   "cell_type": "code",
   "execution_count": null,
   "id": "0c7743a8-1cdb-4cec-aee1-c78d419361f6",
   "metadata": {},
   "outputs": [],
   "source": []
  },
  {
   "cell_type": "code",
   "execution_count": null,
   "id": "d2ae5c6d-2b61-4a2d-b117-b9287c334a40",
   "metadata": {},
   "outputs": [],
   "source": []
  },
  {
   "cell_type": "code",
   "execution_count": null,
   "id": "2c1b48bf-a1ea-427a-b79e-e59974c4682b",
   "metadata": {},
   "outputs": [],
   "source": []
  }
 ],
 "metadata": {
  "kernelspec": {
   "display_name": "Python 3 (ipykernel)",
   "language": "python",
   "name": "python3"
  },
  "language_info": {
   "codemirror_mode": {
    "name": "ipython",
    "version": 3
   },
   "file_extension": ".py",
   "mimetype": "text/x-python",
   "name": "python",
   "nbconvert_exporter": "python",
   "pygments_lexer": "ipython3",
   "version": "3.11.8"
  }
 },
 "nbformat": 4,
 "nbformat_minor": 5
}
