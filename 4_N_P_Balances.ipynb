{
 "cells": [
  {
   "cell_type": "markdown",
   "metadata": {
    "tags": []
   },
   "source": [
    "# N,P, K balances"
   ]
  },
  {
   "cell_type": "markdown",
   "metadata": {},
   "source": [
    "This notebook balances the NPK inputs and outputs assuming that any deficit is covered by mineral fertilizer and any excess is reduced from mineral fertilizer and N fixation."
   ]
  },
  {
   "cell_type": "code",
   "execution_count": null,
   "metadata": {},
   "outputs": [],
   "source": [
    "import pandas as pd\n",
    "import numpy as np\n",
    "import matplotlib.pyplot as plt\n",
    "import seaborn as sns"
   ]
  },
  {
   "cell_type": "code",
   "execution_count": null,
   "metadata": {},
   "outputs": [],
   "source": [
    "#In this cell the scenario is chosen. This can either be defined here or in the RUN_ALL.ipynb\n",
    "#If defined here unmark the scen = line and select the scenario you will run.\n",
    "#If defined in RUN_ALL.ipynb unmark the %store -r scen line.\n",
    "#Scenario names are:\n",
    "#S0_MinFert > N,P,K demand met by mineral fertilizers only\n",
    "#S0_struvite_P > P demand met by struvite, N demand met by struvite and mineral fertilizer and K demand met by mineral fertilizer\n",
    "#S0_compost > N,P,K supplied by compost produced in the AMB, remaining N,P,K demand met by mineral fertilizer\n",
    "#S0_Ammon_salts > N supplied from recovered ammonium salts and from mineral fertilizers, P from struvite and K from mineral fertilizer\n",
    "scen = 'S0_MinFert'\n",
    "#%store -r scen"
   ]
  },
  {
   "cell_type": "code",
   "execution_count": null,
   "metadata": {},
   "outputs": [],
   "source": [
    "print(scen)"
   ]
  },
  {
   "cell_type": "code",
   "execution_count": null,
   "metadata": {},
   "outputs": [],
   "source": [
    "%store -r URBAG_map\n",
    "%store -r d_conv_emiss\n",
    "\n",
    "%store -r Manure_N\n",
    "%store -r Manure_P2O5\n",
    "\n",
    "%store -r N_agriwaste_to_field\n",
    "\n",
    "%store -r Mineral_fert_N\n",
    "%store -r Mineral_fert_P2O5\n",
    "%store -r Mineral_fert_K2O\n",
    "%store -r Ammonium_salts\n",
    "\n",
    "%store -r Struvite_P2O5\n",
    "%store -r Struvite_N\n",
    "%store -r Struvite_K2O\n",
    "\n",
    "%store -r Compost_P2O5\n",
    "%store -r Compost_N\n",
    "%store -r Compost_K2O"
   ]
  },
  {
   "cell_type": "code",
   "execution_count": null,
   "metadata": {},
   "outputs": [],
   "source": [
    "#Crops that have N fixation\n",
    "N_fixation_crop = ['ALFALS',\n",
    "                   'CIGRONS',\n",
    "                   'FAVES I FAVONS',\n",
    "                   'GARROFER',\n",
    "                   'Garroferars',\n",
    "                   'Garroferars abandonats - prats en zones agrÃƒÂ\\xadcoles',\n",
    "                   'Garroferars abandonats - prats en zones agrícoles',\n",
    "                   'Garroferars en bancals',\n",
    "                   'PESOLS',\n",
    "                   'TREPADELLA']"
   ]
  },
  {
   "cell_type": "code",
   "execution_count": null,
   "metadata": {},
   "outputs": [],
   "source": [
    "len_URBAG_map= len(URBAG_map['Voronoi_1'])\n",
    "print(f\"This is the amount of plots in the map in this notebook: {len_URBAG_map}\")"
   ]
  },
  {
   "cell_type": "code",
   "execution_count": null,
   "metadata": {},
   "outputs": [],
   "source": [
    "#Others\n",
    "NH3_N_to_NH3 = 17/14\n",
    "NH3_to_NH3_N = 14/17\n",
    "N2O_N_to_N2O = 44/28\n",
    "N2O_to_N2O_N = 28/44\n",
    "NO2_N_to_NO2 = 46/14\n",
    "NO2_to_NO2_N = 14/46\n",
    "NO3_N_to_NO3 = 62/14\n",
    "NO3_to_NO3_N = 14/62\n",
    "C_to_CO2 = 44/12\n",
    "\n",
    "conv6 = np.repeat(NH3_to_NH3_N, len_URBAG_map) #Conversion from NH3 to NH3-N\n",
    "conv7 = np.repeat(NO2_to_NO2_N, len_URBAG_map) #Conversion NO2 to NO2-N\n",
    "conv8 = np.repeat(N2O_to_N2O_N, len_URBAG_map) #Conversion N2O to NO2-N\n",
    "conv9 = np.repeat(NO3_to_NO3_N, len_URBAG_map) #Conversion NO3 to NO3-N\n",
    "\n",
    "#constants to change emissions of nitrate from Nitrate-N to Nitrate\n",
    "NO3_N_to_NO3 = 62/14\n",
    "P_to_P2O5 = 2.29\n",
    "P2O5_to_P = 0.4364\n",
    "P_to_PO43 = 1/0.3261\n",
    "PO43_to_P = 0.3261\n",
    "conv4  = np.repeat(NO3_N_to_NO3, len_URBAG_map) #Conversion from NO3-N to NO3\n",
    "conv9_1  = np.repeat(P_to_P2O5, len_URBAG_map) #Conversion P to P2O5\n",
    "conv10 = np.repeat(P2O5_to_P, len_URBAG_map) #Conversion P2O5 to P2O5-P\n",
    "conv11 = np.repeat(P_to_PO43, len_URBAG_map) #Conversion phosphate-P to phosphate\n",
    "conv12 = np.repeat(PO43_to_P, len_URBAG_map) #Conversion phosphate to phosphate-P"
   ]
  },
  {
   "cell_type": "code",
   "execution_count": null,
   "metadata": {},
   "outputs": [],
   "source": [
    "N_balance = pd.DataFrame(URBAG_map)\n",
    "N_balance.head()"
   ]
  },
  {
   "cell_type": "markdown",
   "metadata": {
    "tags": []
   },
   "source": [
    "## Nitrogen Balance"
   ]
  },
  {
   "cell_type": "markdown",
   "metadata": {},
   "source": [
    "### N Fixation"
   ]
  },
  {
   "cell_type": "code",
   "execution_count": null,
   "metadata": {},
   "outputs": [],
   "source": [
    "#List with all voronoi categories for all parcels\n",
    "Fresh_matter_Voronoi_list = URBAG_map['Voronoi_1'].tolist()\n",
    "\n",
    "#List with total mineral N inputs for all parcels, assumed to be the same as N removed with the harvest\n",
    "Fresh_matter_N_harv_list = URBAG_map['kgN/ha'].tolist()\n"
   ]
  },
  {
   "cell_type": "code",
   "execution_count": null,
   "metadata": {
    "tags": []
   },
   "outputs": [],
   "source": [
    "#Adding N Fixation for fixating crops and is equal to N removed with the harvest\n",
    "N_fixation = []   \n",
    "for row in range(0,np.shape(Fresh_matter_Voronoi_list)[0]):\n",
    "    vor = Fresh_matter_Voronoi_list[row]\n",
    "    if vor in N_fixation_crop:\n",
    "        N_fixation.append(Fresh_matter_N_harv_list[row])\n",
    "    else:\n",
    "        N_fixation.append(0)"
   ]
  },
  {
   "cell_type": "code",
   "execution_count": null,
   "metadata": {},
   "outputs": [],
   "source": [
    "len_N_fixation = len(N_fixation)\n",
    "print(f\"This is the amount of plots in the N fixation parameter: {len_N_fixation}\")"
   ]
  },
  {
   "cell_type": "markdown",
   "metadata": {},
   "source": [
    "### Total N emissions to air and water"
   ]
  },
  {
   "cell_type": "code",
   "execution_count": null,
   "metadata": {},
   "outputs": [],
   "source": [
    "#Emissions as kg N/ha\n",
    "NH3_N = d_conv_emiss['NH3_total_air'] * conv6\n",
    "NOx_N = d_conv_emiss['NOx_total_air'] * conv7\n",
    "N2O_N = d_conv_emiss['N2O_total_air'] * conv8\n",
    "NO3_N = d_conv_emiss['NO3_total'] * conv9\n",
    "Outputs_N_out = NH3_N + NOx_N + N2O_N + NO3_N"
   ]
  },
  {
   "cell_type": "markdown",
   "metadata": {},
   "source": [
    "### Total N inputs"
   ]
  },
  {
   "cell_type": "code",
   "execution_count": null,
   "metadata": {},
   "outputs": [],
   "source": [
    "#Inputs calculation [kg N/ha]\n",
    "#N inputs incl. (mineral fertilizers, manure, residues returned to field) + N2 fixation by fixating crops + struvite inputs + Compost inputs\n",
    "N_inputs_N_fix = Ammonium_salts + Mineral_fert_N + Manure_N + N_agriwaste_to_field + N_fixation + Struvite_N + Compost_N"
   ]
  },
  {
   "cell_type": "code",
   "execution_count": null,
   "metadata": {},
   "outputs": [],
   "source": [
    "N_inputs_N_fix.describe()"
   ]
  },
  {
   "cell_type": "code",
   "execution_count": null,
   "metadata": {
    "tags": []
   },
   "outputs": [],
   "source": [
    "#Inputs minus outputs\n",
    "#(mineral fertilizers + manure + residues returned to field + N fixation + Struvite + Compost) - (N removal with harvest + NH3 + NOx + N2O + NO3_base)\n",
    "Balance_N = N_inputs_N_fix - (Outputs_N_out + Fresh_matter_N_harv_list)"
   ]
  },
  {
   "cell_type": "code",
   "execution_count": null,
   "metadata": {},
   "outputs": [],
   "source": [
    "Balance_N.describe()"
   ]
  },
  {
   "cell_type": "markdown",
   "metadata": {
    "tags": []
   },
   "source": [
    "### N variables before balance"
   ]
  },
  {
   "cell_type": "code",
   "execution_count": null,
   "metadata": {},
   "outputs": [],
   "source": [
    "#Variable with inputs, outputs and balance before adjustments\n",
    "N_balance['N_fert'] = Mineral_fert_N  #Before balance this is equal to N remove with harvest\n",
    "N_balance['N_manure'] = Manure_N\n",
    "N_balance['N_residues'] = N_agriwaste_to_field\n",
    "N_balance['N_Struvite'] = Struvite_N #Before balance this is equal to N remove with harvest\n",
    "N_balance['N_Compost'] = Compost_N\n",
    "N_balance['N_Ammonium_salts'] = Ammonium_salts\n",
    "N_balance['N_in'] = Mineral_fert_N + Ammonium_salts + Manure_N + N_agriwaste_to_field + Struvite_N + Compost_N\n",
    "N_balance['N_fix'] = N_fixation\n",
    "N_balance['N_in_incl_N_fix'] = N_inputs_N_fix #>>>!!!ALL INPUTS incl. fix, struvite and compost\n",
    "N_balance['N_NO3_base'] = NO3_N\n",
    "N_balance['N_out'] = Outputs_N_out #Emissions sum NH3 + NOx + NO3 + N2O\n",
    "N_balance['N_harv'] = Fresh_matter_N_harv_list #N removed with harvest\n",
    "N_balance['N_out_incl_N_harv'] = Outputs_N_out + Fresh_matter_N_harv_list #>>>!!!ALL OUTPUTS\n",
    "N_balance['N_Balance_incl_fix'] = Balance_N #N_inputs_N_fix - Outputs_N_4"
   ]
  },
  {
   "cell_type": "code",
   "execution_count": null,
   "metadata": {},
   "outputs": [],
   "source": [
    "#Total kg N per yr from mineral fertilizer\n",
    "np.sum(N_balance['Area']*(1/10000) * N_balance['N_fert'])/1000"
   ]
  },
  {
   "cell_type": "code",
   "execution_count": null,
   "metadata": {},
   "outputs": [],
   "source": [
    "print(\"The data before balance is:\")"
   ]
  },
  {
   "cell_type": "code",
   "execution_count": null,
   "metadata": {},
   "outputs": [],
   "source": [
    "print(N_balance[['N_fert', 'N_manure', 'N_residues', 'N_Struvite', 'N_Compost',\n",
    "       'N_Ammonium_salts', 'N_in', 'N_fix', 'N_in_incl_N_fix',\n",
    "       'N_NO3_base', 'N_out', 'N_harv', 'N_out_incl_N_harv',\n",
    "       'N_Balance_incl_fix']].describe())"
   ]
  },
  {
   "cell_type": "code",
   "execution_count": null,
   "metadata": {},
   "outputs": [],
   "source": [
    "test = N_balance.loc[N_balance['N_Balance_incl_fix']>0]\n",
    "test\n",
    "#test[test[\"Fid\"]==1772]"
   ]
  },
  {
   "cell_type": "markdown",
   "metadata": {},
   "source": [
    "### N Balancing equations"
   ]
  },
  {
   "cell_type": "code",
   "execution_count": null,
   "metadata": {},
   "outputs": [],
   "source": [
    "#Condition 1: Plots where the balance is larger than 0 i.e. inputs are larger than outputs\n",
    "#Condition 2: Plots where the balance is smaller than 0 i.e. outputs are larger than inputs\n",
    "cond1 = N_balance['N_Balance_incl_fix'] > 0\n",
    "cond2 = N_balance['N_Balance_incl_fix'] <= 0\n",
    "\n",
    "#For plots in condition 1:\n",
    "#These should be plots with N fixation\n",
    "#N fertilizer is reduced with the excess\n",
    "#Further in the N_bln variable fertilizer is set to 0 where this balance leads to negative fertilizer use and fixation is reduced as well.\n",
    "if scen == 'S0_MinFert':\n",
    "    N_balance.loc[N_balance.index[cond1],'N_fert_1']     = N_balance.loc[N_balance.index[cond1],'N_fert'] - N_balance.loc[N_balance.index[cond1],'N_Balance_incl_fix']\n",
    "elif scen == 'S0_struvite_P':\n",
    "    N_balance.loc[N_balance.index[cond1],'N_fert_1']     = N_balance.loc[N_balance.index[cond1],'N_fert'] - N_balance.loc[N_balance.index[cond1],'N_Balance_incl_fix']\n",
    "elif scen == 'S0_compost':\n",
    "    N_balance.loc[N_balance.index[cond1],'N_fert_1']     = N_balance.loc[N_balance.index[cond1],'N_fert'] - N_balance.loc[N_balance.index[cond1],'N_Balance_incl_fix']\n",
    "elif scen == 'S0_Ammon_salts':\n",
    "    N_balance.loc[N_balance.index[cond1],'N_fert_1']     = N_balance.loc[N_balance.index[cond1],'N_fert'] - N_balance.loc[N_balance.index[cond1],'N_Balance_incl_fix']\n",
    "else:\n",
    "    pass\n",
    "\n",
    "#For plots in condition 2:\n",
    "#These should be most plots\n",
    "#N fertilizer is increased with the difference\n",
    "if scen == 'S0_MinFert':\n",
    "    N_balance.loc[N_balance.index[cond2],'N_fert_1']     = N_balance.loc[N_balance.index[cond2],'N_fert'] + np.abs(N_balance.loc[N_balance.index[cond2],'N_Balance_incl_fix'])\n",
    "elif scen == 'S0_struvite_P':\n",
    "    N_balance.loc[N_balance.index[cond2],'N_fert_1']     = N_balance.loc[N_balance.index[cond2],'N_fert'] + np.abs(N_balance.loc[N_balance.index[cond2],'N_Balance_incl_fix'])\n",
    "elif scen == 'S0_compost':\n",
    "    N_balance.loc[N_balance.index[cond2],'N_fert_1']     = N_balance.loc[N_balance.index[cond2],'N_fert'] + np.abs(N_balance.loc[N_balance.index[cond2],'N_Balance_incl_fix'])\n",
    "elif scen == 'S0_Ammon_salts':\n",
    "    N_balance.loc[N_balance.index[cond2],'N_fert_1']     = N_balance.loc[N_balance.index[cond2],'N_fert'] + np.abs(N_balance.loc[N_balance.index[cond2],'N_Balance_incl_fix'])\n",
    "else:\n",
    "    pass"
   ]
  },
  {
   "cell_type": "code",
   "execution_count": null,
   "metadata": {},
   "outputs": [],
   "source": [
    "N_balance['N_fert_1'].describe()"
   ]
  },
  {
   "cell_type": "code",
   "execution_count": null,
   "metadata": {},
   "outputs": [],
   "source": [
    "np.min(N_balance['N_fert_1'])"
   ]
  },
  {
   "cell_type": "code",
   "execution_count": null,
   "metadata": {},
   "outputs": [],
   "source": [
    "np.max(N_balance['N_fert_1'])"
   ]
  },
  {
   "cell_type": "code",
   "execution_count": null,
   "metadata": {},
   "outputs": [],
   "source": [
    "np.max(N_balance['N_harv'])"
   ]
  },
  {
   "cell_type": "code",
   "execution_count": null,
   "metadata": {},
   "outputs": [],
   "source": [
    "#plots with no removed N should only be with no crops in\n",
    "pd.unique(N_balance.loc[N_balance['N_harv']==0][\"Voronoi_1\"])"
   ]
  },
  {
   "cell_type": "markdown",
   "metadata": {
    "tags": []
   },
   "source": [
    "### N variables after balance "
   ]
  },
  {
   "cell_type": "code",
   "execution_count": null,
   "metadata": {},
   "outputs": [],
   "source": [
    "URBAG_map.keys().values"
   ]
  },
  {
   "cell_type": "code",
   "execution_count": null,
   "metadata": {},
   "outputs": [],
   "source": [
    "N_bln = pd.DataFrame(URBAG_map)"
   ]
  },
  {
   "cell_type": "code",
   "execution_count": null,
   "metadata": {},
   "outputs": [],
   "source": [
    "N_bln.keys().values"
   ]
  },
  {
   "cell_type": "code",
   "execution_count": null,
   "metadata": {
    "tags": []
   },
   "outputs": [],
   "source": [
    "N_bln = pd.DataFrame(URBAG_map.drop(['TIPO_RIEGO', 'EFIC_RIEGO', 'TIPO_DIST', 'EFIC_DISTR', 'DUN_GRUP',\n",
    "        'TF', 'REG_CREAF', 'REG_CAT', 'TF_REG',\n",
    "        '01_ETO', '02_ETO', '03_ETO', '04_ETO',\n",
    "       '05_ETO', '06_ETO', '07_ETO', '08_ETO', '09_ETO', '10_ETO',\n",
    "       '11_ETO', '12_ETO', '01_PPT', '02_PPT', '03_PPT', '04_PPT',\n",
    "       '05_PPT', '06_PPT', '07_PPT', '08_PPT', '09_PPT', '10_PPT',\n",
    "       '11_PPT', '12_PPT', \n",
    "       'ID_SUBCUEN', 'N_SUBCUENC', 'SUBCUENCAS',\n",
    "        'EF_Tier2',\n",
    "       'id_final', 'Kc_b_Kc1', 'Kc_b_Kc2', 'Kc_b_Kc3', 'Kc_b_Kc4',\n",
    "       'Kc_b_Kc5', 'Kc_b_Kc6', 'Kc_b_Kc7', 'Kc_b_Kc8', 'Kc_b_Kc9',\n",
    "       'Kc_b_Kc10', 'Kc_b_Kc11', 'Kc_b_Kc12', 'N_T', 'P_T', 'K_T',\n",
    "       'Voronoi_ag', 'Vor_ag_Num', 'FoodTons_N', '01_CWR', '02_CWR',\n",
    "       '03_CWR', '04_CWR', '05_CWR', '06_CWR', '07_CWR', '08_CWR',\n",
    "       '09_CWR', '10_CWR', '11_CWR', '12_CWR', '01_PPTe', '02_PPTe',\n",
    "       '03_PPTe', '04_PPTe', '05_PPTe', '06_PPTe', '07_PPTe', '08_PPTe',\n",
    "       '09_PPTe', '10_PPTe', '11_PPTe', '12_PPTe', '01_ID', '02_ID',\n",
    "       '03_ID', '04_ID', '05_ID', '06_ID', '07_ID', '08_ID', '09_ID',\n",
    "       '10_ID', '11_ID', '12_ID', 'LOSSES', '01_WE', '02_WE', '03_WE',\n",
    "       '04_WE', '05_WE', '06_WE', '07_WE', '08_WE', '09_WE', '10_WE',\n",
    "       '11_WE', '12_WE', 'WE_m3_ha_yr', 'Manure', 'Manure_N',\n",
    "       'Manure_P2O5', 'Agriwaste_toField', 'Agriwaste_burned',\n",
    "       'N_agriwaste_to_field',],axis=1))\n",
    "N_bln.head()"
   ]
  },
  {
   "cell_type": "code",
   "execution_count": null,
   "metadata": {},
   "outputs": [],
   "source": [
    "N_bln.keys().values"
   ]
  },
  {
   "cell_type": "code",
   "execution_count": null,
   "metadata": {},
   "outputs": [],
   "source": [
    "N_bln['N_Manure'] = Manure_N #Kg N/ha\n",
    "N_bln['N_Fertiliser'] = np.where(N_balance['N_fert_1']<0,0,N_balance['N_fert_1'])  #Kg N/ha\n",
    "N_bln['N_Residues'] = N_agriwaste_to_field  #Kg N/ha\n",
    "N_bln['N_Struvite'] = N_balance['N_Struvite'] #Kg N/ha (struvite)\n",
    "N_bln['N_Compost'] = N_balance['N_Compost'] #Kg N/ha (struvite)\n",
    "N_bln['N_Ammonium_salts'] = N_balance['N_Ammonium_salts']\n",
    "N_bln['N_In'] = N_bln['N_Manure'] + N_bln['N_Fertiliser'] + N_bln['N_Ammonium_salts'] + N_bln['N_Residues'] + N_bln['N_Struvite'] + N_bln['N_Compost']#Kg N/ha (mineral fertilizers + manure + residues returned to field + struvite + compost)\n",
    "N_bln['N_Fixation'] = np.where(N_balance['N_fert_1']<0, N_fixation+N_balance['N_fert_1'], N_fixation) #N fixation for symbiotic crops only\n",
    "N_bln['N_in_incl_N_fix'] = N_bln['N_In'] + N_bln['N_Fixation']\n",
    "N_bln['N_NH3'] = NH3_N #Kg N/ha\n",
    "N_bln['N_NOx'] = NOx_N #Kg N/ha\n",
    "N_bln['N_N2O'] = N2O_N #Kg N/ha\n",
    "N_bln['N_NO3'] = NO3_N #Kg N/ha\n",
    "N_bln['N_Harvest'] = N_balance['N_harv']\n",
    "N_bln['N_Out'] = N_bln['N_NH3'] + N_bln['N_NOx'] + N_bln['N_N2O'] + N_bln['N_NO3'] + N_bln['N_Harvest'] #Kg N/ha\n",
    "N_bln['N_Balance'] = N_bln['N_in_incl_N_fix'] - N_bln['N_Out'] #Kg N/ha\n",
    "N_bln['N_bln_check'] = np.where(N_bln['N_Balance'] >= 0, 'Enough', 'Deficient')"
   ]
  },
  {
   "cell_type": "code",
   "execution_count": null,
   "metadata": {},
   "outputs": [],
   "source": [
    "#plot with max N fixation\n",
    "N_bln.loc[N_bln['N_Fixation']==np.max(N_bln['N_Fixation'])]"
   ]
  },
  {
   "cell_type": "code",
   "execution_count": null,
   "metadata": {},
   "outputs": [],
   "source": [
    "print(\"The data after balance is:\")"
   ]
  },
  {
   "cell_type": "code",
   "execution_count": null,
   "metadata": {},
   "outputs": [],
   "source": [
    "print(N_bln[['kgP2O5/ha', 'kgK2O/ha',\n",
    "       'kgN/ha', 'N_Manure', 'N_Fertiliser', 'N_Residues', 'N_Struvite',\n",
    "       'N_Compost', 'N_Ammonium_salts', 'N_In', 'N_Fixation',\n",
    "       'N_in_incl_N_fix', 'N_NH3', 'N_NOx', 'N_N2O', 'N_NO3', 'N_Harvest',\n",
    "       'N_Out', 'N_Balance', 'N_bln_check']].describe())"
   ]
  },
  {
   "cell_type": "code",
   "execution_count": null,
   "metadata": {},
   "outputs": [],
   "source": [
    "test = N_bln.loc[N_bln['Fid']==1882]\n",
    "test['N_Fertiliser']"
   ]
  },
  {
   "cell_type": "code",
   "execution_count": null,
   "metadata": {},
   "outputs": [],
   "source": [
    "N_bln.loc[N_bln['N_Balance']>1][\"N_Ammonium_salts\"]"
   ]
  },
  {
   "cell_type": "code",
   "execution_count": null,
   "metadata": {},
   "outputs": [],
   "source": [
    "N_bln[\"N_Fertiliser\"].describe()"
   ]
  },
  {
   "cell_type": "code",
   "execution_count": null,
   "metadata": {},
   "outputs": [],
   "source": [
    "#Is there any plot for which outputs are larger than inputs? If false no plot has more outputs.\n",
    "(N_bln['N_Balance'] < 0).values.any()"
   ]
  },
  {
   "cell_type": "code",
   "execution_count": null,
   "metadata": {},
   "outputs": [],
   "source": [
    "N_bln['N_Balance'].max()"
   ]
  },
  {
   "cell_type": "code",
   "execution_count": null,
   "metadata": {},
   "outputs": [],
   "source": [
    "N_bln['N_Balance'].min()"
   ]
  },
  {
   "cell_type": "code",
   "execution_count": null,
   "metadata": {},
   "outputs": [],
   "source": [
    "#Categories for which the balance is not completed because there is no data for N in harvest\n",
    "pd.unique(N_bln[N_bln['N_Balance'].isna()]['Voronoi_1'])"
   ]
  },
  {
   "cell_type": "code",
   "execution_count": null,
   "metadata": {},
   "outputs": [],
   "source": [
    "ascending = N_bln.sort_values('N_Balance')\n",
    "pd.unique(ascending['N_Balance'])"
   ]
  },
  {
   "cell_type": "code",
   "execution_count": null,
   "metadata": {},
   "outputs": [],
   "source": [
    "N_bln.keys()"
   ]
  },
  {
   "cell_type": "code",
   "execution_count": null,
   "metadata": {},
   "outputs": [],
   "source": [
    "#total compost use in scenario after balance in kg N per year\n",
    "N_compost_after_balance = np.sum(N_bln['Area']*(1/10000) * N_bln['N_Compost'])/1000\n",
    "N_compost_after_balance"
   ]
  },
  {
   "cell_type": "code",
   "execution_count": null,
   "metadata": {},
   "outputs": [],
   "source": [
    "#total struvite use in scenario after balance in kg N per year\n",
    "N_struvite_after_balance = np.sum(N_bln['Area']*(1/10000) * N_bln['N_Struvite'])/1000\n",
    "N_struvite_after_balance"
   ]
  },
  {
   "cell_type": "code",
   "execution_count": null,
   "metadata": {},
   "outputs": [],
   "source": [
    "#total N mineral fertilizer use in scenario after balance in kg N per year\n",
    "N_MinFert_after_balance = np.sum(N_bln['Area']*(1/10000) * N_bln['N_Fertiliser'])/1000\n",
    "N_MinFert_after_balance"
   ]
  },
  {
   "cell_type": "code",
   "execution_count": null,
   "metadata": {},
   "outputs": [],
   "source": [
    "#total N ammonium salts use in scenario after balance in kg N per year\n",
    "N_AmmonSalts_after_balance = np.sum(N_bln['Area']*(1/10000) * N_bln['N_Ammonium_salts'])/1000\n",
    "N_AmmonSalts_after_balance"
   ]
  },
  {
   "cell_type": "code",
   "execution_count": null,
   "metadata": {},
   "outputs": [],
   "source": [
    "#total N fixation in scenario after balance in kg N per year\n",
    "N_Fixation_after_balance = np.sum(N_bln['Area']*(1/10000) * N_bln['N_Fixation'])/1000\n",
    "N_Fixation_after_balance"
   ]
  },
  {
   "cell_type": "code",
   "execution_count": null,
   "metadata": {},
   "outputs": [],
   "source": [
    "#total N inputs in scenario after balance in kg N per year\n",
    "N_inputs_after_balance = np.sum(N_bln['Area']*(1/10000) * N_bln['N_in_incl_N_fix'])/1000\n",
    "N_inputs_after_balance"
   ]
  },
  {
   "cell_type": "code",
   "execution_count": null,
   "metadata": {},
   "outputs": [],
   "source": [
    "#should be the same as before balance\n",
    "N2O_after_balance = np.sum(N_bln['Area']*(1/10000) * N_bln['N_N2O'])/1000\n",
    "N2O_after_balance"
   ]
  },
  {
   "cell_type": "code",
   "execution_count": null,
   "metadata": {},
   "outputs": [],
   "source": [
    "NH3_after_balance = np.sum(N_bln['Area']*(1/10000) * N_bln['N_NH3'])/1000\n",
    "NH3_after_balance"
   ]
  },
  {
   "cell_type": "code",
   "execution_count": null,
   "metadata": {},
   "outputs": [],
   "source": [
    "NOx_after_balance = np.sum(N_bln['Area']*(1/10000) * N_bln['N_NOx'])/1000\n",
    "NOx_after_balance"
   ]
  },
  {
   "cell_type": "code",
   "execution_count": null,
   "metadata": {},
   "outputs": [],
   "source": [
    "NO3_after_balance = np.sum(N_bln['Area']*(1/10000) * N_bln['N_NO3'])/1000\n",
    "NO3_after_balance"
   ]
  },
  {
   "cell_type": "code",
   "execution_count": null,
   "metadata": {},
   "outputs": [],
   "source": [
    "N_Harvest_after_balance = np.sum(N_bln['Area']*(1/10000) * N_bln['N_Harvest'])/1000\n",
    "N_Harvest_after_balance"
   ]
  },
  {
   "cell_type": "code",
   "execution_count": null,
   "metadata": {},
   "outputs": [],
   "source": [
    "N_outputs_after_balance = np.sum(N_bln['Area']*(1/10000) * N_bln['N_Out'])/1000\n",
    "N_outputs_after_balance"
   ]
  },
  {
   "cell_type": "markdown",
   "metadata": {
    "tags": []
   },
   "source": [
    "## P Balance"
   ]
  },
  {
   "cell_type": "code",
   "execution_count": null,
   "metadata": {},
   "outputs": [],
   "source": [
    "URBAG_map.keys().values"
   ]
  },
  {
   "cell_type": "code",
   "execution_count": null,
   "metadata": {},
   "outputs": [],
   "source": [
    "P_balance = pd.DataFrame(URBAG_map)"
   ]
  },
  {
   "cell_type": "code",
   "execution_count": null,
   "metadata": {
    "tags": []
   },
   "outputs": [],
   "source": [
    "P_balance = pd.DataFrame(URBAG_map.drop(['TIPO_RIEGO', 'EFIC_RIEGO', 'TIPO_DIST', 'EFIC_DISTR',\n",
    "                                          'TF', 'REG_CREAF', 'REG_CAT', 'TF_REG',\n",
    "                                           'CAT_NIV_5', 'ORD_NIV_5', 'CAT_NIV_4', 'ORD_NIV_4', 'CAT_NIV_3',\n",
    "                                           'ORD_NIV_3', 'CAT_NIV_2', 'ORD_NIV_2', 'CAT_NIV_1F', 'ORD_NIV_1F',\n",
    "                                           'CAT_NIV_1', 'ORD_NIV_1', '01_ETO', '02_ETO', '03_ETO', '04_ETO',\n",
    "                                           '05_ETO', '06_ETO', '07_ETO', '08_ETO', '09_ETO', '10_ETO', '11_ETO',\n",
    "                                           '12_ETO', '01_PPT', '02_PPT', '03_PPT', '04_PPT', '05_PPT', '06_PPT',\n",
    "                                           '07_PPT', '08_PPT', '09_PPT', '10_PPT', '11_PPT', '12_PPT',\n",
    "                                           'kgP2O5/ha','N_T', 'P_T', 'K_T','01_CWR', '02_CWR',\n",
    "                                           '03_CWR', '04_CWR', '05_CWR', '06_CWR', '07_CWR', '08_CWR',\n",
    "                                           '09_CWR', '10_CWR', '11_CWR', '12_CWR', '01_PPTe', '02_PPTe',\n",
    "                                           '03_PPTe', '04_PPTe', '05_PPTe', '06_PPTe', '07_PPTe', '08_PPTe',\n",
    "                                           '09_PPTe', '10_PPTe', '11_PPTe', '12_PPTe', '01_ID', '02_ID',\n",
    "                                           '03_ID', '04_ID', '05_ID', '06_ID', '07_ID', '08_ID', '09_ID',\n",
    "                                           '10_ID', '11_ID', '12_ID', 'LOSSES', '01_WE', '02_WE', '03_WE',\n",
    "                                           '04_WE', '05_WE', '06_WE', '07_WE', '08_WE', '09_WE', '10_WE',\n",
    "                                           '11_WE', '12_WE', 'WE_m3_ha_yr',\n",
    "                                            'kgK2O/ha',  'kgN/ha', \n",
    "                                           'EF_Tier2', 'id_final', 'Kc_b_Kc1', 'Kc_b_Kc2', 'Kc_b_Kc3', 'Kc_b_Kc4',\n",
    "                                           'Kc_b_Kc5', 'Kc_b_Kc6', 'Kc_b_Kc7', 'Kc_b_Kc8', 'Kc_b_Kc9', 'Kc_b_Kc10',\n",
    "                                           'Kc_b_Kc11', 'Kc_b_Kc12', 'Manure', 'Manure_N', 'Manure_P2O5',\n",
    "                                           'Agriwaste_toField', 'Agriwaste_burned', 'N_agriwaste_to_field'],axis=1))\n",
    "P_balance.head()"
   ]
  },
  {
   "cell_type": "markdown",
   "metadata": {},
   "source": [
    "### P balance before adjustments"
   ]
  },
  {
   "cell_type": "code",
   "execution_count": null,
   "metadata": {
    "tags": []
   },
   "outputs": [],
   "source": [
    "P_balance['P_Manure'] = Manure_P2O5 #Kg P2O5/ha\n",
    "P_balance['P_Fertiliser'] = Mineral_fert_P2O5 #Kg P2O5/ha\n",
    "P_balance['P_Struvite'] = Struvite_P2O5 #Kg P2O5/ha\n",
    "P_balance['P_Compost'] = Compost_P2O5 #Kg P2O5/ha\n",
    "P_balance['P_In'] = Manure_P2O5 + Mineral_fert_P2O5 + Struvite_P2O5 + Compost_P2O5\n",
    "P_balance['P_PO43-'] = d_conv_emiss['PO43_runoff_water_total'] * conv9_1 #kg P2O5/ha\n",
    "P_balance['P_Harvest'] = URBAG_map['kgP2O5/ha'] #P removed with harvest\n",
    "P_balance['P_Out'] = P_balance['P_PO43-'] + P_balance['P_Harvest']\n",
    "P_balance['P_Balance'] = P_balance['P_In'] - P_balance['P_Out'] #Kg P2O5/ha\n",
    "P_balance['P_bln_check'] = np.where(P_balance['P_Balance'] >= 0, 'Enough', 'Deficient')"
   ]
  },
  {
   "cell_type": "code",
   "execution_count": null,
   "metadata": {},
   "outputs": [],
   "source": [
    "ascending_P = P_balance.sort_values('P_Balance')\n",
    "pd.unique(ascending_P['P_Balance'])"
   ]
  },
  {
   "cell_type": "code",
   "execution_count": null,
   "metadata": {},
   "outputs": [],
   "source": [
    "P_balance.columns"
   ]
  },
  {
   "cell_type": "code",
   "execution_count": null,
   "metadata": {},
   "outputs": [],
   "source": [
    "print(\"The data before balance is:\")"
   ]
  },
  {
   "cell_type": "code",
   "execution_count": null,
   "metadata": {},
   "outputs": [],
   "source": [
    "print(P_balance[['P_Manure', 'P_Fertiliser',\n",
    "       'P_Struvite', 'P_Compost', 'P_In', 'P_PO43-', 'P_Harvest', 'P_Out',\n",
    "       'P_Balance', 'P_bln_check']].describe())"
   ]
  },
  {
   "cell_type": "markdown",
   "metadata": {},
   "source": [
    "### Adjustments via harvested P and phosphate residual emissions"
   ]
  },
  {
   "cell_type": "code",
   "execution_count": null,
   "metadata": {},
   "outputs": [],
   "source": [
    "#Condition 1: Plots where the balance is larger than 0 i.e. inputs are larger than outputs\n",
    "#Condition 2: Plots where the balance is smaller than 0 i.e. outputs are larger than inputs\n",
    "cond1 = P_balance['P_Balance'] > 0\n",
    "cond2 = P_balance['P_Balance'] <= 0\n",
    "\n",
    "#For plots in condition 1:\n",
    "#P fertilizer is reduced with the excess\n",
    "if scen == 'S0_MinFert':\n",
    "    P_balance.loc[P_balance.index[cond1],'P_Fertiliser_1'] = P_balance.loc[P_balance.index[cond1],'P_Fertiliser'] - P_balance.loc[P_balance.index[cond1],'P_Balance']\n",
    "elif scen == 'S0_struvite_P':\n",
    "    P_balance.loc[N_balance.index[cond1],'P_Fertiliser_1'] = P_balance.loc[P_balance.index[cond1],'P_Fertiliser'] - P_balance.loc[P_balance.index[cond1],'P_Balance']\n",
    "elif scen == 'S0_compost':\n",
    "    P_balance.loc[N_balance.index[cond1],'P_Fertiliser_1'] = P_balance.loc[P_balance.index[cond1],'P_Fertiliser'] - P_balance.loc[P_balance.index[cond1],'P_Balance']\n",
    "elif scen == 'S0_Ammon_salts':\n",
    "    P_balance.loc[N_balance.index[cond1],'P_Fertiliser_1'] = P_balance.loc[P_balance.index[cond1],'P_Fertiliser'] - P_balance.loc[P_balance.index[cond1],'P_Balance']\n",
    "else:\n",
    "    pass\n",
    "\n",
    "#For plots in condition 2:\n",
    "#P fertilizer is increased with the difference\n",
    "if scen == 'S0_MinFert':\n",
    "    P_balance.loc[P_balance.index[cond2],'P_Fertiliser_1'] = P_balance.loc[P_balance.index[cond2],'P_Fertiliser'] + np.abs(P_balance.loc[P_balance.index[cond2],'P_Balance'])\n",
    "elif scen == 'S0_struvite_P':\n",
    "    P_balance.loc[P_balance.index[cond2],'P_Fertiliser_1'] = P_balance.loc[P_balance.index[cond2],'P_Fertiliser'] + np.abs(P_balance.loc[P_balance.index[cond2],'P_Balance'])\n",
    "elif scen == 'S0_compost':\n",
    "    P_balance.loc[P_balance.index[cond2],'P_Fertiliser_1'] = P_balance.loc[P_balance.index[cond2],'P_Fertiliser'] + np.abs(P_balance.loc[P_balance.index[cond2],'P_Balance'])\n",
    "elif scen == 'S0_Ammon_salts':\n",
    "    P_balance.loc[P_balance.index[cond2],'P_Fertiliser_1'] = P_balance.loc[P_balance.index[cond2],'P_Fertiliser'] + np.abs(P_balance.loc[P_balance.index[cond2],'P_Balance'])\n",
    "else:\n",
    "    pass"
   ]
  },
  {
   "cell_type": "markdown",
   "metadata": {},
   "source": [
    "### P balance after adjustment"
   ]
  },
  {
   "cell_type": "code",
   "execution_count": null,
   "metadata": {},
   "outputs": [],
   "source": [
    "URBAG_map.keys().values"
   ]
  },
  {
   "cell_type": "code",
   "execution_count": null,
   "metadata": {},
   "outputs": [],
   "source": [
    "P_bln = pd.DataFrame(URBAG_map)"
   ]
  },
  {
   "cell_type": "code",
   "execution_count": null,
   "metadata": {
    "tags": []
   },
   "outputs": [],
   "source": [
    "P_bln = pd.DataFrame(URBAG_map.drop(['TIPO_RIEGO', 'EFIC_RIEGO', 'TIPO_DIST', 'EFIC_DISTR',\n",
    "                                          'TF', 'REG_CREAF', 'REG_CAT', 'TF_REG',\n",
    "                                           'CAT_NIV_5', 'ORD_NIV_5', 'CAT_NIV_4', 'ORD_NIV_4', 'CAT_NIV_3',\n",
    "                                           'ORD_NIV_3', 'CAT_NIV_2', 'ORD_NIV_2', 'CAT_NIV_1F', 'ORD_NIV_1F',\n",
    "                                           'CAT_NIV_1', 'ORD_NIV_1', '01_ETO', '02_ETO', '03_ETO', '04_ETO',\n",
    "                                           '05_ETO', '06_ETO', '07_ETO', '08_ETO', '09_ETO', '10_ETO', '11_ETO',\n",
    "                                           '12_ETO', '01_PPT', '02_PPT', '03_PPT', '04_PPT', '05_PPT', '06_PPT',\n",
    "                                           '07_PPT', '08_PPT', '09_PPT', '10_PPT', '11_PPT', '12_PPT',\n",
    "                                           'kgP2O5/ha','N_T', 'P_T', 'K_T', '01_CWR', '02_CWR',\n",
    "                                           '03_CWR', '04_CWR', '05_CWR', '06_CWR', '07_CWR', '08_CWR',\n",
    "                                           '09_CWR', '10_CWR', '11_CWR', '12_CWR', '01_PPTe', '02_PPTe',\n",
    "                                           '03_PPTe', '04_PPTe', '05_PPTe', '06_PPTe', '07_PPTe', '08_PPTe',\n",
    "                                           '09_PPTe', '10_PPTe', '11_PPTe', '12_PPTe', '01_ID', '02_ID',\n",
    "                                           '03_ID', '04_ID', '05_ID', '06_ID', '07_ID', '08_ID', '09_ID',\n",
    "                                           '10_ID', '11_ID', '12_ID', 'LOSSES', '01_WE', '02_WE', '03_WE',\n",
    "                                           '04_WE', '05_WE', '06_WE', '07_WE', '08_WE', '09_WE', '10_WE',\n",
    "                                           '11_WE', '12_WE', 'WE_m3_ha_yr',\n",
    "                                            'kgK2O/ha', 'kgN/ha', \n",
    "                                           'EF_Tier2', 'id_final', 'Kc_b_Kc1', 'Kc_b_Kc2', 'Kc_b_Kc3', 'Kc_b_Kc4',\n",
    "                                           'Kc_b_Kc5', 'Kc_b_Kc6', 'Kc_b_Kc7', 'Kc_b_Kc8', 'Kc_b_Kc9', 'Kc_b_Kc10',\n",
    "                                           'Kc_b_Kc11', 'Kc_b_Kc12', 'Manure', 'Manure_N', 'Manure_P2O5',\n",
    "                                           'Agriwaste_toField', 'Agriwaste_burned', 'N_agriwaste_to_field',\n",
    "                                           ], axis=1))\n",
    "P_bln.head()"
   ]
  },
  {
   "cell_type": "code",
   "execution_count": null,
   "metadata": {},
   "outputs": [],
   "source": [
    "P_bln['P_Manure'] = Manure_P2O5 #Kg P2O5/ha\n",
    "P_bln['P_Fertiliser'] = P_balance['P_Fertiliser_1'] #Kg P2O5/ha\n",
    "P_bln['P_Struvite'] = P_balance['P_Struvite'] #Kg P2O5/ha\n",
    "P_bln['P_Compost'] = Compost_P2O5 #Kg P2O5/ha\n",
    "P_bln['P_In'] = P_bln['P_Manure'] + P_bln['P_Fertiliser'] + P_bln['P_Struvite'] + P_bln['P_Compost']\n",
    "P_bln['P_PO43-'] = d_conv_emiss['PO43_runoff_water_total'] * conv9_1 \n",
    "P_bln['P_Harvest'] = P_balance['P_Harvest'] #P removed with harvest\n",
    "P_bln['P_Out'] = P_bln['P_PO43-'] + P_bln['P_Harvest'] #Total outputs\n",
    "P_bln['P_Balance'] = P_bln['P_In'] - P_bln['P_Out'] #Kg P2O5/ha\n",
    "P_bln['P_bln_check'] = np.where(P_bln['P_Balance'] >= 0, 'Enough', 'Deficient')"
   ]
  },
  {
   "cell_type": "code",
   "execution_count": null,
   "metadata": {},
   "outputs": [],
   "source": [
    "print(\"The data after balance is:\")"
   ]
  },
  {
   "cell_type": "code",
   "execution_count": null,
   "metadata": {},
   "outputs": [],
   "source": [
    "P_bln.columns"
   ]
  },
  {
   "cell_type": "code",
   "execution_count": null,
   "metadata": {},
   "outputs": [],
   "source": [
    "print(P_bln[['P_Manure', 'P_Fertiliser',\n",
    "       'P_Struvite', 'P_Compost', 'P_In', 'P_PO43-', 'P_Harvest', 'P_Out',\n",
    "       'P_Balance', 'P_bln_check']].describe())"
   ]
  },
  {
   "cell_type": "code",
   "execution_count": null,
   "metadata": {},
   "outputs": [],
   "source": [
    "pd.unique(P_bln['P_Balance'])"
   ]
  },
  {
   "cell_type": "code",
   "execution_count": null,
   "metadata": {},
   "outputs": [],
   "source": [
    "test = P_bln.loc[P_bln['Fid']==1882]\n",
    "test['P_Fertiliser']"
   ]
  },
  {
   "cell_type": "code",
   "execution_count": null,
   "metadata": {},
   "outputs": [],
   "source": [
    "(P_bln['P_Balance'] < 0).values.any()"
   ]
  },
  {
   "cell_type": "code",
   "execution_count": null,
   "metadata": {},
   "outputs": [],
   "source": [
    "P_bln['P_Balance'].max()"
   ]
  },
  {
   "cell_type": "code",
   "execution_count": null,
   "metadata": {},
   "outputs": [],
   "source": [
    "P_bln['P_Balance'].min()"
   ]
  },
  {
   "cell_type": "code",
   "execution_count": null,
   "metadata": {},
   "outputs": [],
   "source": [
    "P_compost_after_balance = np.sum(P_bln['Area']*(1/10000) * P_bln['P_Compost'])/1000\n",
    "P_compost_after_balance"
   ]
  },
  {
   "cell_type": "code",
   "execution_count": null,
   "metadata": {},
   "outputs": [],
   "source": [
    "P_struvite_after_balance = np.sum(P_bln['Area']*(1/10000) * P_bln['P_Struvite'])/1000\n",
    "P_struvite_after_balance"
   ]
  },
  {
   "cell_type": "code",
   "execution_count": null,
   "metadata": {},
   "outputs": [],
   "source": [
    "P_MinFert_after_balance = np.sum(P_bln['Area']*(1/10000) * P_bln['P_Fertiliser'])/1000\n",
    "P_MinFert_after_balance"
   ]
  },
  {
   "cell_type": "code",
   "execution_count": null,
   "metadata": {},
   "outputs": [],
   "source": [
    "P_inputs_after_balance = np.sum(P_bln['Area']*(1/10000) * P_bln['P_In'])/1000\n",
    "P_inputs_after_balance"
   ]
  },
  {
   "cell_type": "code",
   "execution_count": null,
   "metadata": {},
   "outputs": [],
   "source": [
    "PO43_after_balance = np.sum(P_bln['Area']*(1/10000) * P_bln['P_PO43-'])/1000\n",
    "PO43_after_balance"
   ]
  },
  {
   "cell_type": "code",
   "execution_count": null,
   "metadata": {},
   "outputs": [],
   "source": [
    "P_harvest_after_balance = np.sum(P_bln['Area']*(1/10000) * P_bln['P_Harvest'])/1000\n",
    "P_harvest_after_balance"
   ]
  },
  {
   "cell_type": "code",
   "execution_count": null,
   "metadata": {},
   "outputs": [],
   "source": [
    "P_outputs_after_balance = np.sum(P_bln['Area']*(1/10000) * P_bln['P_Out'])/1000\n",
    "P_outputs_after_balance"
   ]
  },
  {
   "cell_type": "markdown",
   "metadata": {},
   "source": [
    "## K Balance"
   ]
  },
  {
   "cell_type": "markdown",
   "metadata": {},
   "source": [
    "We assume that all K applied is uptaken by the plant and removed with the harvest.\n",
    "Thus:\n",
    "\n",
    "- K mineral fert inputs + K in compost = K removed with harvest"
   ]
  },
  {
   "cell_type": "code",
   "execution_count": null,
   "metadata": {},
   "outputs": [],
   "source": [
    "URBAG_map.keys().values"
   ]
  },
  {
   "cell_type": "code",
   "execution_count": null,
   "metadata": {},
   "outputs": [],
   "source": [
    "K_bln = pd.DataFrame(URBAG_map)"
   ]
  },
  {
   "cell_type": "code",
   "execution_count": null,
   "metadata": {},
   "outputs": [],
   "source": [
    "K_bln = pd.DataFrame(URBAG_map.drop([ 'TIPO_RIEGO', 'EFIC_RIEGO', 'TIPO_DIST', 'EFIC_DISTR',\n",
    "                                          'TF', 'REG_CREAF', 'REG_CAT', 'TF_REG',\n",
    "                                           'CAT_NIV_5', 'ORD_NIV_5', 'CAT_NIV_4', 'ORD_NIV_4', 'CAT_NIV_3',\n",
    "                                           'ORD_NIV_3', 'CAT_NIV_2', 'ORD_NIV_2', 'CAT_NIV_1F', 'ORD_NIV_1F',\n",
    "                                           'CAT_NIV_1', 'ORD_NIV_1', '01_ETO', '02_ETO', '03_ETO', '04_ETO',\n",
    "                                           '05_ETO', '06_ETO', '07_ETO', '08_ETO', '09_ETO', '10_ETO', '11_ETO',\n",
    "                                           '12_ETO', '01_PPT', '02_PPT', '03_PPT', '04_PPT', '05_PPT', '06_PPT',\n",
    "                                           '07_PPT', '08_PPT', '09_PPT', '10_PPT', '11_PPT', '12_PPT',\n",
    "                                           'kgP2O5/ha','N_T', 'P_T', 'K_T','01_CWR', '02_CWR',\n",
    "                                           '03_CWR', '04_CWR', '05_CWR', '06_CWR', '07_CWR', '08_CWR',\n",
    "                                           '09_CWR', '10_CWR', '11_CWR', '12_CWR', '01_PPTe', '02_PPTe',\n",
    "                                           '03_PPTe', '04_PPTe', '05_PPTe', '06_PPTe', '07_PPTe', '08_PPTe',\n",
    "                                           '09_PPTe', '10_PPTe', '11_PPTe', '12_PPTe', '01_ID', '02_ID',\n",
    "                                           '03_ID', '04_ID', '05_ID', '06_ID', '07_ID', '08_ID', '09_ID',\n",
    "                                           '10_ID', '11_ID', '12_ID', 'LOSSES', '01_WE', '02_WE', '03_WE',\n",
    "                                           '04_WE', '05_WE', '06_WE', '07_WE', '08_WE', '09_WE', '10_WE',\n",
    "                                           '11_WE', '12_WE', 'WE_m3_ha_yr',\n",
    "                                            'kgK2O/ha',  'kgN/ha', \n",
    "                                           'EF_Tier2', 'id_final', 'Kc_b_Kc1', 'Kc_b_Kc2', 'Kc_b_Kc3', 'Kc_b_Kc4',\n",
    "                                           'Kc_b_Kc5', 'Kc_b_Kc6', 'Kc_b_Kc7', 'Kc_b_Kc8', 'Kc_b_Kc9', 'Kc_b_Kc10',\n",
    "                                           'Kc_b_Kc11', 'Kc_b_Kc12', 'Manure', 'Manure_N', 'Manure_P2O5',\n",
    "                                           'Agriwaste_toField', 'Agriwaste_burned', 'N_agriwaste_to_field',\n",
    "                                           ], axis=1))\n",
    "K_bln.head()"
   ]
  },
  {
   "cell_type": "code",
   "execution_count": null,
   "metadata": {},
   "outputs": [],
   "source": [
    "#Total K input 710.56676 tons K2O/yr\n",
    "#Total K input 586.500652283024 tons K/yr, 709.665789262459 tons K2O/yr (NPK_27_06_22An - 24_02_23.xlsx)\n",
    "#Total K input 586.221985694181 tons K/yr, 709.328602689959 tons K2O/yr (NPK_27_06_22An_05_03_23.xlsx)\n",
    "K_bln['K_Fertiliser'] = Mineral_fert_K2O #Kg K2O/ha\n",
    "K_bln['K_Compost'] = Compost_K2O #Kg K2O/ha\n",
    "K_bln['K_In'] = K_bln['K_Fertiliser'] + K_bln['K_Compost']  #Kg K2O/ha\n",
    "K_bln['K_Harv'] = URBAG_map['kgK2O/ha'] #Kg K2O/ha\n",
    "K_bln['K_Balance'] = K_bln['K_In'] - K_bln['K_Harv'] #Kg K2O/ha"
   ]
  },
  {
   "cell_type": "code",
   "execution_count": null,
   "metadata": {},
   "outputs": [],
   "source": [
    "pd.unique(K_bln['K_Balance'])"
   ]
  },
  {
   "cell_type": "code",
   "execution_count": null,
   "metadata": {},
   "outputs": [],
   "source": [
    "(K_bln['K_Balance'] < 0).values.any()"
   ]
  },
  {
   "cell_type": "code",
   "execution_count": null,
   "metadata": {},
   "outputs": [],
   "source": [
    "K_bln['K_Balance'].max()"
   ]
  },
  {
   "cell_type": "code",
   "execution_count": null,
   "metadata": {},
   "outputs": [],
   "source": [
    "K_bln['K_Balance'].min()"
   ]
  },
  {
   "cell_type": "code",
   "execution_count": null,
   "metadata": {},
   "outputs": [],
   "source": [
    "K_compost_after_balance = np.sum(K_bln['Area']*(1/10000) * K_bln['K_Compost'])/1000\n",
    "K_compost_after_balance"
   ]
  },
  {
   "cell_type": "code",
   "execution_count": null,
   "metadata": {},
   "outputs": [],
   "source": [
    "K_MinFert_after_balance = np.sum(K_bln['Area']*(1/10000) * K_bln['K_Fertiliser'])/1000\n",
    "K_MinFert_after_balance"
   ]
  },
  {
   "cell_type": "code",
   "execution_count": null,
   "metadata": {},
   "outputs": [],
   "source": [
    "K_in_after_balance = np.sum(K_bln['Area']*(1/10000) * K_bln['K_In'])/1000\n",
    "K_in_after_balance"
   ]
  },
  {
   "cell_type": "code",
   "execution_count": null,
   "metadata": {},
   "outputs": [],
   "source": [
    "K_harvest_after_balance = np.sum(K_bln['Area']*(1/10000) * K_bln['K_Harv'])/1000\n",
    "K_harvest_after_balance"
   ]
  },
  {
   "cell_type": "markdown",
   "metadata": {},
   "source": [
    "### Totals after balance for N, P and K"
   ]
  },
  {
   "cell_type": "code",
   "execution_count": null,
   "metadata": {},
   "outputs": [],
   "source": [
    "my_N_array = np.array([[N_MinFert_after_balance,\n",
    "                        N_AmmonSalts_after_balance,\n",
    "                     N_struvite_after_balance,\n",
    "                     N_compost_after_balance,\n",
    "                     N_Fixation_after_balance,\n",
    "                     N_inputs_after_balance,\n",
    "                     N2O_after_balance,\n",
    "                     NH3_after_balance,\n",
    "                     NOx_after_balance,\n",
    "                     NO3_after_balance,\n",
    "                     N_Harvest_after_balance,\n",
    "                     N_outputs_after_balance,\n",
    "                     P_MinFert_after_balance,\n",
    "                     P_struvite_after_balance,\n",
    "                     P_compost_after_balance,\n",
    "                     P_inputs_after_balance,\n",
    "                     PO43_after_balance,\n",
    "                     P_harvest_after_balance,\n",
    "                     P_outputs_after_balance,\n",
    "                     K_MinFert_after_balance,\n",
    "                     K_compost_after_balance,   \n",
    "                     K_in_after_balance,\n",
    "                     K_harvest_after_balance]])"
   ]
  },
  {
   "cell_type": "code",
   "execution_count": null,
   "metadata": {},
   "outputs": [],
   "source": [
    "Totals_after_balance = pd.DataFrame(my_N_array, columns = ['N_MinFert_NtonYR',\n",
    "                                                           'N_AmmonSalts_NtonYR',\n",
    "                                               'N_struvite_NtonYR',\n",
    "                                               'N_compost_NtonYR',\n",
    "                                               'N_fixation_NtonYR',\n",
    "                                               'N_inputs_NtonYR',            \n",
    "                                               'N2O_NtonYR',\n",
    "                                               'NH3_NtonYR',\n",
    "                                               'NOx_NtonYR',\n",
    "                                               'NO3_NtonYR',\n",
    "                                               'N_Harvest_NtonYR',\n",
    "                                               'N_outputs_NtonYR',\n",
    "                                               'P_MinFert_P205tonYR',\n",
    "                                               'P_struvite_P205tonYR',\n",
    "                                               'P_compost_P205tonYR',\n",
    "                                               'P_inputs_P205tonYR',\n",
    "                                               'PO43_P205tonYR',\n",
    "                                               'P_Harvest_P2O5tonYR',\n",
    "                                               'P_outputs_P205tonYR',\n",
    "                                               'K_MinFert_K2OtonYR',\n",
    "                                               'K_Compost_K2OtonYR',\n",
    "                                               'K_inputs_K2OtonYR',\n",
    "                                               \"K_Harvest_K2OtonYR\"])"
   ]
  },
  {
   "cell_type": "code",
   "execution_count": null,
   "metadata": {
    "scrolled": true
   },
   "outputs": [],
   "source": [
    "#Totals after balance, emissions and total N requirement shouold be the same as before balance. N for mineral fertilizer and struvite should change\n",
    "Totals_after_balance_AMB = Totals_after_balance.T\n",
    "Totals_after_balance_AMB"
   ]
  },
  {
   "cell_type": "markdown",
   "metadata": {
    "tags": []
   },
   "source": [
    "## Saving outputs"
   ]
  },
  {
   "cell_type": "code",
   "execution_count": null,
   "metadata": {},
   "outputs": [],
   "source": [
    "#Nitrogen balance in kg N/ha yr\n",
    "Nitrogen_Balance = pd.DataFrame(N_bln)\n",
    "\n",
    "#P balance in kg P2O5/ha yr\n",
    "Phosphorus_Balance = pd.DataFrame(P_bln)\n",
    "\n",
    "#K balance in kg K2O/ha yr\n",
    "Potassium_Balance = pd.DataFrame(K_bln)"
   ]
  },
  {
   "cell_type": "code",
   "execution_count": null,
   "metadata": {},
   "outputs": [],
   "source": [
    "Nitrogen_Balance.keys()"
   ]
  },
  {
   "cell_type": "code",
   "execution_count": null,
   "metadata": {},
   "outputs": [],
   "source": [
    "Phosphorus_Balance.keys()"
   ]
  },
  {
   "cell_type": "code",
   "execution_count": null,
   "metadata": {},
   "outputs": [],
   "source": [
    "Potassium_Balance.keys()"
   ]
  },
  {
   "cell_type": "code",
   "execution_count": null,
   "metadata": {},
   "outputs": [],
   "source": [
    "URBAG_map.keys()"
   ]
  },
  {
   "cell_type": "code",
   "execution_count": null,
   "metadata": {},
   "outputs": [],
   "source": [
    "#kg emission /ha year\n",
    "%store d_conv_emiss \n",
    "%store Nitrogen_Balance\n",
    "%store Phosphorus_Balance\n",
    "%store Potassium_Balance\n",
    "%store URBAG_map"
   ]
  },
  {
   "cell_type": "code",
   "execution_count": null,
   "metadata": {},
   "outputs": [],
   "source": [
    "#kg emission /ha year\n",
    "d_conv_emiss.to_csv(\"output/\" + scen + \"/emissions/LET_emissions_after_bln.csv\")"
   ]
  },
  {
   "cell_type": "code",
   "execution_count": null,
   "metadata": {},
   "outputs": [],
   "source": [
    "#Nitrogen balance in kg N/ha yr\n",
    "Nitrogen_Balance.to_csv(\"output/\" + scen + \"/balances/Nitrogen_Balance_new.csv\")"
   ]
  },
  {
   "cell_type": "code",
   "execution_count": null,
   "metadata": {},
   "outputs": [],
   "source": [
    "#P balance in kg P2O5/ha yr\n",
    "Phosphorus_Balance.to_csv(\"output/\" + scen + \"/balances/Phosphorus_Balance_New.csv\")"
   ]
  },
  {
   "cell_type": "code",
   "execution_count": null,
   "metadata": {},
   "outputs": [],
   "source": [
    "#K balance in kg K2O/ha yr\n",
    "Potassium_Balance.to_csv(\"output/\" + scen + \"/balances/Potassium_Balance_New.csv\")"
   ]
  },
  {
   "cell_type": "code",
   "execution_count": null,
   "metadata": {},
   "outputs": [],
   "source": [
    "Totals_after_balance_AMB.to_csv(\"output/\" + scen + \"/balances/Totals_after_balance.csv\")"
   ]
  },
  {
   "cell_type": "markdown",
   "metadata": {},
   "source": [
    "## VISUALIZATION"
   ]
  },
  {
   "cell_type": "markdown",
   "metadata": {},
   "source": [
    "# Nitrogen balance"
   ]
  },
  {
   "cell_type": "code",
   "execution_count": null,
   "metadata": {
    "tags": []
   },
   "outputs": [],
   "source": [
    "Nitrogen_Balance.keys()"
   ]
  },
  {
   "cell_type": "code",
   "execution_count": null,
   "metadata": {},
   "outputs": [],
   "source": [
    "N_balance_boxplot = Nitrogen_Balance.drop(['DUN_CULTIU', 'Voronoi_1', 'CAT_NIV_5', 'ORD_NIV_5', 'CAT_NIV_4',\n",
    "       'ORD_NIV_4', 'CAT_NIV_3', 'ORD_NIV_3', 'CAT_NIV_2', 'ORD_NIV_2',\n",
    "       'CAT_NIV_1F', 'ORD_NIV_1F', 'CAT_NIV_1', 'ORD_NIV_1', 'ID_Voronoi',\n",
    "       'Municipi', 'Codi_munic', 'Area', 'Fid', 'Comarca', 'Codi_comar',\n",
    "       'ID_CUENCA', 'CUENCA', 'yield_kgHA', 'kgP2O5/ha', 'kgK2O/ha', 'kgN/ha','N_In','N_Balance',\n",
    "       'N_bln_check',\n",
    "       ], axis=1)"
   ]
  },
  {
   "cell_type": "code",
   "execution_count": null,
   "metadata": {},
   "outputs": [],
   "source": [
    "N_balance_boxplot1 = []\n",
    "for x in N_balance_boxplot.keys():\n",
    "    print(x)\n",
    "    N_balance_boxplot1.append(N_balance_boxplot[x])"
   ]
  },
  {
   "cell_type": "code",
   "execution_count": null,
   "metadata": {},
   "outputs": [],
   "source": [
    "fig, axs = plt.subplots(5, 3, figsize=(10,8))\n",
    "axs[0, 0].boxplot(N_balance_boxplot1[0], 0, '', labels = [''], showmeans=True)\n",
    "axs[0, 0].set_title(\"Manure\")\n",
    "axs[0, 1].boxplot(N_balance_boxplot1[1], 0, '', labels = [''], showmeans=True)\n",
    "axs[0, 1].set_title(\"Mineral Fertiliser\")\n",
    "axs[0, 2].boxplot(N_balance_boxplot1[2], 0, '', labels = [''], showmeans=True)\n",
    "axs[0, 2].set_title(\"Agricultural Residues\")\n",
    "axs[1, 0].boxplot(N_balance_boxplot1[3], 0, '', labels = [''], showmeans=True)\n",
    "axs[1, 0].set_title(\"Struvite\")\n",
    "axs[1, 1].boxplot(N_balance_boxplot1[4], 0, '', labels = [''], showmeans=True)\n",
    "axs[1, 1].set_title(\"Compost\")\n",
    "axs[1, 2].boxplot(N_balance_boxplot1[5], 0, labels = [''], showmeans=True)\n",
    "axs[1, 2].set_title(\"Ammonium Salts\")\n",
    "axs[2, 0].boxplot(N_balance_boxplot1[6], 0, '', labels = [''], showmeans=True)\n",
    "axs[2, 0].set_title(\"N Fixation\") #\n",
    "axs[2, 1].boxplot(N_balance_boxplot1[7], 0, '', labels = [''], showmeans=True)\n",
    "axs[2, 1].set_title(\"Total N inputs incl. fixation\")\n",
    "axs[2, 2].boxplot(N_balance_boxplot1[8], 0, '', labels = [''], showmeans=True)\n",
    "axs[2, 2].set_title(\"NH$_{3}$ emissions\")\n",
    "axs[3, 0].boxplot(N_balance_boxplot1[9], 0, '', labels = [''], showmeans=True)\n",
    "axs[3, 0].set_title(\"NO$_{x}$ emissions\")\n",
    "axs[3, 1].boxplot(N_balance_boxplot1[10], 0, '', labels = [''], showmeans=True)\n",
    "axs[3, 1].set_title(\"N$_{2}$O emissions\")\n",
    "axs[3, 2].boxplot(N_balance_boxplot1[11], 0, labels = [''], showmeans=True)\n",
    "axs[3, 2].set_title(\"NO$_{3}^-$ emissions\")\n",
    "axs[4, 0].boxplot(N_balance_boxplot1[12], 0, '', labels = [''], showmeans=True)\n",
    "axs[4, 0].set_title(\"N removed with Harvest\")\n",
    "axs[4, 1].boxplot(N_balance_boxplot1[13], 0, '', labels = [''], showmeans=True)\n",
    "axs[4, 1].set_title(\"Total N output\")\n",
    "fig.delaxes(axs[4,2])\n",
    "fig.suptitle(\"N inputs and outputs - kg N/ha yr\")\n",
    "fig.tight_layout()\n",
    "#fig.savefig( 'output/' + scen + '/emissions/N_balance' + '.png')"
   ]
  },
  {
   "cell_type": "markdown",
   "metadata": {
    "tags": []
   },
   "source": [
    "# Phosphorus balance"
   ]
  },
  {
   "cell_type": "code",
   "execution_count": null,
   "metadata": {},
   "outputs": [],
   "source": [
    "Phosphorus_Balance.keys()"
   ]
  },
  {
   "cell_type": "code",
   "execution_count": null,
   "metadata": {},
   "outputs": [],
   "source": [
    "P_balance_boxplot = Phosphorus_Balance.drop(['DUN_GRUP', 'DUN_CULTIU', 'Voronoi_1', 'ID_Voronoi', 'Municipi',\n",
    "       'Codi_munic', 'Area', 'Fid', 'Comarca', 'Codi_comar', 'ID_CUENCA',\n",
    "       'CUENCA', 'ID_SUBCUEN', 'N_SUBCUENC', 'SUBCUENCAS',\n",
    "       'yield_kgHA', 'Voronoi_ag', 'Vor_ag_Num','FoodTons_N','P_Balance', 'P_bln_check'], axis=1)"
   ]
  },
  {
   "cell_type": "code",
   "execution_count": null,
   "metadata": {},
   "outputs": [],
   "source": [
    "P_balance_boxplot1 = []\n",
    "for x in P_balance_boxplot.keys():\n",
    "    print(x)\n",
    "    P_balance_boxplot1.append(P_balance_boxplot[x])"
   ]
  },
  {
   "cell_type": "code",
   "execution_count": null,
   "metadata": {},
   "outputs": [],
   "source": [
    "fig, axs = plt.subplots(2, 4, figsize=(10,6))\n",
    "axs[0, 0].boxplot(P_balance_boxplot1[0], 0, '', labels = [''], showmeans=True)\n",
    "axs[0, 0].set_title(\"Manure\")\n",
    "axs[0, 1].boxplot(P_balance_boxplot1[1], 0, '', labels = [''], showmeans=True)\n",
    "axs[0, 1].set_title(\"Mineral Fertiliser\")\n",
    "axs[0, 2].boxplot(P_balance_boxplot1[2], 0, '', labels = [''], showmeans=True)\n",
    "axs[0, 2].set_title(\"Struvite\")\n",
    "axs[0, 3].boxplot(P_balance_boxplot1[3], 0, '', labels = [''], showmeans=True)\n",
    "axs[0, 3].set_title(\"Compost\")\n",
    "axs[1, 0].boxplot(P_balance_boxplot1[4], 0, '', labels = [''], showmeans=True)\n",
    "axs[1, 0].set_title(\"Total P inputs\")\n",
    "axs[1, 1].boxplot(P_balance_boxplot1[5], 0, '', labels = [''], showmeans=True)\n",
    "axs[1, 1].set_title(\"PO$_{4}^3-$ runoff\")\n",
    "axs[1, 2].boxplot(P_balance_boxplot1[6], 0, labels = [''], showmeans=True)\n",
    "axs[1, 2].set_title(\"P removed \\n with harvest\")\n",
    "axs[1, 3].boxplot(P_balance_boxplot1[7], 0, '', labels = [''], showmeans=True)\n",
    "axs[1, 3].set_title(\"Total P output\")\n",
    "fig.suptitle(\"P inputs and outputs - kg P2O5/ha yr\")\n",
    "fig.tight_layout()\n",
    "#fig.savefig( 'output/' + scen + '/emissions/P_balance' + '.png')"
   ]
  },
  {
   "cell_type": "markdown",
   "metadata": {},
   "source": [
    "# Potassium balance"
   ]
  },
  {
   "cell_type": "code",
   "execution_count": null,
   "metadata": {},
   "outputs": [],
   "source": [
    "Potassium_Balance.keys()"
   ]
  },
  {
   "cell_type": "code",
   "execution_count": null,
   "metadata": {},
   "outputs": [],
   "source": [
    "K_balance_boxplot = Potassium_Balance.drop(['DUN_GRUP', 'DUN_CULTIU', 'Voronoi_1', 'ID_Voronoi', 'Municipi',\n",
    "       'Codi_munic', 'Area', 'Fid', 'Comarca', 'Codi_comar', 'ID_CUENCA',\n",
    "       'CUENCA', 'ID_SUBCUEN', 'N_SUBCUENC', 'SUBCUENCAS',\n",
    "       'yield_kgHA', 'Voronoi_ag', 'Vor_ag_Num', 'FoodTons_N','K_Balance'], axis=1)"
   ]
  },
  {
   "cell_type": "code",
   "execution_count": null,
   "metadata": {},
   "outputs": [],
   "source": [
    "K_balance_boxplot1 = []\n",
    "for x in K_balance_boxplot.keys():\n",
    "    print(x)\n",
    "    K_balance_boxplot1.append(K_balance_boxplot[x])"
   ]
  },
  {
   "cell_type": "code",
   "execution_count": null,
   "metadata": {},
   "outputs": [],
   "source": [
    "fig, axs = plt.subplots(1, 4, figsize=(10,4))\n",
    "axs[0].boxplot(K_balance_boxplot1[0], 0, '', labels = [''], showmeans=True)\n",
    "axs[0].set_title(\"Mineral Fertilizer\")\n",
    "axs[1].boxplot(K_balance_boxplot1[1], 0, '', labels = [''], showmeans=True)\n",
    "axs[1].set_title(\"Compost\")\n",
    "axs[2].boxplot(K_balance_boxplot1[2], 0, '', labels = [''], showmeans=True)\n",
    "axs[2].set_title(\"Total inputs\")\n",
    "axs[3].boxplot(K_balance_boxplot1[3], 0, '', labels = [''], showmeans=True)\n",
    "axs[3].set_title(\"K removed with harvest\")\n",
    "fig.suptitle(\"K inputs and outputs - kg K2O/ha yr\")\n",
    "fig.tight_layout()\n",
    "#fig.savefig( 'output/' + scen + '/emissions/K_balance' + '.png')"
   ]
  },
  {
   "cell_type": "code",
   "execution_count": null,
   "metadata": {},
   "outputs": [],
   "source": []
  }
 ],
 "metadata": {
  "kernelspec": {
   "display_name": "Python 3 (ipykernel)",
   "language": "python",
   "name": "python3"
  },
  "language_info": {
   "codemirror_mode": {
    "name": "ipython",
    "version": 3
   },
   "file_extension": ".py",
   "mimetype": "text/x-python",
   "name": "python",
   "nbconvert_exporter": "python",
   "pygments_lexer": "ipython3",
   "version": "3.11.8"
  }
 },
 "nbformat": 4,
 "nbformat_minor": 4
}
