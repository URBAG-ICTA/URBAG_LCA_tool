{
 "cells": [
  {
   "cell_type": "markdown",
   "metadata": {},
   "source": [
    "# Background LCIA"
   ]
  },
  {
   "cell_type": "markdown",
   "metadata": {},
   "source": [
    "This notebook calculates the indirect impacts using pre-calculated impact intensities with the LCIA of each product."
   ]
  },
  {
   "cell_type": "code",
   "execution_count": null,
   "metadata": {},
   "outputs": [],
   "source": [
    "import pandas as pd\n",
    "import numpy as np\n",
    "import matplotlib.pyplot as plt\n",
    "import seaborn as sns"
   ]
  },
  {
   "cell_type": "code",
   "execution_count": null,
   "metadata": {},
   "outputs": [],
   "source": [
    "#In this cell the scenario is chosen. This can either be defined here or in the RUN_ALL.ipynb\n",
    "#If defined here unmark the scen = line and select the scenario you will run.\n",
    "#If defined in RUN_ALL.ipynb unmark the %store -r scen line.\n",
    "#Scenario names are:\n",
    "#S0_MinFert > N,P,K demand met by mineral fertilizers only\n",
    "#S0_struvite_P > P demand met by struvite, N demand met by struvite and mineral fertilizer and K demand met by mineral fertilizer\n",
    "#S0_compost > N,P,K supplied by compost produced in the AMB, remaining N,P,K demand met by mineral fertilizer\n",
    "#S0_Ammon_salts > N supplied from recovered ammonium salts and from mineral fertilizers, P from struvite and K from mineral fertilizer\n",
    "scen = 'S0_MinFert'\n",
    "#%store -r scen"
   ]
  },
  {
   "cell_type": "code",
   "execution_count": null,
   "metadata": {},
   "outputs": [],
   "source": [
    "print(scen)"
   ]
  },
  {
   "cell_type": "code",
   "execution_count": null,
   "metadata": {},
   "outputs": [],
   "source": [
    "%store -r URBAG_map\n",
    "%store -r Nitrogen_Balance\n",
    "%store -r Phosphorus_Balance\n",
    "%store -r Potassium_Balance\n",
    "%store -r Mineral_fert_K2O"
   ]
  },
  {
   "cell_type": "code",
   "execution_count": null,
   "metadata": {},
   "outputs": [],
   "source": [
    "URBAG_map.columns.values"
   ]
  },
  {
   "cell_type": "code",
   "execution_count": null,
   "metadata": {},
   "outputs": [],
   "source": [
    "URBAG_map = URBAG_map.drop(['TIPO_RIEGO', 'EFIC_RIEGO', 'TIPO_DIST', 'EFIC_DISTR', 'DUN_GRUP',\n",
    "       'DUN_CULTIU', 'TF', 'REG_CREAF', 'REG_CAT', 'TF_REG',\n",
    "        'CAT_NIV_4', 'ORD_NIV_4', 'CAT_NIV_3',\n",
    "       'ORD_NIV_3', 'CAT_NIV_2', 'ORD_NIV_2', 'CAT_NIV_1F', 'ORD_NIV_1F',\n",
    "       'CAT_NIV_1', 'ORD_NIV_1', '01_ETO', '02_ETO', '03_ETO', '04_ETO',\n",
    "       '05_ETO', '06_ETO', '07_ETO', '08_ETO', '09_ETO', '10_ETO',\n",
    "       '11_ETO', '12_ETO', '01_PPT', '02_PPT', '03_PPT', '04_PPT',\n",
    "       '05_PPT', '06_PPT', '07_PPT', '08_PPT', '09_PPT', '10_PPT',\n",
    "       '11_PPT', '12_PPT', 'ID_Voronoi', 'Municipi', 'Codi_munic',\n",
    "       'Codi_comar', 'ID_CUENCA', 'CUENCA',\n",
    "       'ID_SUBCUEN', 'N_SUBCUENC', 'SUBCUENCAS',\n",
    "       'yield_kgHA', 'kgP2O5/ha', 'kgK2O/ha', 'kgN/ha', 'EF_Tier2',\n",
    "       'id_final', 'Kc_b_Kc1', 'Kc_b_Kc2', 'Kc_b_Kc3', 'Kc_b_Kc4',\n",
    "       'Kc_b_Kc5', 'Kc_b_Kc6', 'Kc_b_Kc7', 'Kc_b_Kc8', 'Kc_b_Kc9',\n",
    "       'Kc_b_Kc10', 'Kc_b_Kc11', 'Kc_b_Kc12', 'N_T', 'P_T', 'K_T',\n",
    "       'Voronoi_ag', 'Vor_ag_Num', '01_CWR', '02_CWR',\n",
    "       '03_CWR', '04_CWR', '05_CWR', '06_CWR', '07_CWR', '08_CWR',\n",
    "       '09_CWR', '10_CWR', '11_CWR', '12_CWR', '01_PPTe', '02_PPTe',\n",
    "       '03_PPTe', '04_PPTe', '05_PPTe', '06_PPTe', '07_PPTe', '08_PPTe',\n",
    "       '09_PPTe', '10_PPTe', '11_PPTe', '12_PPTe', '01_ID', '02_ID',\n",
    "       '03_ID', '04_ID', '05_ID', '06_ID', '07_ID', '08_ID', '09_ID',\n",
    "       '10_ID', '11_ID', '12_ID', 'LOSSES', '01_WE', '02_WE', '03_WE',\n",
    "       '04_WE', '05_WE', '06_WE', '07_WE', '08_WE', '09_WE', '10_WE',\n",
    "       '11_WE', '12_WE', 'WE_m3_ha_yr', 'Manure', 'Manure_N',\n",
    "       'Manure_P2O5', 'Agriwaste_toField', 'Agriwaste_burned',\n",
    "       'N_agriwaste_to_field', 'Cuencas',\n",
    "       'GWP100_IPCC_N2O', 'GWP100_IPCC_CO2', 'GWP100_IPCC_CH4', 'ME_NO3',\n",
    "       'ME_NO3_Reg', 'FE_PO43', 'FE_PO43_Reg', 'WC'], axis=1)"
   ]
  },
  {
   "cell_type": "markdown",
   "metadata": {},
   "source": [
    "## LCIA Methods: Family and version, Name, Unit, # of CFsS"
   ]
  },
  {
   "cell_type": "markdown",
   "metadata": {},
   "source": [
    "- IPCC 2021, climate change, global warming potential (GWP100)\tkg CO2-Eq\t226  \n",
    "- ReCiPe 2016 v1.03, midpoint (H), eutrophication: marine, marine eutrophication potential (MEP)\tkg N-Eq\t22 \n",
    "- ReCiPe 2016 v1.03, midpoint (H), eutrophication: freshwater, freshwater eutrophication potential (FEP)\tkg P-Eq\t13 \n",
    "- ReCiPe 2016 v1.03, midpoint (H), water use, water consumption potential (WCP) m3 of water consumed/m3 water extracted 5 \n",
    "- CML v4.8 2016, material resources: metals/minerals, abiotic depletion potential (ADP): elements (ultimate reserves)\tkg Sb-Eq\t129"
   ]
  },
  {
   "cell_type": "code",
   "execution_count": null,
   "metadata": {},
   "outputs": [],
   "source": [
    "Phosphorus_Balance.keys()"
   ]
  },
  {
   "cell_type": "code",
   "execution_count": null,
   "metadata": {},
   "outputs": [],
   "source": [
    "Nitrogen_Balance.keys()"
   ]
  },
  {
   "cell_type": "code",
   "execution_count": null,
   "metadata": {},
   "outputs": [],
   "source": [
    "Potassium_Balance.keys()"
   ]
  },
  {
   "cell_type": "markdown",
   "metadata": {},
   "source": [
    "## Pre-calculated impact intensities per product"
   ]
  },
  {
   "cell_type": "code",
   "execution_count": null,
   "metadata": {},
   "outputs": [],
   "source": [
    "#Impact of production of each nutrient supply option in kg impact units per kg of product e.g. kg CO2eq/kg MAP\n",
    "back_impacts = pd.read_excel(\"inputs/URBAG_LCIAs_ei391cutoff_20240409.xlsx\")"
   ]
  },
  {
   "cell_type": "code",
   "execution_count": null,
   "metadata": {},
   "outputs": [],
   "source": [
    "back_impacts.keys()"
   ]
  },
  {
   "cell_type": "code",
   "execution_count": null,
   "metadata": {},
   "outputs": [],
   "source": [
    "pd.unique(back_impacts['database'])"
   ]
  },
  {
   "cell_type": "code",
   "execution_count": null,
   "metadata": {},
   "outputs": [],
   "source": [
    "pd.unique(back_impacts['reference product'])"
   ]
  },
  {
   "cell_type": "code",
   "execution_count": null,
   "metadata": {},
   "outputs": [],
   "source": [
    "back_impacts['database'][back_impacts['database'].str.fullmatch('ei391_cutoff_circular_strategies')]                       = \"ei391_cutoff\"\n",
    "back_impacts['database'][back_impacts['database'].str.fullmatch('image - SSP2-Base - 2050')]                               = \"ei391_cutoff_image_SSP2_Base_2050\"\n",
    "back_impacts['database'][back_impacts['database'].str.fullmatch('ei391_cutoff_CS_image_SSP2-Base-2050')]                   = \"ei391_cutoff_image_SSP2_Base_2050\"\n",
    "back_impacts['database'][back_impacts['database'].str.fullmatch('image - SSP2-RCP26 - 2050')]                              = \"ei391_cutoff_image_SSP2_RCP26_2050\"\n",
    "back_impacts['database'][back_impacts['database'].str.fullmatch('ei391_cutoff_CS_image_SSP2-RCP26-2050')]                  = \"ei391_cutoff_image_SSP2_RCP26_2050\""
   ]
  },
  {
   "cell_type": "code",
   "execution_count": null,
   "metadata": {},
   "outputs": [],
   "source": [
    "pd.unique(back_impacts['database'])"
   ]
  },
  {
   "cell_type": "code",
   "execution_count": null,
   "metadata": {
    "tags": []
   },
   "outputs": [],
   "source": [
    "ReCiPe_LCIA_1 = back_impacts.drop(['Unnamed: 0',\"index\"],axis=1)"
   ]
  },
  {
   "cell_type": "code",
   "execution_count": null,
   "metadata": {},
   "outputs": [],
   "source": [
    "ReCiPe_LCIA = pd.melt(ReCiPe_LCIA_1, id_vars=['amount', 'unit', 'reference product', 'name', 'location',\n",
    "       'database'], value_vars=[\n",
    "       'ReCiPe 2016 v1.03, midpoint (H) | eutrophication: freshwater | freshwater eutrophication potential (FEP)',\n",
    "       'ReCiPe 2016 v1.03, midpoint (H) | eutrophication: marine | marine eutrophication potential (MEP)',\n",
    "       'ReCiPe 2016 v1.03, midpoint (H) | water use | water consumption potential (WCP)',\n",
    "       'IPCC 2021 | climate change | global warming potential (GWP100)',\n",
    "       'CML v4.8 2016 | material resources: metals/minerals | abiotic depletion potential (ADP): elements (ultimate reserves)'],var_name='impact')"
   ]
  },
  {
   "cell_type": "code",
   "execution_count": null,
   "metadata": {},
   "outputs": [],
   "source": [
    "ReCiPe_LCIA"
   ]
  },
  {
   "cell_type": "code",
   "execution_count": null,
   "metadata": {},
   "outputs": [],
   "source": [
    "pd.unique(ReCiPe_LCIA['database'])"
   ]
  },
  {
   "cell_type": "code",
   "execution_count": null,
   "metadata": {},
   "outputs": [],
   "source": [
    "#Background databases [3 databases]> ei, baseline2050, RCP2.62050, for SSP2\n",
    "databases = pd.unique(ReCiPe_LCIA['database'])\n",
    "len(databases)"
   ]
  },
  {
   "cell_type": "code",
   "execution_count": null,
   "metadata": {},
   "outputs": [],
   "source": [
    "#Impact categories [5 impacts: ADP, FE, ME, GWP, WC]\n",
    "impacts = pd.unique(ReCiPe_LCIA['impact'])\n",
    "len(impacts)"
   ]
  },
  {
   "cell_type": "code",
   "execution_count": null,
   "metadata": {},
   "outputs": [],
   "source": [
    "#Products [6 products]> N, P, K mineral fertilizer and struvite with biogas co-generation, Ostara Llobregat WWTP, compost from market AMB (3 composting plants), ammonium salts+struvite\n",
    "products = pd.unique(ReCiPe_LCIA['reference product'])\n",
    "len(products)"
   ]
  },
  {
   "cell_type": "code",
   "execution_count": null,
   "metadata": {},
   "outputs": [],
   "source": [
    "Nitrogen_Balance.keys()"
   ]
  },
  {
   "cell_type": "code",
   "execution_count": null,
   "metadata": {},
   "outputs": [],
   "source": [
    "Phosphorus_Balance.keys()"
   ]
  },
  {
   "cell_type": "code",
   "execution_count": null,
   "metadata": {},
   "outputs": [],
   "source": [
    "Potassium_Balance.keys()"
   ]
  },
  {
   "cell_type": "markdown",
   "metadata": {},
   "source": [
    "## Content of N and P in struvite, compost and ammonium salts"
   ]
  },
  {
   "cell_type": "markdown",
   "metadata": {},
   "source": [
    "This constants are used to convert from N to kg of products and viceversa"
   ]
  },
  {
   "cell_type": "markdown",
   "metadata": {},
   "source": [
    "### Struvite"
   ]
  },
  {
   "cell_type": "markdown",
   "metadata": {
    "tags": []
   },
   "source": [
    "    - According to Want et.al. (2023)\n",
    "\n",
    "        *kg P2O5 per kg MAP = 0.25\n",
    "        *kg N per kg MAP = 0.045\n",
    "    \n",
    "    - ICTA struvite (used here)\n",
    "        \n",
    "        *kg P2O5 per kg MAP = 0.29\n",
    "        *kg N per kg MAP = 0.057"
   ]
  },
  {
   "cell_type": "code",
   "execution_count": null,
   "metadata": {
    "tags": []
   },
   "outputs": [],
   "source": [
    "kg_P2O5_kg_MAP = 0.29\n",
    "kg_MAP_kg_P2O5 = 1/0.29\n",
    "kg_N_kg_MAP = 0.057\n",
    "kg_MAP_kg_N = 1/0.057"
   ]
  },
  {
   "cell_type": "markdown",
   "metadata": {},
   "source": [
    "### Compost"
   ]
  },
  {
   "cell_type": "markdown",
   "metadata": {},
   "source": [
    "According to data for three composting plants considered:\n",
    "    \n",
    "        *Sant Cugat\n",
    "        *Torrelles\n",
    "        *Zona Franca"
   ]
  },
  {
   "cell_type": "code",
   "execution_count": null,
   "metadata": {
    "tags": []
   },
   "outputs": [],
   "source": [
    "#P content per compost plant * bioavailability * convesion from P to P2O5\n",
    "#kg P2O5 per kg compost FM\n",
    "kg_P2O5_kg_FMcompost_SantCugatCP   = 0.0057*0.95*(1/0.4364)\n",
    "kg_P2O5_kg_FMcompost_TorrellesCP   = 0.0064*0.95*(1/0.4364)\n",
    "kg_P2O5_kg_FMcompost_ZonaFrancaECP = 0.0197*0.95*(1/0.4364)"
   ]
  },
  {
   "cell_type": "code",
   "execution_count": null,
   "metadata": {},
   "outputs": [],
   "source": [
    "kg_DMcompost_kg_FMcompost_SantCugatCP = 0.789\n",
    "kg_DMcompost_kg_FMcompost_TorrellesCP = 0.779\n",
    "kg_DMcompost_kg_FMcompost_ZonaFrancaECP = 0.592"
   ]
  },
  {
   "cell_type": "code",
   "execution_count": null,
   "metadata": {},
   "outputs": [],
   "source": [
    "#Average nutrient content for the compost of the three composting plants considered for the AMB\n",
    "kg_compostFM_kg_P2O5 = 1/np.average([(kg_P2O5_kg_FMcompost_SantCugatCP),(kg_P2O5_kg_FMcompost_TorrellesCP),(kg_P2O5_kg_FMcompost_ZonaFrancaECP)], weights=[0.21,0.15,0.64])\n",
    "kg_compostFM_kg_P2O5"
   ]
  },
  {
   "cell_type": "code",
   "execution_count": null,
   "metadata": {},
   "outputs": [],
   "source": [
    "#Average moisture content for the compost of the three composting plants considered for the AMB\n",
    "kg_DMcompost_kg_FMcompost = 1/np.average([(kg_DMcompost_kg_FMcompost_SantCugatCP),(kg_DMcompost_kg_FMcompost_TorrellesCP),(kg_DMcompost_kg_FMcompost_ZonaFrancaECP)], weights=[0.21,0.15,0.64])\n",
    "kg_DMcompost_kg_FMcompost"
   ]
  },
  {
   "cell_type": "markdown",
   "metadata": {},
   "source": [
    "### Ammonium salts"
   ]
  },
  {
   "cell_type": "markdown",
   "metadata": {},
   "source": [
    "Ammonium salts content of Nitrogen is 18.8%, according to ENRICH pilot data (Mayor et.al, 2023)"
   ]
  },
  {
   "cell_type": "code",
   "execution_count": null,
   "metadata": {},
   "outputs": [],
   "source": [
    "kg_AmmoniumSalt_kg_N = 1/0.188\n",
    "kg_AmmoniumSalt_kg_N"
   ]
  },
  {
   "cell_type": "markdown",
   "metadata": {},
   "source": [
    "## Fertilizer, struvite, compost and ammonium salts use"
   ]
  },
  {
   "cell_type": "code",
   "execution_count": null,
   "metadata": {},
   "outputs": [],
   "source": [
    "activity = pd.DataFrame(URBAG_map)"
   ]
  },
  {
   "cell_type": "code",
   "execution_count": null,
   "metadata": {},
   "outputs": [],
   "source": [
    "activity.keys()"
   ]
  },
  {
   "cell_type": "code",
   "execution_count": null,
   "metadata": {},
   "outputs": [],
   "source": [
    "activity[\"N_Fertilizer\"]     = Nitrogen_Balance['N_Fertiliser']                #kg N/ha yr\n",
    "activity[\"P_Fertilizer\"]     = Phosphorus_Balance['P_Fertiliser']              #kg P2O5/ha yr\n",
    "activity[\"K_Fertilizer\"]     = Potassium_Balance['K_Fertiliser']               #kg K2O/ ha yr"
   ]
  },
  {
   "cell_type": "code",
   "execution_count": null,
   "metadata": {},
   "outputs": [],
   "source": [
    "activity[\"N_Ammonium_salts\"] = Nitrogen_Balance['N_Ammonium_salts'] *kg_AmmoniumSalt_kg_N #kg N/ha yr * kg Ammonim salts/kg N = kg Ammonium salts/ha yr"
   ]
  },
  {
   "cell_type": "code",
   "execution_count": null,
   "metadata": {},
   "outputs": [],
   "source": [
    "#Struvite use in each scenario in kg MAP per ha yr\n",
    "#we use the ammount determined in the P balance as this is the limiting nutrient and in fact only struvite is used in the struvite_P scenario\n",
    "if scen == 'S0_MinFert':    \n",
    "    activity[\"Struvite\"]  = Phosphorus_Balance['P_Struvite']*kg_MAP_kg_P2O5 #kg P2O5/ha yr * kg MAP/kg P2O5 = kg MAP/ha yr [should be zeros!!]\n",
    "elif scen == 'S0_struvite_P':\n",
    "    activity[\"Struvite\"]  = Phosphorus_Balance['P_Struvite']*kg_MAP_kg_P2O5 #kg P2O5/ha yr * kg MAP/kg P2O5 = kg MAP/ha yr\n",
    "elif scen == 'S0_compost':\n",
    "    activity[\"Struvite\"]  = Phosphorus_Balance['P_Struvite']*kg_MAP_kg_P2O5 #kg P2O5/ha yr * kg MAP/kg P2O5 = kg MAP/ha yr [should be zeros!!]\n",
    "elif scen == 'S0_Ammon_salts':\n",
    "    activity[\"Struvite\"]  = Phosphorus_Balance['P_Struvite']*kg_MAP_kg_P2O5 #kg P2O5/ha yr * kg MAP/kg P2O5 = kg MAP/ha yr\n",
    "else:\n",
    "    pass"
   ]
  },
  {
   "cell_type": "code",
   "execution_count": null,
   "metadata": {},
   "outputs": [],
   "source": [
    "#Compost use in each scenario in kg FM compost per ha yr\n",
    "#We use the ammount determined in the P balance as this is the nutrient more supplied with compost and in fact only compost is used in the compost scenario\n",
    "if scen == 'S0_MinFert':    \n",
    "    activity[\"Compost\"]  = Phosphorus_Balance['P_Compost']*kg_compostFM_kg_P2O5*kg_DMcompost_kg_FMcompost #kg P2O5/ha yr * kg DMcompost/kg P2O5 *kg FM compost/kg DM compost = kg FM compost/ha yr [should be zeros!!]\n",
    "elif scen == 'S0_struvite_P':\n",
    "    activity[\"Compost\"]  = Phosphorus_Balance['P_Compost']*kg_compostFM_kg_P2O5*kg_DMcompost_kg_FMcompost #kg P2O5/ha yr * kg DMcompost/kg P2O5 *kg FM compost/kg DM compost = kg FM compost/ha yr [should be zeros!!]\n",
    "elif scen == 'S0_compost':\n",
    "    activity[\"Compost\"]  = Phosphorus_Balance['P_Compost']*kg_compostFM_kg_P2O5*kg_DMcompost_kg_FMcompost #kg P2O5/ha yr * kg DMcompost/kg P2O5 *kg FM compost/kg DM compost = kg FM compost/ha yr\n",
    "elif scen == 'S0_Ammon_salts':\n",
    "    activity[\"Compost\"]  = Phosphorus_Balance['P_Compost']*kg_compostFM_kg_P2O5*kg_DMcompost_kg_FMcompost #kg P2O5/ha yr * kg DMcompost/kg P2O5 *kg FM compost/kg DM compost = kg FM compost/ha yr [should be zeros!!]\n",
    "else:\n",
    "    pass"
   ]
  },
  {
   "cell_type": "code",
   "execution_count": null,
   "metadata": {},
   "outputs": [],
   "source": [
    "N_fert_total = np.sum(activity['Area']*(1/10000) * activity[\"N_Fertilizer\"])/1000\n",
    "N_fert_total"
   ]
  },
  {
   "cell_type": "code",
   "execution_count": null,
   "metadata": {},
   "outputs": [],
   "source": [
    "N_ammonSalts_total = np.sum(activity['Area']*(1/10000) * activity[\"N_Ammonium_salts\"])/1000\n",
    "N_ammonSalts_total"
   ]
  },
  {
   "cell_type": "code",
   "execution_count": null,
   "metadata": {},
   "outputs": [],
   "source": [
    "P_fert_total = np.sum(activity['Area']*(1/10000) * activity[\"P_Fertilizer\"])/1000\n",
    "P_fert_total"
   ]
  },
  {
   "cell_type": "code",
   "execution_count": null,
   "metadata": {},
   "outputs": [],
   "source": [
    "K_fert_total = np.sum(activity['Area']*(1/10000) * activity[\"K_Fertilizer\"])/1000\n",
    "K_fert_total"
   ]
  },
  {
   "cell_type": "code",
   "execution_count": null,
   "metadata": {},
   "outputs": [],
   "source": [
    "Struvite_total = np.sum(activity['Area']*(1/10000) * activity[\"Struvite\"])/1000\n",
    "Struvite_total"
   ]
  },
  {
   "cell_type": "code",
   "execution_count": null,
   "metadata": {},
   "outputs": [],
   "source": [
    "Compost_total = np.sum(activity['Area']*(1/10000) * activity[\"Compost\"])/1000\n",
    "Compost_total"
   ]
  },
  {
   "cell_type": "code",
   "execution_count": null,
   "metadata": {},
   "outputs": [],
   "source": [
    "#Check cell, here we check that the total compost calculated does not exceed the 2016 yearly production of the three plants\n",
    "#Total compost production in three plant from AMB in 2016 is 5,016.65 kg FM compost/yr\n",
    "#the difference with what we calculate as the total of compost here assuming weighted averages is\n",
    "#the total should be positive otherwise we are exceeding the production\n",
    "5016.65 - Compost_total"
   ]
  },
  {
   "cell_type": "code",
   "execution_count": null,
   "metadata": {},
   "outputs": [],
   "source": [
    "#Check cell, here we check that the total ammonium salts calculated does not exceed the yearly production of llobregat\n",
    "#Total Ammonium sulphur production is 2816.30 kg/yr\n",
    "#the difference with what we calculate as the total\n",
    "#the total should be positive otherwise we are exceeding the production\n",
    "2816.30 - N_ammonSalts_total"
   ]
  },
  {
   "cell_type": "code",
   "execution_count": null,
   "metadata": {},
   "outputs": [],
   "source": [
    "#Exploring the activity values via plot fid\n",
    "activity.loc[(activity['Fid']==2544)]"
   ]
  },
  {
   "cell_type": "code",
   "execution_count": null,
   "metadata": {
    "tags": []
   },
   "outputs": [],
   "source": [
    "#calculating background impact for each database and product\n",
    "#Multiplying impact per kg of product (e.g. kg CO2eq/kg N) with activity i.e. N,P,K mineral fert and struvite input (e.g. kg N/ha yr) = kg CO2eq/ha yr \n",
    "LCIA = pd.DataFrame()\n",
    "for database in databases:\n",
    "    for impact in impacts:\n",
    "        for product in products:\n",
    "            CF = ReCiPe_LCIA.loc[(ReCiPe_LCIA['database']==database)&\n",
    "                                     (ReCiPe_LCIA['impact']==impact)&\n",
    "                                     (ReCiPe_LCIA['reference product']==product)]['value']\n",
    "            URBAG_map['database']=database\n",
    "            URBAG_map['imp_cat']=impact\n",
    "            URBAG_map['product']=product\n",
    "            if product=='inorganic nitrogen fertiliser, as N':\n",
    "                URBAG_map['imp_per_ha'] = activity[\"N_Fertilizer\"].mul(CF, fill_value=CF)\n",
    "            elif product=='inorganic phosphorus fertiliser, as P2O5':\n",
    "                URBAG_map['imp_per_ha'] = activity[\"P_Fertilizer\"].mul(CF, fill_value=CF)\n",
    "            elif product=='inorganic potassium fertiliser, as K2O':\n",
    "                URBAG_map['imp_per_ha'] = activity[\"K_Fertilizer\"].mul(CF, fill_value=CF)\n",
    "            elif product=='Struvite at WWTP':\n",
    "                URBAG_map['imp_per_ha'] = activity[\"Struvite\"].mul(CF, fill_value=CF)\n",
    "            elif product=='compost, market for compost Metropolitan Area of Barcelona':\n",
    "                URBAG_map['imp_per_ha'] = activity[\"Compost\"].mul(CF, fill_value=CF)\n",
    "            elif product=='Ammonium sulphate at WWTP':\n",
    "                URBAG_map['imp_per_ha'] = activity[\"N_Ammonium_salts\"].mul(CF, fill_value=CF)\n",
    "            else:\n",
    "                pass\n",
    "            LCIA = pd.concat([LCIA,URBAG_map])"
   ]
  },
  {
   "cell_type": "code",
   "execution_count": null,
   "metadata": {},
   "outputs": [],
   "source": [
    "LCIA.columns.values"
   ]
  },
  {
   "cell_type": "code",
   "execution_count": null,
   "metadata": {},
   "outputs": [],
   "source": [
    "LCIA.loc[LCIA[\"product\"]==\"inorganic nitrogen fertiliser, as N\"].head()"
   ]
  },
  {
   "cell_type": "code",
   "execution_count": null,
   "metadata": {},
   "outputs": [],
   "source": [
    "pd.unique(LCIA[\"database\"])"
   ]
  },
  {
   "cell_type": "code",
   "execution_count": null,
   "metadata": {},
   "outputs": [],
   "source": [
    "#Adding total impacts per year\n",
    "#Total impact per parcel in kg impact units/yr \n",
    "#!!!!!!conveting to tons>> GWP = Ton CO2eq; MEP= Ton Neq; FEP= Ton P eq; WD = *1000 m3!!!!!\n",
    "#Adding background label\n",
    "#Adding scenario scen\n",
    "LCIA['imp_yr']=(LCIA['imp_per_ha']*LCIA['Area']*(1/10000))/1000 #ton impact/yr\n",
    "LCIA['LCIA']  ='background'\n",
    "LCIA['Scenario'] =scen"
   ]
  },
  {
   "cell_type": "code",
   "execution_count": null,
   "metadata": {},
   "outputs": [],
   "source": [
    "LCIA.head()"
   ]
  },
  {
   "cell_type": "code",
   "execution_count": null,
   "metadata": {},
   "outputs": [],
   "source": [
    "#plots*product*impacts*databases\n",
    "#S4=11334\n",
    "#S0=4581\n",
    "11334*6*5*3"
   ]
  },
  {
   "cell_type": "code",
   "execution_count": null,
   "metadata": {},
   "outputs": [],
   "source": [
    "4581*6"
   ]
  },
  {
   "cell_type": "code",
   "execution_count": null,
   "metadata": {},
   "outputs": [],
   "source": [
    "LCIA.columns"
   ]
  },
  {
   "cell_type": "code",
   "execution_count": null,
   "metadata": {},
   "outputs": [],
   "source": [
    "LCIA_ei391 = LCIA[LCIA[\"database\"]==\"ei391_cutoff\"]\n",
    "LCIA_ei391_GWP = LCIA_ei391[LCIA_ei391[\"imp_cat\"]==\"ReCiPe 2016 v1.03, midpoint (H) | water use | water consumption potential (WCP)\"]\n",
    "LCIA_ei391_GWP[LCIA_ei391_GWP[\"product\"]==\"inorganic nitrogen fertiliser, as N\"].imp_yr.sum()"
   ]
  },
  {
   "cell_type": "code",
   "execution_count": null,
   "metadata": {},
   "outputs": [],
   "source": [
    "#Changing long databases names for short names\n",
    "database_short = {\n",
    "       'ei391': ['ei391_cutoff'],\n",
    "        #'ei38_SSP2-Base_30':['ei38_cutoff_IMAGE_SSP2Base_2030'],\n",
    "        #'ei38_SSP2-Base_40':['ei38_cutoff_IMAGE_SSP2Base_2040'],\n",
    "        'ei391_Image_SSP2_Base_50':['ei391_cutoff_image_SSP2_Base_2050'],\n",
    "        #'ei38_SSP2-RCP2.6_30':['ei38_cutoff_IMAGE_SSP2RCP26_2030'],\n",
    "        #'ei38_SSP2-RCP2.6_40':['ei38_cutoff_IMAGE_SSP2RCP26_2040'],\n",
    "        'ei391_Image_SSP2_RCP26_50':['ei391_cutoff_image_SSP2_RCP26_2050']}"
   ]
  },
  {
   "cell_type": "code",
   "execution_count": null,
   "metadata": {},
   "outputs": [],
   "source": [
    "imp_cat_short = {'GWP100': ['IPCC 2021 | climate change | global warming potential (GWP100)'],\n",
    "       'FE':['ReCiPe 2016 v1.03, midpoint (H) | eutrophication: freshwater | freshwater eutrophication potential (FEP)'],\n",
    "       'ME':[ 'ReCiPe 2016 v1.03, midpoint (H) | eutrophication: marine | marine eutrophication potential (MEP)'],\n",
    "       'WC':['ReCiPe 2016 v1.03, midpoint (H) | water use | water consumption potential (WCP)'],\n",
    "       'ADP':['CML v4.8 2016 | material resources: metals/minerals | abiotic depletion potential (ADP): elements (ultimate reserves)']}"
   ]
  },
  {
   "cell_type": "code",
   "execution_count": null,
   "metadata": {},
   "outputs": [],
   "source": [
    "#Adding a column with short names for impact category\n",
    "imp_cat_shorter = {}\n",
    "for key, impac in imp_cat_short.items():\n",
    "    \n",
    "    for x in impac:\n",
    "        imp_cat_shorter[x] = key\n",
    "\n",
    "LCIA['imp_cat2'] = LCIA['imp_cat'].map(imp_cat_shorter)\n",
    "\n",
    "pd.unique(LCIA['imp_cat2'])"
   ]
  },
  {
   "cell_type": "code",
   "execution_count": null,
   "metadata": {},
   "outputs": [],
   "source": [
    "#Adding a column with short names for databases\n",
    "database_shorter = {}\n",
    "for key, db in database_short.items():\n",
    "    \n",
    "    for x in db:\n",
    "        database_shorter[x] = key\n",
    "\n",
    "LCIA['database2'] = LCIA['database'].map(database_shorter)\n",
    "\n",
    "pd.unique(LCIA['database2'])"
   ]
  },
  {
   "cell_type": "code",
   "execution_count": null,
   "metadata": {},
   "outputs": [],
   "source": [
    "#Dropping long names for impact categories and databases\n",
    "LCIA = LCIA.drop(['imp_cat','database'], axis=1)"
   ]
  },
  {
   "cell_type": "code",
   "execution_count": null,
   "metadata": {},
   "outputs": [],
   "source": [
    "#Changing the column name for short impact names to match foreground/background impacts too\n",
    "LCIA.rename(columns={'imp_cat2': 'imp_cat', 'database2': 'database'}, inplace=True)"
   ]
  },
  {
   "cell_type": "code",
   "execution_count": null,
   "metadata": {},
   "outputs": [],
   "source": [
    "pd.unique(LCIA['database'])"
   ]
  },
  {
   "cell_type": "code",
   "execution_count": null,
   "metadata": {},
   "outputs": [],
   "source": [
    "#Exploring the list of impacts via plot fid, database, impact, product\n",
    "LCIA.loc[#(LCIA['Fid']==2544)\n",
    "                   (LCIA['database']=='ei391')\n",
    "                   &(LCIA['imp_cat']=='WC')\n",
    "                   &(LCIA['product']=='inorganic nitrogen fertiliser, as N')\n",
    "                  ].imp_yr.sum()"
   ]
  },
  {
   "cell_type": "code",
   "execution_count": null,
   "metadata": {},
   "outputs": [],
   "source": [
    "#Total impact in ton impact unit/yr for the whole AMB, per product and database and scenario\n",
    "LCIA_all_1 = LCIA.groupby([\"LCIA\",'database', \"product\", \"Scenario\",\"imp_cat\"])[\"imp_yr\"].aggregate(\"sum\").reset_index()\n",
    "LCIA_all_1"
   ]
  },
  {
   "cell_type": "code",
   "execution_count": null,
   "metadata": {},
   "outputs": [],
   "source": [
    "LCIA_all_1[LCIA_all_1[\"database\"]==\"ei391\"]"
   ]
  },
  {
   "cell_type": "code",
   "execution_count": null,
   "metadata": {},
   "outputs": [],
   "source": [
    "#copying background impacts for regionalized ME and FE. These are not regionalized\n",
    "FE_labels = [\"FE\",\"FE_Reg\"]"
   ]
  },
  {
   "cell_type": "code",
   "execution_count": null,
   "metadata": {},
   "outputs": [],
   "source": [
    "#copying background impacts for regionalized ME and FE. These are not regionalized\n",
    "ME_labels = [\"ME\",\"ME_Reg\"]"
   ]
  },
  {
   "cell_type": "code",
   "execution_count": null,
   "metadata": {},
   "outputs": [],
   "source": [
    "#duplicate rows for FE and ME background impacts as these are the same for the regionalized foreground impacts and the recipe foreground impacts\n",
    "duplicated_rows = LCIA_all_1[LCIA_all_1['imp_cat'].isin(['FE', 'ME'])].copy()"
   ]
  },
  {
   "cell_type": "code",
   "execution_count": null,
   "metadata": {},
   "outputs": [],
   "source": [
    "duplicated_rows['imp_cat'] = duplicated_rows['imp_cat'].map({'FE': 'FE_Reg', 'ME': 'ME_Reg'})"
   ]
  },
  {
   "cell_type": "code",
   "execution_count": null,
   "metadata": {},
   "outputs": [],
   "source": [
    "duplicated_rows"
   ]
  },
  {
   "cell_type": "code",
   "execution_count": null,
   "metadata": {},
   "outputs": [],
   "source": [
    "LCIA_all = pd.concat([LCIA_all_1, duplicated_rows], ignore_index=True)"
   ]
  },
  {
   "cell_type": "code",
   "execution_count": null,
   "metadata": {},
   "outputs": [],
   "source": [
    "LCIA_all[LCIA_all[\"database\"]==\"ei391\"]"
   ]
  },
  {
   "cell_type": "code",
   "execution_count": null,
   "metadata": {},
   "outputs": [],
   "source": [
    "#checking the totals for one impact remain the same as in the LCIA variable\n",
    "test = LCIA_all[LCIA_all[\"database\"]==\"ei391\"]\n",
    "test[test[\"imp_cat\"]==\"WC\"]"
   ]
  },
  {
   "cell_type": "code",
   "execution_count": null,
   "metadata": {},
   "outputs": [],
   "source": [
    "pd.unique(LCIA_all[\"imp_cat\"])"
   ]
  },
  {
   "cell_type": "code",
   "execution_count": null,
   "metadata": {},
   "outputs": [],
   "source": [
    "LCIA_all"
   ]
  },
  {
   "cell_type": "code",
   "execution_count": null,
   "metadata": {},
   "outputs": [],
   "source": [
    "#Exploring the list of impacts via plot fid, database, impact, product\n",
    "LCIA_all.loc[(LCIA_all['database']=='ei391')\n",
    "                   &(LCIA_all['imp_cat']=='GWP100')\n",
    "                   &(LCIA_all['product']=='compost, market for compost Metropolitan Area of Barcelona')\n",
    "                  ].imp_yr.sum()"
   ]
  },
  {
   "cell_type": "code",
   "execution_count": null,
   "metadata": {},
   "outputs": [],
   "source": [
    "#Separate Total impacts in ton impact unit/yr for the whole AMB, per product and database and scenario\n",
    "LCIA_GWP = LCIA_all.loc[LCIA_all[\"imp_cat\"]==\"GWP100\"].drop([\"imp_cat\"],axis=1)\n",
    "LCIA_ME = LCIA_all.loc[LCIA_all[\"imp_cat\"]==\"ME\"].drop([\"imp_cat\"],axis=1)\n",
    "LCIA_FE = LCIA_all.loc[LCIA_all[\"imp_cat\"]==\"FE\"].drop([\"imp_cat\"],axis=1)\n",
    "LCIA_WD  = LCIA_all.loc[LCIA_all[\"imp_cat\"]==\"WD\"].drop([\"imp_cat\"],axis=1)\n",
    "LCIA_ADP  = LCIA_all.loc[LCIA_all[\"imp_cat\"]==\"ADP\"].drop([\"imp_cat\"],axis=1)"
   ]
  },
  {
   "cell_type": "code",
   "execution_count": null,
   "metadata": {},
   "outputs": [],
   "source": [
    "LCIA_GWP.loc[LCIA_GWP[\"product\"]==\"compost, market for compost Metropolitan Area of Barcelona\"]"
   ]
  },
  {
   "cell_type": "code",
   "execution_count": null,
   "metadata": {},
   "outputs": [],
   "source": [
    "URBAG_map.keys()"
   ]
  },
  {
   "cell_type": "code",
   "execution_count": null,
   "metadata": {},
   "outputs": [],
   "source": [
    "URBAG_map = URBAG_map.drop(['database'],axis=1)\n",
    "URBAG_map"
   ]
  },
  {
   "cell_type": "code",
   "execution_count": null,
   "metadata": {},
   "outputs": [],
   "source": [
    "URBAG_map.keys()"
   ]
  },
  {
   "cell_type": "markdown",
   "metadata": {},
   "source": [
    "## Visualization  "
   ]
  },
  {
   "cell_type": "code",
   "execution_count": null,
   "metadata": {},
   "outputs": [],
   "source": [
    "#ton impact units/yr\n",
    "data_back     = LCIA_all\n",
    "data_back_GWP = LCIA_GWP\n",
    "data_back_ME  = LCIA_ME\n",
    "data_back_FE  = LCIA_FE\n",
    "data_back_WD  = LCIA_WD\n",
    "data_back_ADP  = LCIA_ADP"
   ]
  },
  {
   "cell_type": "code",
   "execution_count": null,
   "metadata": {},
   "outputs": [],
   "source": [
    "pd.unique(data_back[\"imp_cat\"])"
   ]
  },
  {
   "cell_type": "code",
   "execution_count": null,
   "metadata": {},
   "outputs": [],
   "source": [
    "pd.unique(data_back['Scenario'])"
   ]
  },
  {
   "cell_type": "code",
   "execution_count": null,
   "metadata": {},
   "outputs": [],
   "source": [
    "pd.unique(data_back['imp_cat'])"
   ]
  },
  {
   "cell_type": "code",
   "execution_count": null,
   "metadata": {},
   "outputs": [],
   "source": [
    "pd.unique(data_back['product'])"
   ]
  },
  {
   "cell_type": "code",
   "execution_count": null,
   "metadata": {},
   "outputs": [],
   "source": [
    "data_back.keys()"
   ]
  },
  {
   "cell_type": "code",
   "execution_count": null,
   "metadata": {},
   "outputs": [],
   "source": [
    "data_back"
   ]
  },
  {
   "cell_type": "code",
   "execution_count": null,
   "metadata": {},
   "outputs": [],
   "source": [
    "data_back_GWP"
   ]
  },
  {
   "cell_type": "markdown",
   "metadata": {
    "tags": []
   },
   "source": [
    "## Saving outputs"
   ]
  },
  {
   "cell_type": "code",
   "execution_count": null,
   "metadata": {},
   "outputs": [],
   "source": [
    "%store data_back\n",
    "%store URBAG_map"
   ]
  },
  {
   "cell_type": "code",
   "execution_count": null,
   "metadata": {},
   "outputs": [],
   "source": [
    "#Total (prospective) background impacts in tons impacts per yr\n",
    "data_back.to_csv(\"output/\" + scen + \"/LCIA/backgroundImpacts/Total_back_impacts.csv\")"
   ]
  },
  {
   "cell_type": "code",
   "execution_count": null,
   "metadata": {},
   "outputs": [],
   "source": [
    "#Map background impacts full dataframe\n",
    "#imp_per_ha in kg or m3 per ha per yr\n",
    "#imp_yr in tons or *1000m3 per year\n",
    "LCIA.to_csv(\"output/\" + scen + \"/LCIA/backgroundImpacts/Map_back_impacts.csv\")"
   ]
  },
  {
   "cell_type": "code",
   "execution_count": null,
   "metadata": {},
   "outputs": [],
   "source": []
  },
  {
   "cell_type": "code",
   "execution_count": null,
   "metadata": {},
   "outputs": [],
   "source": []
  }
 ],
 "metadata": {
  "kernelspec": {
   "display_name": "Python 3 (ipykernel)",
   "language": "python",
   "name": "python3"
  },
  "language_info": {
   "codemirror_mode": {
    "name": "ipython",
    "version": 3
   },
   "file_extension": ".py",
   "mimetype": "text/x-python",
   "name": "python",
   "nbconvert_exporter": "python",
   "pygments_lexer": "ipython3",
   "version": "3.11.8"
  }
 },
 "nbformat": 4,
 "nbformat_minor": 4
}
