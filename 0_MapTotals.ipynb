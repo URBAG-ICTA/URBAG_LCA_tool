{
 "cells": [
  {
   "cell_type": "markdown",
   "id": "6e67ffa9-dba7-4c86-8a20-d69b7a074349",
   "metadata": {
    "tags": []
   },
   "source": [
    "# URBAG map checks"
   ]
  },
  {
   "cell_type": "markdown",
   "id": "78b1fa59-8ba5-480d-91fa-3dce60df648b",
   "metadata": {},
   "source": [
    "This notebook reads in the URBAG map(s) and makes initial checks of the total data it for nutrient requirements of crops, areas, food production, etc."
   ]
  },
  {
   "cell_type": "code",
   "execution_count": null,
   "id": "fadd458a-8e38-4854-b3a7-c1f9865507e9",
   "metadata": {},
   "outputs": [],
   "source": [
    "import pandas as pd\n",
    "import numpy as np"
   ]
  },
  {
   "cell_type": "code",
   "execution_count": null,
   "id": "07ce36e4-2250-45b9-9b22-4e91ec78e412",
   "metadata": {},
   "outputs": [],
   "source": [
    "#In this cell the scenario is chosen. This can either be defined here or in the RUN_ALL.ipynb\n",
    "#If defined here unmark the scen = line and select the scenario you will run.\n",
    "#If defined in RUN_ALL.ipynb unmark the %store -r scen line.\n",
    "#Scenario names are:\n",
    "#S0_MinFert > N,P,K demand met by mineral fertilizers only\n",
    "#S0_struvite_P > P demand met by struvite, N demand met by struvite and mineral fertilizer and K demand met by mineral fertilizer\n",
    "#S0_compost > N,P,K supplied by compost produced in the AMB, remaining N,P,K demand met by mineral fertilizer\n",
    "#S0_Ammon_salts > N supplied from recovered ammonium salts and from mineral fertilizers, P from struvite and K from mineral fertilizer\n",
    "scen = 'S0_MinFert'\n",
    "#%store -r scen"
   ]
  },
  {
   "cell_type": "code",
   "execution_count": null,
   "id": "0edf0b0a-afa1-404b-8123-522dcc6b68b5",
   "metadata": {},
   "outputs": [],
   "source": [
    "print(scen)"
   ]
  },
  {
   "cell_type": "code",
   "execution_count": null,
   "id": "29329e33-025d-4d36-bdd3-a87198b3bb80",
   "metadata": {},
   "outputs": [],
   "source": [
    "#This cell determines the path and name of the map file\n",
    "filename = \"S4_NewVoronoi_0524.csv\"\n",
    "file_path = f\"inputs/{filename}\""
   ]
  },
  {
   "cell_type": "code",
   "execution_count": null,
   "id": "88b910d3-fdc4-4eef-b109-117ad64ac3bb",
   "metadata": {},
   "outputs": [],
   "source": [
    "URBAG_map = pd.read_csv(file_path)"
   ]
  },
  {
   "cell_type": "code",
   "execution_count": null,
   "id": "343bbd4c-ac13-4e66-8982-e5505196e100",
   "metadata": {},
   "outputs": [],
   "source": [
    "URBAG_map.head()"
   ]
  },
  {
   "cell_type": "code",
   "execution_count": null,
   "id": "b950d373-31d1-4e10-8195-cb30cc0a2435",
   "metadata": {},
   "outputs": [],
   "source": [
    "URBAG_map.info()"
   ]
  },
  {
   "cell_type": "code",
   "execution_count": null,
   "id": "af760dfc-eb40-4645-9f7a-1f5e1a13a6e6",
   "metadata": {},
   "outputs": [],
   "source": [
    "URBAG_map.describe()"
   ]
  },
  {
   "cell_type": "code",
   "execution_count": null,
   "id": "26d3d31a-d899-4a34-9f3b-9dd3a4487218",
   "metadata": {},
   "outputs": [],
   "source": [
    "#This cell determines the categories in the map\n",
    "map = URBAG_map.keys().to_frame()\n",
    "map"
   ]
  },
  {
   "cell_type": "code",
   "execution_count": null,
   "id": "473ece74-f2ad-4c7d-9a12-e43d009a1c6d",
   "metadata": {},
   "outputs": [],
   "source": [
    "#This cell determines the filename and path to save the categories of the map\n",
    "filename = \"labels_S4.xlsx\"\n",
    "directory = \"output/\"\n",
    "file_path = f\"{directory}{filename}\""
   ]
  },
  {
   "cell_type": "code",
   "execution_count": null,
   "id": "0c498a57-22af-4f47-8a5d-2d3c9ece8899",
   "metadata": {},
   "outputs": [],
   "source": [
    "map.to_excel(file_path)"
   ]
  },
  {
   "cell_type": "code",
   "execution_count": null,
   "id": "cc8a751b-56ab-4e67-b6de-5da236881753",
   "metadata": {},
   "outputs": [],
   "source": [
    "len_URBAG_map = len(URBAG_map['Voronoi_1'])\n",
    "print(f\"This is the amount of plots in the map: {len_URBAG_map}\")"
   ]
  },
  {
   "cell_type": "code",
   "execution_count": null,
   "id": "f180744c-8af7-47ef-a9b6-d93a02009003",
   "metadata": {},
   "outputs": [],
   "source": [
    "#How many crop categories\n",
    "len_URBAG_map_crops_cat = len(pd.unique(URBAG_map[\"Voronoi_1\"]))\n",
    "print(f\"This is the amount of crop categories in the map: {len_URBAG_map_crops_cat}\")"
   ]
  },
  {
   "cell_type": "markdown",
   "id": "57d3124c-f324-4852-beca-688d862424d9",
   "metadata": {},
   "source": [
    "Here we check that only plots in transformation or with fallow land do not get input of nutrients.\n",
    "The rest are assumed to have a requirement of nutrients."
   ]
  },
  {
   "cell_type": "code",
   "execution_count": null,
   "id": "7a0de885-dffc-4abb-8e80-4536415456e4",
   "metadata": {},
   "outputs": [],
   "source": [
    "#Check for no P fertilizer inputs\n",
    "pd.unique(URBAG_map.loc[URBAG_map[\"kgP2O5/ha\"]==0][\"Voronoi_1\"])"
   ]
  },
  {
   "cell_type": "code",
   "execution_count": null,
   "id": "d82862c0-037c-4f13-b30c-2a7fc94e243b",
   "metadata": {},
   "outputs": [],
   "source": [
    "#Check for no N inputs\n",
    "pd.unique(URBAG_map.loc[URBAG_map[\"kgN/ha\"]==0][\"Voronoi_1\"])"
   ]
  },
  {
   "cell_type": "code",
   "execution_count": null,
   "id": "efbc4ade-de4c-4c09-bf5b-b72ea6e25ec3",
   "metadata": {},
   "outputs": [],
   "source": [
    "#Check for no K inputs\n",
    "pd.unique(URBAG_map.loc[URBAG_map[\"kgK2O/ha\"]==0][\"Voronoi_1\"])"
   ]
  },
  {
   "cell_type": "code",
   "execution_count": null,
   "id": "db11a6e9-ca2a-4f7a-8507-350e22217e2e",
   "metadata": {},
   "outputs": [],
   "source": [
    "data_N = {'Voronoi': URBAG_map.loc[URBAG_map[\"kgN/ha\"]!=0][\"Voronoi_1\"], 'CNR_N': URBAG_map.loc[URBAG_map[\"kgN/ha\"]!=0][\"kgN/ha\"]}\n",
    "df_N = pd.DataFrame(data_N)"
   ]
  },
  {
   "cell_type": "code",
   "execution_count": null,
   "id": "75512300-3888-4144-984d-57f9bc83038f",
   "metadata": {},
   "outputs": [],
   "source": [
    "data_P = {'Voronoi': URBAG_map.loc[URBAG_map[\"kgP2O5/ha\"]!=0][\"Voronoi_1\"], 'CNR_P': URBAG_map.loc[URBAG_map[\"kgP2O5/ha\"]!=0][\"kgP2O5/ha\"]}\n",
    "df_P = pd.DataFrame(data_P)"
   ]
  },
  {
   "cell_type": "code",
   "execution_count": null,
   "id": "50d6ee70-80d0-4476-8f1c-dd498f1f4803",
   "metadata": {},
   "outputs": [],
   "source": [
    "data_K = {'Voronoi': URBAG_map.loc[URBAG_map[\"kgK2O/ha\"]!=0][\"Voronoi_1\"], 'CNR_K': URBAG_map.loc[URBAG_map[\"kgK2O/ha\"]!=0][\"kgK2O/ha\"]}\n",
    "df_K = pd.DataFrame(data_K)"
   ]
  },
  {
   "cell_type": "code",
   "execution_count": null,
   "id": "b972a6e8-1652-40cc-8b7b-213b8340f6be",
   "metadata": {},
   "outputs": [],
   "source": [
    "df_N.sort_values(by=\"Voronoi\")"
   ]
  },
  {
   "cell_type": "code",
   "execution_count": null,
   "id": "fc872dc8-8076-43a6-93df-204f91b4b70e",
   "metadata": {},
   "outputs": [],
   "source": [
    "df_P.sort_values(by=\"Voronoi\")"
   ]
  },
  {
   "cell_type": "code",
   "execution_count": null,
   "id": "35e063a2-7233-4ec3-aa15-c28874c14dae",
   "metadata": {},
   "outputs": [],
   "source": [
    "df_K.sort_values(by=\"Voronoi\")"
   ]
  },
  {
   "cell_type": "code",
   "execution_count": null,
   "id": "e1261ec1-a113-4273-8e3c-8503c7e2879e",
   "metadata": {},
   "outputs": [],
   "source": [
    "#crop nutrient content for N,P,K in URBAG map saved to output folder\n",
    "df_N.sort_values(by=\"Voronoi\").drop_duplicates('Voronoi', keep='first').to_excel(\"output/CNR_N_FromInputMap.xlsx\")"
   ]
  },
  {
   "cell_type": "code",
   "execution_count": null,
   "id": "e8695483-d653-4d3c-9f82-d4d24eb08099",
   "metadata": {},
   "outputs": [],
   "source": [
    "df_P.sort_values(by=\"Voronoi\").drop_duplicates('Voronoi', keep='first').to_excel(\"output/CNR_P_FromInputMap.xlsx\")"
   ]
  },
  {
   "cell_type": "code",
   "execution_count": null,
   "id": "26a07724-293a-47d2-935e-ac8b28dc0824",
   "metadata": {},
   "outputs": [],
   "source": [
    "df_K.sort_values(by=\"Voronoi\").drop_duplicates('Voronoi', keep='first').to_excel(\"output/CNR_K_FromInputMap.xlsx\")"
   ]
  },
  {
   "cell_type": "code",
   "execution_count": null,
   "id": "5dcf1f59-0be0-448e-9190-d0b4d86d8a31",
   "metadata": {},
   "outputs": [],
   "source": [
    "#checking min and max for different crop categories\n",
    "max(URBAG_map.loc[URBAG_map[\"Voronoi_1\"]==\"Fruiters no cítrics en regadiu\"][\"kgP2O5/ha\"])"
   ]
  },
  {
   "cell_type": "markdown",
   "id": "235608cd-6c6f-457d-a7dd-5574275942ca",
   "metadata": {
    "tags": []
   },
   "source": [
    "# Totals from map"
   ]
  },
  {
   "cell_type": "code",
   "execution_count": null,
   "id": "2deaa641-93d6-42f1-88b4-30a128a39a58",
   "metadata": {},
   "outputs": [],
   "source": [
    "#Total food production in the AMB 68716.3 tons/yr > S0\n",
    "#Total food production in the AMB 73673.54300666731 tons/yr > S4\n",
    "URBAG_map['Production'] = (URBAG_map['Area']*(1/10000)) * (URBAG_map['yield_kgHA']/1000)\n",
    "Total_food = np.sum(URBAG_map['Production'])\n",
    "Total_food"
   ]
  },
  {
   "cell_type": "code",
   "execution_count": null,
   "id": "2795276c-d47f-4a48-962b-6621f98e4b4a",
   "metadata": {},
   "outputs": [],
   "source": [
    "URBAG_map.keys()"
   ]
  },
  {
   "cell_type": "code",
   "execution_count": null,
   "id": "b3565073-9b97-4c0c-acb0-f41871276efe",
   "metadata": {},
   "outputs": [],
   "source": [
    "#Total area on ha (6984.425078) S4\n",
    "#Total area in HA (5587.4) S0\n",
    "#Total area in HA (5568.5343175) (NPK_27_06_22An - 3_02_23.xlsx)\n",
    "#Total area in HA (5568.5343175) (NPK_27_06_22An - 24_02_23.xlsx)\n",
    "#Total area in HA (5568.5343175) (NPK_27_06_22An_05_03_23.xlsx)\n",
    "#Total area in HA (5568.5343175) (S0_clean.xlsx)\n",
    "Total_area = np.sum(URBAG_map['Area'])*(1/10000)\n",
    "Total_area"
   ]
  },
  {
   "cell_type": "code",
   "execution_count": null,
   "id": "8f71bad8-267c-40b1-96be-6cb3a5326833",
   "metadata": {},
   "outputs": [],
   "source": [
    "#Total N input excluding N fixation 810.58229 tons N/yr\n",
    "#Total N input excluding N fixation 769.06544476727 tons N/yr (NPK_27_06_22An - 24_02_23.xlsx)\n",
    "#Total N input excluding N fixation 769.06544476727 tons N/yr (NPK_27_06_22An_05_03_23.xlsx)\n",
    "#Total N input excluding N fixation 769.06544476727 tons N/yr (.xlsx)\n",
    "#Total N input excluding N fixation 925.551945239332 tons N/yr (S4_NewVoronoi_0224.xlsx)\n",
    "URBAG_map['N_kgyr'] = URBAG_map['kgN/ha'] * URBAG_map['Area']*(1/10000)\n",
    "Total_N_require = np.sum(URBAG_map['N_kgyr'])/1000\n",
    "Total_N_require"
   ]
  },
  {
   "cell_type": "code",
   "execution_count": null,
   "id": "1fd1a722-daa2-430f-977a-2e51ad853695",
   "metadata": {},
   "outputs": [],
   "source": [
    "#Total P input including 305.88348 tons P2O5/yr \n",
    "#tons P2O5/yr 346.4701826638308 (NPK_27_06_22An - 24_02_23.xlsx)\n",
    "#tons P2O5/yr 232.1972074557924 (NPK_27_06_22An_05_03_23.xlsx)\n",
    "#Total P input including 133.48755 tons P/yr\n",
    "#tons P/yr 151.29702299730602 (NPK_27_06_22An - 24_02_23.xlsx)\n",
    "#tons P/yr 101.39616046104473 (NPK_27_06_22An_05_03_23.xlsx)\n",
    "#tons P/yr 101.39616046104473 (S0_NewVoronoi_0224.xlsx)\n",
    "#tons P/yr 116.34397127690181 (S4_NewVoronoi_0224.xlsx)\n",
    "URBAG_map['P2O5_kgyr'] = URBAG_map['kgP2O5/ha'] * URBAG_map['Area']*(1/10000)\n",
    "URBAG_map['P_kgyr'] = URBAG_map['P2O5_kgyr']/2.29\n",
    "Total_P2O5_require = np.sum(URBAG_map['P2O5_kgyr'])/1000\n",
    "Total_P_require = np.sum(URBAG_map['P_kgyr'])/1000\n",
    "Total_P_require"
   ]
  },
  {
   "cell_type": "code",
   "execution_count": null,
   "id": "55f7beec-4c59-4665-8ea5-5aa4e102e19e",
   "metadata": {},
   "outputs": [],
   "source": [
    "#Total K input 710.56676 tons K2O/yr\n",
    "#Total K input 586.500652283024 tons K/yr, 709.665789262459 tons K2O/yr (NPK_27_06_22An - 24_02_23.xlsx)\n",
    "#Total K input 586.221985694181 tons K/yr, 709.328602689959 tons K2O/yr (NPK_27_06_22An_05_03_23.xlsx)\n",
    "#Total K input 586.221985694181 tons K/yr, 709.328602689959 tons K2O/yr (S0_NewVoronoi_0224.xlsx)\n",
    "#Total K input 586.221985694181 tons K/yr, 894.641297301327 tons K2O/yr (S4_NewVoronoi_0224.xlsx)\n",
    "URBAG_map['K2O_kgyr'] = URBAG_map['kgK2O/ha'] * URBAG_map['Area']*(1/10000)\n",
    "URBAG_map['K_kgyr'] = URBAG_map['K2O_kgyr']/1.21\n",
    "Total_K2O_require = np.sum(URBAG_map['K2O_kgyr'])/1000\n",
    "Total_K_require = np.sum(URBAG_map['K_kgyr'])/1000\n",
    "Total_K2O_require"
   ]
  },
  {
   "cell_type": "code",
   "execution_count": null,
   "id": "56146f5d-fb07-4532-9e4f-96460ed80b70",
   "metadata": {},
   "outputs": [],
   "source": [
    "#kg N/ha average for the whole AMB\n",
    "N_HA_average_AMB = Total_N_require*1000/Total_area\n",
    "N_HA_average_AMB"
   ]
  },
  {
   "cell_type": "code",
   "execution_count": null,
   "id": "98ab0518-07ec-4bac-a1ee-febe5737d8c8",
   "metadata": {},
   "outputs": [],
   "source": [
    "#kg P/ha average for the whole AMB\n",
    "P_HA_average_AMB = Total_P_require*1000/Total_area\n",
    "P_HA_average_AMB"
   ]
  },
  {
   "cell_type": "code",
   "execution_count": null,
   "id": "564d6704-eb5e-4904-8c99-f588ff784d27",
   "metadata": {},
   "outputs": [],
   "source": [
    "#kg P/ha average for the whole AMB\n",
    "P2O5_HA_average_AMB = Total_P2O5_require*1000/Total_area\n",
    "P2O5_HA_average_AMB"
   ]
  },
  {
   "cell_type": "code",
   "execution_count": null,
   "id": "e19a8f22-0a3a-47d5-9fb6-f8fbd8e4fb09",
   "metadata": {},
   "outputs": [],
   "source": [
    "#kg K/ha average for the whole AMB\n",
    "K_HA_average_AMB = Total_K_require*1000/Total_area\n",
    "K_HA_average_AMB"
   ]
  },
  {
   "cell_type": "code",
   "execution_count": null,
   "id": "efed87fa-cfaf-4177-a9da-39912a1cc825",
   "metadata": {},
   "outputs": [],
   "source": [
    "#kg K/ha average for the whole AMB\n",
    "K2O_HA_average_AMB = Total_K2O_require*1000/Total_area\n",
    "K2O_HA_average_AMB"
   ]
  },
  {
   "cell_type": "code",
   "execution_count": null,
   "id": "079e294a-8ac3-4b1a-9ac5-6dd818775e67",
   "metadata": {},
   "outputs": [],
   "source": [
    "my_array = np.array([[Total_food,\n",
    "                     Total_area,\n",
    "                     Total_N_require,\n",
    "                     Total_P_require,\n",
    "                     Total_P2O5_require,\n",
    "                     Total_K_require,\n",
    "                     Total_K2O_require,\n",
    "                     N_HA_average_AMB,\n",
    "                     P_HA_average_AMB,\n",
    "                     P2O5_HA_average_AMB,\n",
    "                     K_HA_average_AMB,\n",
    "                     K2O_HA_average_AMB]])"
   ]
  },
  {
   "cell_type": "code",
   "execution_count": null,
   "id": "62138e9a-e0f9-4a3b-a579-5cb8229219ad",
   "metadata": {},
   "outputs": [],
   "source": [
    "Totals_Map = pd.DataFrame(my_array, columns = ['Food_tonsYR',\n",
    "                                               'Area_HA',\n",
    "                                               'Nitrogen_NtonsYR',\n",
    "                                               'Phosphorus_PtonsYR',\n",
    "                                               'Phosphorus_P2O5tonsYR',\n",
    "                                               'Potassium_KtonsYR',\n",
    "                                               'Potassium_K2OtonsYR',\n",
    "                                               'Nitrogen_NkgHA',\n",
    "                                               'Phosphorus_PkgHA',\n",
    "                                               'Phosphorus_P2O5_kgHA',\n",
    "                                               'Potassium_KkgHA',\n",
    "                                               'Potassium_K2OkgHA'])"
   ]
  },
  {
   "cell_type": "code",
   "execution_count": null,
   "id": "57d78ca7-7d37-42e5-8aea-7ceb8bc4a0fd",
   "metadata": {},
   "outputs": [],
   "source": [
    "Totals_AMB = Totals_Map.T\n",
    "Totals_AMB"
   ]
  },
  {
   "cell_type": "code",
   "execution_count": null,
   "id": "f0392a11-3949-4d22-aa09-dbf786749efe",
   "metadata": {},
   "outputs": [],
   "source": [
    "Total_food_2 = np.sum(URBAG_map['Production'])\n",
    "Total_food_2"
   ]
  },
  {
   "cell_type": "code",
   "execution_count": null,
   "id": "1b3a64d9-9919-47e7-bef4-1779ce6e896b",
   "metadata": {},
   "outputs": [],
   "source": [
    "Total_N_require_2 = np.sum(URBAG_map['N_T'])\n",
    "Total_N_require_2"
   ]
  },
  {
   "cell_type": "code",
   "execution_count": null,
   "id": "78a58f23-139a-43d0-801d-20a2a4080c0d",
   "metadata": {},
   "outputs": [],
   "source": [
    "Total_P_require_2 = np.sum(URBAG_map['P_T'])\n",
    "Total_P_require_2"
   ]
  },
  {
   "cell_type": "code",
   "execution_count": null,
   "id": "b7797e45-e023-4986-8c2f-807da107658f",
   "metadata": {},
   "outputs": [],
   "source": [
    "Total_K_require_2 = np.sum(URBAG_map['K_T'])\n",
    "Total_K_require_2"
   ]
  },
  {
   "cell_type": "markdown",
   "id": "ffdbf7b4-6ed8-4f33-9a67-492144bee2e8",
   "metadata": {},
   "source": [
    "Here we check that the totals found with the sum of total nutrient requirement in the map is the same as we find here:"
   ]
  },
  {
   "cell_type": "code",
   "execution_count": null,
   "id": "8fd771f6-650b-45fd-8cd1-d0f85a8c3ec9",
   "metadata": {},
   "outputs": [],
   "source": [
    "Total_food_2 == Total_food"
   ]
  },
  {
   "cell_type": "code",
   "execution_count": null,
   "id": "1d3639e5-068a-473e-9622-719835576a21",
   "metadata": {},
   "outputs": [],
   "source": [
    "Total_N_require_2 == Total_N_require"
   ]
  },
  {
   "cell_type": "code",
   "execution_count": null,
   "id": "75f35b40-5356-47b9-8006-269eb930c47b",
   "metadata": {},
   "outputs": [],
   "source": [
    "Total_N_require_2-Total_N_require"
   ]
  },
  {
   "cell_type": "code",
   "execution_count": null,
   "id": "1d9ea110-ba22-4049-ae6c-7d4124d87b3f",
   "metadata": {},
   "outputs": [],
   "source": [
    "Total_P_require_2 == Total_P2O5_require"
   ]
  },
  {
   "cell_type": "code",
   "execution_count": null,
   "id": "4c5dc71d-9a5d-418c-85e8-c12871b57202",
   "metadata": {},
   "outputs": [],
   "source": [
    "Total_P_require_2-Total_P2O5_require"
   ]
  },
  {
   "cell_type": "code",
   "execution_count": null,
   "id": "942adabe-8cb7-4b04-b05c-98afcf7f3d12",
   "metadata": {},
   "outputs": [],
   "source": [
    "Total_K_require_2 == Total_K2O_require"
   ]
  },
  {
   "cell_type": "code",
   "execution_count": null,
   "id": "2b172830-510d-4c67-add1-2111fce4e55b",
   "metadata": {},
   "outputs": [],
   "source": [
    "Total_K_require_2-Total_K2O_require"
   ]
  },
  {
   "cell_type": "markdown",
   "id": "213ba6c1-05db-4f35-81ea-a05905ede92a",
   "metadata": {},
   "source": [
    "## Saving outputs"
   ]
  },
  {
   "cell_type": "code",
   "execution_count": null,
   "id": "1c5dba91-7e41-4539-a22d-a4b0ec93954a",
   "metadata": {},
   "outputs": [],
   "source": [
    "#Variables for next notebook\n",
    "%store Totals_AMB\n",
    "%store Total_N_require\n",
    "%store Total_P2O5_require\n",
    "%store Total_K2O_require"
   ]
  },
  {
   "cell_type": "code",
   "execution_count": null,
   "id": "d977ab86-4463-46a3-8810-0020cc8e1427",
   "metadata": {},
   "outputs": [],
   "source": [
    "#Total for AMB from maps without modifications\n",
    "Totals_AMB.to_excel(\"output/\" + scen + \"/totals_FromInputMap.xlsx\")"
   ]
  },
  {
   "cell_type": "code",
   "execution_count": null,
   "id": "4c09b865-4314-47f0-825b-242261c12ee3",
   "metadata": {},
   "outputs": [],
   "source": []
  },
  {
   "cell_type": "code",
   "execution_count": null,
   "id": "81072656-b7e4-4bb0-b287-0142e5edf755",
   "metadata": {},
   "outputs": [],
   "source": []
  }
 ],
 "metadata": {
  "kernelspec": {
   "display_name": "Python 3 (ipykernel)",
   "language": "python",
   "name": "python3"
  },
  "language_info": {
   "codemirror_mode": {
    "name": "ipython",
    "version": 3
   },
   "file_extension": ".py",
   "mimetype": "text/x-python",
   "name": "python",
   "nbconvert_exporter": "python",
   "pygments_lexer": "ipython3",
   "version": "3.11.8"
  }
 },
 "nbformat": 4,
 "nbformat_minor": 5
}
