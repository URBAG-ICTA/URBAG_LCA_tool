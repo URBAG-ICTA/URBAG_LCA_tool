{
 "cells": [
  {
   "cell_type": "markdown",
   "id": "ceffec27-e06f-46db-aac9-9960967a84f6",
   "metadata": {},
   "source": [
    "# Vizualization of balanced inputs for all scenarios"
   ]
  },
  {
   "cell_type": "markdown",
   "id": "ad768dc0-3463-4760-b211-727094752197",
   "metadata": {},
   "source": [
    "This notebook picks up the results from the balances inputs and plots each nutrient in one plot."
   ]
  },
  {
   "cell_type": "code",
   "execution_count": null,
   "id": "67d991b2-01a9-4ac9-9535-978c5a694728",
   "metadata": {},
   "outputs": [],
   "source": [
    "import pandas as pd\n",
    "import numpy as np\n",
    "import matplotlib.pyplot as plt\n",
    "import seaborn as sns"
   ]
  },
  {
   "cell_type": "code",
   "execution_count": null,
   "id": "88095e66-3c5c-494d-b774-3188096e7785",
   "metadata": {},
   "outputs": [],
   "source": [
    "N_balance_S0_compost = pd.read_csv(\"output/S0_compost/balances/Nitrogen_Balance_new.csv\")\n",
    "N_balance_S0_MinFert = pd.read_csv(\"output/S0_MinFert/balances/Nitrogen_Balance_new.csv\")\n",
    "N_balance_S0_struvite_P = pd.read_csv(\"output/S0_struvite_P/balances/Nitrogen_Balance_new.csv\")\n",
    "N_balance_S0_Ammon_salts = pd.read_csv(\"output/S0_Ammon_salts/balances/Nitrogen_Balance_new.csv\")"
   ]
  },
  {
   "cell_type": "code",
   "execution_count": null,
   "id": "a7b4cffd-5d90-4b97-90b3-bc6361e0fb49",
   "metadata": {},
   "outputs": [],
   "source": [
    "P_balance_S0_compost = pd.read_csv(\"output/S0_compost/balances/Phosphorus_Balance_new.csv\")\n",
    "P_balance_S0_MinFert = pd.read_csv(\"output/S0_MinFert/balances/Phosphorus_Balance_new.csv\")\n",
    "P_balance_S0_struvite_P = pd.read_csv(\"output/S0_struvite_P/balances/Phosphorus_Balance_new.csv\")\n",
    "P_balance_S0_Ammon_salts = pd.read_csv(\"output/S0_Ammon_salts/balances/Phosphorus_Balance_new.csv\")"
   ]
  },
  {
   "cell_type": "code",
   "execution_count": null,
   "id": "05e373b1-8d2c-4833-9b77-6086a6b50821",
   "metadata": {},
   "outputs": [],
   "source": [
    "K_balance_S0_compost = pd.read_csv(\"output/S0_compost/balances/Potassium_Balance_new.csv\")\n",
    "K_balance_S0_MinFert = pd.read_csv(\"output/S0_MinFert/balances/Potassium_Balance_new.csv\")\n",
    "K_balance_S0_struvite_P = pd.read_csv(\"output/S0_struvite_P/balances/Potassium_Balance_new.csv\")\n",
    "K_balance_S0_Ammon_salts = pd.read_csv(\"output/S0_Ammon_salts/balances/Potassium_Balance_new.csv\")"
   ]
  },
  {
   "cell_type": "code",
   "execution_count": null,
   "id": "fc6ab7bd-56c0-4b0c-8a3d-713525a1d9e1",
   "metadata": {},
   "outputs": [],
   "source": [
    "N_balance_S0_compost[\"Scenario\"]    = \"compost\"\n",
    "N_balance_S0_MinFert[\"Scenario\"]    = \"MinFert\"\n",
    "N_balance_S0_struvite_P[\"Scenario\"] = \"struvite_P\"\n",
    "N_balance_S0_Ammon_salts[\"Scenario\"] = \"Ammon_salts\"\n",
    "P_balance_S0_compost[\"Scenario\"]    = \"compost\"\n",
    "P_balance_S0_MinFert[\"Scenario\"]    = \"MinFert\"\n",
    "P_balance_S0_struvite_P[\"Scenario\"] = \"struvite_P\"\n",
    "P_balance_S0_Ammon_salts[\"Scenario\"] = \"Ammon_salts\"\n",
    "K_balance_S0_compost[\"Scenario\"]    = \"compost\"\n",
    "K_balance_S0_MinFert[\"Scenario\"]    = \"MinFert\"\n",
    "K_balance_S0_struvite_P[\"Scenario\"] = \"struvite_P\"\n",
    "K_balance_S0_Ammon_salts[\"Scenario\"] = \"Ammon_salts\""
   ]
  },
  {
   "cell_type": "code",
   "execution_count": null,
   "id": "1ced9759-fc5a-4768-8b28-a6473df585c5",
   "metadata": {},
   "outputs": [],
   "source": [
    "N_pdList = [N_balance_S0_compost, N_balance_S0_MinFert, N_balance_S0_struvite_P,N_balance_S0_Ammon_salts]  # List of your dataframes\n",
    "N_balance_all_scenarios = pd.concat(N_pdList)"
   ]
  },
  {
   "cell_type": "code",
   "execution_count": null,
   "id": "822ed16b-a571-4a20-aa16-dae4730fcfb1",
   "metadata": {},
   "outputs": [],
   "source": [
    "P_pdList = [P_balance_S0_compost, P_balance_S0_MinFert, P_balance_S0_struvite_P,P_balance_S0_Ammon_salts]  # List of your dataframes\n",
    "P_balance_all_scenarios = pd.concat(P_pdList)"
   ]
  },
  {
   "cell_type": "code",
   "execution_count": null,
   "id": "dcfe678d-7f64-4267-b92d-d0a929a3c2ce",
   "metadata": {},
   "outputs": [],
   "source": [
    "K_pdList = [K_balance_S0_compost, K_balance_S0_MinFert, K_balance_S0_struvite_P,K_balance_S0_Ammon_salts]  # List of your dataframes\n",
    "K_balance_all_scenarios = pd.concat(K_pdList)"
   ]
  },
  {
   "cell_type": "code",
   "execution_count": null,
   "id": "0e46738d-ca98-4f95-bcdc-74c5f64c67de",
   "metadata": {},
   "outputs": [],
   "source": [
    "fig, axs = plt.subplots(4, 4, figsize=(17,12))\n",
    "N_balance_all_scenarios.boxplot(column=\"N_Manure\", by='Scenario', ax=axs[0,0], showmeans=True, grid=False, showfliers=False)\n",
    "axs[0, 0].set_title(\"Manure\")\n",
    "N_balance_all_scenarios.boxplot(column=\"N_Fertiliser\", by='Scenario', ax=axs[0,1], showmeans=True, grid=False, showfliers=False)\n",
    "axs[0, 1].set_title(\"Mineral Fertiliser\")\n",
    "N_balance_all_scenarios.boxplot(column=\"N_Ammonium_salts\", by='Scenario', ax=axs[0,2], showmeans=True, grid=False, showfliers=False)\n",
    "axs[0, 2].set_title(\"Recovered ammonium salts\")\n",
    "N_balance_all_scenarios.boxplot(column=\"N_Residues\", by='Scenario', ax=axs[0,3], showmeans=True, grid=False, showfliers=False)\n",
    "axs[0, 3].set_title(\"Agricultural Residues\")\n",
    "N_balance_all_scenarios.boxplot(column=\"N_Struvite\", by='Scenario', ax=axs[1,0], grid=False, showfliers=False)\n",
    "axs[1, 0].set_title(\"Struvite\")\n",
    "N_balance_all_scenarios.boxplot(column=\"N_Compost\", by='Scenario', ax=axs[1,1], grid=False, showfliers=False)\n",
    "axs[1, 1].set_title(\"Compost\")\n",
    "N_balance_all_scenarios.boxplot(column=\"N_Fixation\", by='Scenario', ax=axs[1,2], showmeans=True, grid=False, showfliers=False)\n",
    "axs[1, 2].set_title(\"N Fixation\")\n",
    "N_balance_all_scenarios.boxplot(column=\"N_in_incl_N_fix\", by='Scenario', ax=axs[1,3], showmeans=True, grid=False, showfliers=False)\n",
    "axs[1, 3].set_title(\"Total N inputs incl. fixation\")\n",
    "N_balance_all_scenarios.boxplot(column=\"N_NH3\", by='Scenario', ax=axs[2,0], showmeans=True, grid=False, showfliers=False)\n",
    "axs[2, 0].set_title(\"NH$_{3}$ emissions\")\n",
    "N_balance_all_scenarios.boxplot(column=\"N_NOx\", by='Scenario', ax=axs[2,1], showmeans=True, grid=False, showfliers=False)\n",
    "axs[2, 1].set_title(\"NO$_{x}$ emissions\")\n",
    "N_balance_all_scenarios.boxplot(column=\"N_N2O\", by='Scenario', ax=axs[2,2], showmeans=True, grid=False, showfliers=False)\n",
    "axs[2, 2].set_title(\"N$_{2}$O emissions\")\n",
    "N_balance_all_scenarios.boxplot(column=\"N_NO3\", by='Scenario', ax=axs[2,3], showmeans=True, grid=False, showfliers=False)\n",
    "axs[2, 3].set_title(\"NO$_{3}^-$ emissions\")\n",
    "N_balance_all_scenarios.boxplot(column=\"N_Harvest\", by='Scenario', ax=axs[3,0], showmeans=True, grid=False, showfliers=False)\n",
    "axs[3, 0].set_title(\"N removed with Harvest\")\n",
    "N_balance_all_scenarios.boxplot(column=\"N_Out\", by='Scenario', ax=axs[3,1], showmeans=True, grid=False, showfliers=False)\n",
    "axs[3, 1].set_title(\"Total N output\")\n",
    "fig.delaxes(axs[3,2])\n",
    "fig.delaxes(axs[3,3])\n",
    "plt.tight_layout()\n",
    "fig.suptitle(\"N inputs and outputs - kg N/ha yr\")\n",
    "fig.savefig( 'output/N_balance_all_scenarios' + '.png')"
   ]
  },
  {
   "cell_type": "code",
   "execution_count": null,
   "id": "d55c6c79-088f-43c9-a754-cda939ccbee5",
   "metadata": {},
   "outputs": [],
   "source": [
    "fig, axs = plt.subplots(2, 4, figsize=(15,6))\n",
    "P_balance_all_scenarios.boxplot(column=\"P_Manure\", by='Scenario', ax=axs[0,0], showmeans=True, grid=False, showfliers=False)\n",
    "axs[0, 0].set_title(\"Manure\")\n",
    "P_balance_all_scenarios.boxplot(column=\"P_Fertiliser\", by='Scenario', ax=axs[0,1], showmeans=True, grid=False, showfliers=False)\n",
    "axs[0, 1].set_title(\"Mineral Fertiliser\")\n",
    "P_balance_all_scenarios.boxplot(column=\"P_Struvite\", by='Scenario', ax=axs[0,2], showmeans=True, grid=False, showfliers=False)\n",
    "axs[0, 2].set_title(\"Struvite\")\n",
    "P_balance_all_scenarios.boxplot(column=\"P_Compost\", by='Scenario', ax=axs[0,3], showmeans=True, grid=False, showfliers=False)\n",
    "axs[0, 3].set_title(\"Compost\")\n",
    "\n",
    "P_balance_all_scenarios.boxplot(column=\"P_In\", by='Scenario', ax=axs[1,0], showmeans=True, grid=False, showfliers=False)\n",
    "axs[1, 0].set_title(\"Total P inputs\")\n",
    "P_balance_all_scenarios.boxplot(column=\"P_PO43-\", by='Scenario', ax=axs[1,1], showmeans=True, grid=False, showfliers=False)\n",
    "axs[1, 1].set_title(\"PO$_{4}^3-$ runoff\")\n",
    "P_balance_all_scenarios.boxplot(column=\"P_Harvest\", by='Scenario', ax=axs[1,2], showmeans=True, grid=False, showfliers=False)\n",
    "axs[1, 2].set_title(\"P removed \\n with harvest\")\n",
    "P_balance_all_scenarios.boxplot(column=\"P_Out\", by='Scenario', ax=axs[1,3], showmeans=True, grid=False, showfliers=False)\n",
    "axs[1, 3].set_title(\"Total P output\")\n",
    "plt.tight_layout()\n",
    "fig.suptitle(\"P inputs and outputs - kg P2O5/ha yr\")\n",
    "fig.savefig( 'output/P_balance_all_scenarios' + '.png')"
   ]
  },
  {
   "cell_type": "code",
   "execution_count": null,
   "id": "bf7d72d6-84fd-427a-a324-09fab7b27fe5",
   "metadata": {},
   "outputs": [],
   "source": [
    "fig, axs = plt.subplots(1, 4, figsize=(15,4))\n",
    "K_balance_all_scenarios.boxplot(column=\"K_Fertiliser\", by='Scenario', ax=axs[0], showmeans=True, grid=False, showfliers=False)\n",
    "axs[0].set_title(\"Mineral Fertilizer\")\n",
    "K_balance_all_scenarios.boxplot(column=\"K_Compost\", by='Scenario', ax=axs[1], showmeans=True, grid=False, showfliers=False)\n",
    "axs[1].set_title(\"Compost\")\n",
    "K_balance_all_scenarios.boxplot(column=\"K_In\", by='Scenario', ax=axs[2], showmeans=True, grid=False, showfliers=False)\n",
    "axs[2].set_title(\"Total inputs\")\n",
    "K_balance_all_scenarios.boxplot(column=\"K_Harv\", by='Scenario', ax=axs[3], showmeans=True, grid=False, showfliers=False)\n",
    "axs[3].set_title(\"K removed with harvest\")\n",
    "plt.tight_layout()\n",
    "fig.suptitle(\"K inputs and outputs - kg K2O/ha yr\")\n",
    "fig.savefig( 'output/K_balance_all_scenarios' + '.png')"
   ]
  },
  {
   "cell_type": "code",
   "execution_count": null,
   "id": "10110d70-e02a-4686-929c-3f9669e2369f",
   "metadata": {},
   "outputs": [],
   "source": []
  },
  {
   "cell_type": "code",
   "execution_count": null,
   "id": "ebb42741-6a30-43b8-b40d-8d1ef3181548",
   "metadata": {},
   "outputs": [],
   "source": []
  }
 ],
 "metadata": {
  "kernelspec": {
   "display_name": "Python 3 (ipykernel)",
   "language": "python",
   "name": "python3"
  },
  "language_info": {
   "codemirror_mode": {
    "name": "ipython",
    "version": 3
   },
   "file_extension": ".py",
   "mimetype": "text/x-python",
   "name": "python",
   "nbconvert_exporter": "python",
   "pygments_lexer": "ipython3",
   "version": "3.11.8"
  }
 },
 "nbformat": 4,
 "nbformat_minor": 5
}
