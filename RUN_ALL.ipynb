{
 "cells": [
  {
   "cell_type": "markdown",
   "id": "d6f2d993-0761-415c-ae18-e4b1f621ccb2",
   "metadata": {},
   "source": [
    "# Runing all notebooks in one go"
   ]
  },
  {
   "cell_type": "markdown",
   "id": "acf19128-e38a-4f2c-aae6-8dd6a7b2a530",
   "metadata": {},
   "source": [
    "This notebook calls all other notebooks for selected scenarios"
   ]
  },
  {
   "cell_type": "code",
   "execution_count": null,
   "id": "27e3f22a-ecdd-4155-a0ce-9bd8ab834fab",
   "metadata": {},
   "outputs": [],
   "source": [
    "scenarios = [\n",
    "        #\"S0_MinFert\"\n",
    "        #\"S0_struvite_P\"\n",
    "        #\"S0_compost\"\n",
    "        \"S0_Ammon_salts\"\n",
    "       ]"
   ]
  },
  {
   "cell_type": "code",
   "execution_count": null,
   "id": "f228d7f2-280d-468a-8306-bf678e33d0fa",
   "metadata": {},
   "outputs": [],
   "source": [
    "for i in scenarios:\n",
    "    scen = i\n",
    "    print(scen)\n",
    "    %store scen\n",
    "    %run ./0_MapTotals.ipynb\n",
    "    %run ./1_Water_Inputs.ipynb\n",
    "    %run ./2_NPK_Inputs.ipynb\n",
    "    %run ./3_Emissions.ipynb\n",
    "    %run ./4_N_P_Balances.ipynb\n",
    "    %run ./5_Foreground_LCIA.ipynb\n",
    "    %run ./6_Background_LCIA.ipynb\n",
    "    %run ./7_Total_LCIA.ipynb"
   ]
  },
  {
   "cell_type": "code",
   "execution_count": null,
   "id": "bac9af62-4428-4c38-81a9-060baaa952c7",
   "metadata": {},
   "outputs": [],
   "source": []
  }
 ],
 "metadata": {
  "kernelspec": {
   "display_name": "Python 3 (ipykernel)",
   "language": "python",
   "name": "python3"
  },
  "language_info": {
   "codemirror_mode": {
    "name": "ipython",
    "version": 3
   },
   "file_extension": ".py",
   "mimetype": "text/x-python",
   "name": "python",
   "nbconvert_exporter": "python",
   "pygments_lexer": "ipython3",
   "version": "3.11.8"
  }
 },
 "nbformat": 4,
 "nbformat_minor": 5
}
