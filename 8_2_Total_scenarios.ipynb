{
 "cells": [
  {
   "cell_type": "markdown",
   "metadata": {},
   "source": [
    "# Figures Multiple Scenarios"
   ]
  },
  {
   "cell_type": "code",
   "execution_count": null,
   "metadata": {},
   "outputs": [],
   "source": [
    "import pandas as pd\n",
    "import numpy as np\n",
    "import matplotlib.pyplot as plt\n",
    "import seaborn as sns\n",
    "import plotnine as p9"
   ]
  },
  {
   "cell_type": "code",
   "execution_count": null,
   "metadata": {},
   "outputs": [],
   "source": [
    "%store -r Totals_AMB"
   ]
  },
  {
   "cell_type": "code",
   "execution_count": null,
   "metadata": {},
   "outputs": [],
   "source": [
    "LCIA_S0_MinFert = pd.read_csv(\"output/S0_MinFert/LCIA/Total_LCIA.csv\")\n",
    "LCIA_S0_MinFert = LCIA_S0_MinFert.drop(\"Unnamed: 0\", axis=1)"
   ]
  },
  {
   "cell_type": "code",
   "execution_count": null,
   "metadata": {},
   "outputs": [],
   "source": [
    "LCIA_S0_struvite_P = pd.read_csv(\"output/S0_struvite_P/LCIA/Total_LCIA.csv\")\n",
    "LCIA_S0_struvite_P = LCIA_S0_struvite_P.drop(\"Unnamed: 0\", axis=1)"
   ]
  },
  {
   "cell_type": "code",
   "execution_count": null,
   "metadata": {},
   "outputs": [],
   "source": [
    "LCIA_S0_Compost = pd.read_csv(\"output/S0_compost/LCIA/Total_LCIA.csv\")\n",
    "LCIA_S0_Compost = LCIA_S0_Compost.drop('Unnamed: 0', axis=1)"
   ]
  },
  {
   "cell_type": "code",
   "execution_count": null,
   "metadata": {},
   "outputs": [],
   "source": [
    "LCIA_S0_Ammon_salts = pd.read_csv(\"output/S0_Ammon_salts/LCIA/Total_LCIA.csv\")\n",
    "LCIA_S0_Ammon_salts = LCIA_S0_Ammon_salts.drop('Unnamed: 0', axis=1)"
   ]
  },
  {
   "cell_type": "code",
   "execution_count": null,
   "metadata": {},
   "outputs": [],
   "source": [
    "All_scenarios_LCIA = pd.concat([LCIA_S0_MinFert,LCIA_S0_struvite_P, LCIA_S0_Compost, LCIA_S0_Ammon_salts],ignore_index=True)\n",
    "All_scenarios_LCIA"
   ]
  },
  {
   "cell_type": "code",
   "execution_count": null,
   "metadata": {},
   "outputs": [],
   "source": [
    "All_scenarios_LCIA.keys()"
   ]
  },
  {
   "cell_type": "code",
   "execution_count": null,
   "metadata": {},
   "outputs": [],
   "source": [
    "pd.unique(All_scenarios_LCIA['database'])"
   ]
  },
  {
   "cell_type": "code",
   "execution_count": null,
   "metadata": {},
   "outputs": [],
   "source": [
    "test = All_scenarios_LCIA[All_scenarios_LCIA[\"imp_cat\"]==\"GWP100\"]"
   ]
  },
  {
   "cell_type": "code",
   "execution_count": null,
   "metadata": {},
   "outputs": [],
   "source": [
    "test2= test[test[\"database\"]==\"ei391\" ]"
   ]
  },
  {
   "cell_type": "code",
   "execution_count": null,
   "metadata": {},
   "outputs": [],
   "source": [
    "test2[test2[\"Scenario\"]==\"S0_MinFert\"]"
   ]
  },
  {
   "cell_type": "code",
   "execution_count": null,
   "metadata": {},
   "outputs": [],
   "source": [
    "GW_LCIA = All_scenarios_LCIA[(All_scenarios_LCIA['imp_cat']=='GWP100')]\n",
    "ME_LCIA = All_scenarios_LCIA[(All_scenarios_LCIA['imp_cat']=='ME')]\n",
    "ME_Reg_LCIA = All_scenarios_LCIA[(All_scenarios_LCIA['imp_cat']=='ME_Reg')]\n",
    "FE_LCIA = All_scenarios_LCIA[(All_scenarios_LCIA['imp_cat']=='FE')]\n",
    "FE_Reg_LCIA = All_scenarios_LCIA[(All_scenarios_LCIA['imp_cat']=='FE_Reg')]\n",
    "WC_LCIA = All_scenarios_LCIA[(All_scenarios_LCIA['imp_cat']=='WC')]\n",
    "ADP_LCIA = All_scenarios_LCIA[(All_scenarios_LCIA['imp_cat']=='ADP')]"
   ]
  },
  {
   "cell_type": "code",
   "execution_count": null,
   "metadata": {},
   "outputs": [],
   "source": [
    "GW_LCIA.keys()"
   ]
  },
  {
   "cell_type": "code",
   "execution_count": null,
   "metadata": {},
   "outputs": [],
   "source": [
    "All_scenarios_LCIA.keys()"
   ]
  },
  {
   "cell_type": "code",
   "execution_count": null,
   "metadata": {},
   "outputs": [],
   "source": [
    "Totals_contribution = All_scenarios_LCIA.groupby([\"imp_cat\",'Scenario','database',\"product\"]).sum(\"imp_yr\").reset_index()\n",
    "Totals_contribution"
   ]
  },
  {
   "cell_type": "code",
   "execution_count": null,
   "metadata": {},
   "outputs": [],
   "source": [
    "Totals = All_scenarios_LCIA.groupby([\"imp_cat\",'Scenario','database']).sum(\"imp_yr\").reset_index()\n",
    "Totals[\"Area_HA\"] = Totals_AMB[0][\"Area_HA\"]\n",
    "Totals[\"FoodProd_tonsYR\"] = Totals_AMB[0][\"Food_tonsYR\"]"
   ]
  },
  {
   "cell_type": "code",
   "execution_count": null,
   "metadata": {},
   "outputs": [],
   "source": [
    "Totals_contribution.to_csv(\"output/Totals_contribution.csv\")"
   ]
  },
  {
   "cell_type": "code",
   "execution_count": null,
   "metadata": {},
   "outputs": [],
   "source": [
    "Totals.to_csv(\"output/Totals.csv\")"
   ]
  },
  {
   "cell_type": "code",
   "execution_count": null,
   "metadata": {},
   "outputs": [],
   "source": [
    "Totals.loc[(Totals[\"imp_cat\"]==\"GWP100\") & (Totals[\"database\"]==\"ei391\")]"
   ]
  },
  {
   "cell_type": "markdown",
   "metadata": {},
   "source": [
    "# Visualizations"
   ]
  },
  {
   "cell_type": "code",
   "execution_count": null,
   "metadata": {
    "tags": []
   },
   "outputs": [],
   "source": [
    "#Climate change\n",
    "fig = plt.figure()\n",
    "plot = (p9.ggplot(GW_LCIA, p9.aes('database','imp_yr', fill='product')) +\\\n",
    "            p9.geom_col() +\\\n",
    "            #p9.scale_x_discrete(limits=total_impacts_GW['database'].tolist()) +\\\n",
    "            #p9.facet_grid('LCIA ~ Scenario') +\\\n",
    "            p9.scale_fill_manual(values={'CH4':\"#f2d8dd\",\n",
    "                                        #'CO':\"#FF9999\",\n",
    "                                        'CO2':\"#f5a9b8\",\n",
    "                                        'N2O':\"#FF0033\",\n",
    "                                        #'NOx':\"#FF0000\",\n",
    "                                        'Irrigation':\"#b3495e\",\n",
    "                                        'Nitrate':\"#7a1c2f\",\n",
    "                                        'Phosphate':\"#590919\",\n",
    "                                        'inorganic nitrogen fertiliser, as N':\"#6666FF\",\n",
    "                                        'inorganic phosphorus fertiliser, as P2O5':\"#0000FF\",\n",
    "                                        'inorganic potassium fertiliser, as K2O':\"#000099\",\n",
    "                                        'Struvite at WWTP':\"#CCCCFF\",\n",
    "                                        'Ammonium sulphate at WWTP':\"#f0f0fc\",\n",
    "                                        'compost, market for compost Metropolitan Area of Barcelona':\"#5ec7fa\"}, name=' ') +\\\n",
    "            p9.facet_wrap(\"Scenario\") +\\\n",
    "            p9.labels.ylab('Climate Change (Tons CO$_{2eq}$ yr$^{-1}$)') +\\\n",
    "            p9.labels.xlab('') +\\\n",
    "            p9.theme(figure_size=(8, 6), axis_text_x=p9.element_text(rotation=90, hjust = 1))).draw(show=True)\n",
    "fig.savefig('output/GW_LCIA_yr_allscenarios.png', bbox_inches='tight')"
   ]
  },
  {
   "cell_type": "code",
   "execution_count": null,
   "metadata": {},
   "outputs": [],
   "source": [
    "#Marine Eutrophication\n",
    "fig = plt.figure()\n",
    "plot = (p9.ggplot(ME_LCIA, p9.aes('database','imp_yr', fill='product')) +\\\n",
    "            p9.geom_col() +\\\n",
    "            #p9.scale_x_discrete(limits=total_impacts_GW['database'].tolist()) +\\\n",
    "            p9.scale_fill_manual(values={'CH4':\"#f2d8dd\",\n",
    "                                        #'CO':\"#FF9999\",\n",
    "                                        'CO2':\"#f5a9b8\",\n",
    "                                        'N2O':\"#FF0033\",\n",
    "                                        #'NOx':\"#FF0000\",\n",
    "                                        'Irrigation':\"#b3495e\",\n",
    "                                        'Nitrate':\"#7a1c2f\",\n",
    "                                        'Phosphate':\"#590919\",\n",
    "                                        'inorganic nitrogen fertiliser, as N':\"#6666FF\",\n",
    "                                        'inorganic phosphorus fertiliser, as P2O5':\"#0000FF\",\n",
    "                                        'inorganic potassium fertiliser, as K2O':\"#000099\",\n",
    "                                        'Struvite at WWTP':\"#CCCCFF\",\n",
    "                                        'Ammonium sulphate at WWTP':\"#f0f0fc\",\n",
    "                                        'compost, market for compost Metropolitan Area of Barcelona':\"#5ec7fa\"}, name=' ') +\\\n",
    "           #p9.facet_grid('Scenario ~ LCIA') +\\\n",
    "            p9.facet_wrap([\"Scenario\"]) +\\\n",
    "            p9.labels.ylab('Marine Eutrophication (Tons N$_{eq}$ yr$^{-1}$)') +\\\n",
    "            p9.labels.xlab('') +\\\n",
    "            p9.theme(figure_size=(8, 6),  axis_text_x=p9.element_text(rotation=90, hjust = 1))).draw(show=True)\n",
    "fig.savefig('output/ME_LCIA_yr_allscenarios.png', bbox_inches='tight')"
   ]
  },
  {
   "cell_type": "code",
   "execution_count": null,
   "metadata": {},
   "outputs": [],
   "source": [
    "#Marine Eutrophication Regionalized \n",
    "fig = plt.figure()\n",
    "plot = (p9.ggplot(ME_Reg_LCIA, p9.aes('database','imp_yr', fill='product')) +\\\n",
    "            p9.geom_col() +\\\n",
    "            #p9.scale_x_discrete(limits=total_impacts_GW['database'].tolist()) +\\\n",
    "            p9.scale_fill_manual(values={'CH4':\"#f2d8dd\",\n",
    "                                        #'CO':\"#FF9999\",\n",
    "                                        'CO2':\"#f5a9b8\",\n",
    "                                        'N2O':\"#FF0033\",\n",
    "                                        #'NOx':\"#FF0000\",\n",
    "                                        'Irrigation':\"#b3495e\",\n",
    "                                        'Nitrate':\"#7a1c2f\",\n",
    "                                        'Phosphate':\"#590919\",\n",
    "                                        'inorganic nitrogen fertiliser, as N':\"#6666FF\",\n",
    "                                        'inorganic phosphorus fertiliser, as P2O5':\"#0000FF\",\n",
    "                                        'inorganic potassium fertiliser, as K2O':\"#000099\",\n",
    "                                        'Struvite at WWTP':\"#CCCCFF\",\n",
    "                                        'Ammonium sulphate at WWTP':\"#f0f0fc\",\n",
    "                                        'compost, market for compost Metropolitan Area of Barcelona':\"#5ec7fa\"}, name=' ') +\\\n",
    "            #p9.facet_grid('Scenario ~ LCIA') +\\\n",
    "            p9.facet_wrap([\"Scenario\"]) +\\\n",
    "            p9.labels.ylab('Regionalized Marine Eutrophication (Tons N$_{eq}$ yr$^{-1}$)') +\\\n",
    "            p9.labels.xlab('') +\\\n",
    "            p9.theme(figure_size=(8, 6), axis_text_x=p9.element_text(rotation=90, hjust = 1))).draw(show=True)\n",
    "fig.savefig('output/ME_Reg_LCIA_yr_allscenarios.png', bbox_inches='tight')"
   ]
  },
  {
   "cell_type": "code",
   "execution_count": null,
   "metadata": {},
   "outputs": [],
   "source": [
    "#Freshwater Eutrophication\n",
    "fig = plt.figure()\n",
    "plot = (p9.ggplot(FE_LCIA, p9.aes('database','imp_yr', fill='product')) +\\\n",
    "            p9.geom_col() +\\\n",
    "            #p9.scale_x_discrete(limits=total_impacts_GW['database'].tolist()) +\\\n",
    "            p9.scale_fill_manual(values={'CH4':\"#f2d8dd\",\n",
    "                                        #'CO':\"#FF9999\",\n",
    "                                        'CO2':\"#f5a9b8\",\n",
    "                                        'N2O':\"#FF0033\",\n",
    "                                        #'NOx':\"#FF0000\",\n",
    "                                        'Irrigation':\"#b3495e\",\n",
    "                                        'Nitrate':\"#7a1c2f\",\n",
    "                                        'Phosphate':\"#590919\",\n",
    "                                        'inorganic nitrogen fertiliser, as N':\"#6666FF\",\n",
    "                                        'inorganic phosphorus fertiliser, as P2O5':\"#0000FF\",\n",
    "                                        'inorganic potassium fertiliser, as K2O':\"#000099\",\n",
    "                                        'Struvite at WWTP':\"#CCCCFF\",\n",
    "                                        'Ammonium sulphate at WWTP':\"#f0f0fc\",\n",
    "                                        'compost, market for compost Metropolitan Area of Barcelona':\"#5ec7fa\"}, name=' ') +\\\n",
    "            #p9.facet_grid('Scenario ~ LCIA') +\\\n",
    "            p9.facet_wrap([\"Scenario\"]) +\\\n",
    "            p9.labels.ylab('Freshwater Eutrophication (Tons P$_{eq}$ yr$^{-1}$)') +\\\n",
    "            p9.labels.xlab('') +\\\n",
    "            p9.theme(figure_size=(8, 6), axis_text_x=p9.element_text(rotation=90, hjust = 1))).draw(show=True)\n",
    "fig.savefig('output/FE_LCIA_yr_allscenarios.png', bbox_inches='tight')"
   ]
  },
  {
   "cell_type": "code",
   "execution_count": null,
   "metadata": {},
   "outputs": [],
   "source": [
    "#Freshwater Eutrophication Regionalized foreground impacts\n",
    "fig = plt.figure()\n",
    "plot = (p9.ggplot(FE_Reg_LCIA, p9.aes('database','imp_yr', fill='product')) +\\\n",
    "            p9.geom_col() +\\\n",
    "            #p9.scale_x_discrete(limits=total_impacts_GW['database'].tolist()) +\\\n",
    "            p9.scale_fill_manual(values={'CH4':\"#f2d8dd\",\n",
    "                                        #'CO':\"#FF9999\",\n",
    "                                        'CO2':\"#f5a9b8\",\n",
    "                                        'N2O':\"#FF0033\",\n",
    "                                        #'NOx':\"#FF0000\",\n",
    "                                        'Irrigation':\"#b3495e\",\n",
    "                                        'Nitrate':\"#7a1c2f\",\n",
    "                                        'Phosphate':\"#590919\",\n",
    "                                        'inorganic nitrogen fertiliser, as N':\"#6666FF\",\n",
    "                                        'inorganic phosphorus fertiliser, as P2O5':\"#0000FF\",\n",
    "                                        'inorganic potassium fertiliser, as K2O':\"#000099\",\n",
    "                                        'Struvite at WWTP':\"#CCCCFF\",\n",
    "                                        'Ammonium sulphate at WWTP':\"#f0f0fc\",\n",
    "                                        'compost, market for compost Metropolitan Area of Barcelona':\"#5ec7fa\"}, name=' ') +\\\n",
    "            #p9.facet_grid('Scenario ~ LCIA') +\\\n",
    "            p9.facet_wrap([\"Scenario\"]) +\\\n",
    "            p9.labels.ylab('Regionalized Freshwater Eutrophication (Tons P$_{eq}$ yr$^{-1}$)') +\\\n",
    "            p9.labels.xlab('') +\\\n",
    "            p9.theme(figure_size=(8, 6), axis_text_x=p9.element_text(rotation=90, hjust = 1))).draw(show=True)\n",
    "fig.savefig('output/FE_Reg_LCIA_yr_allscenarios.png', bbox_inches='tight')"
   ]
  },
  {
   "cell_type": "code",
   "execution_count": null,
   "metadata": {},
   "outputs": [],
   "source": [
    "#Water depletion\n",
    "fig = plt.figure()\n",
    "plot = (p9.ggplot(WC_LCIA, p9.aes('database','imp_yr', fill='product')) +\\\n",
    "            p9.geom_col() +\\\n",
    "            #p9.scale_x_discrete(limits=total_impacts_GW['database'].tolist()) +\\\n",
    "            p9.scale_fill_manual(values={'CH4':\"#f2d8dd\",\n",
    "                                        #'CO':\"#FF9999\",\n",
    "                                        'CO2':\"#f5a9b8\",\n",
    "                                        'N2O':\"#FF0033\",\n",
    "                                        #'NOx':\"#FF0000\",\n",
    "                                        'Irrigation':\"#b3495e\",\n",
    "                                        'Nitrate':\"#7a1c2f\",\n",
    "                                        'Phosphate':\"#590919\",\n",
    "                                        'inorganic nitrogen fertiliser, as N':\"#6666FF\",\n",
    "                                        'inorganic phosphorus fertiliser, as P2O5':\"#0000FF\",\n",
    "                                        'inorganic potassium fertiliser, as K2O':\"#000099\",\n",
    "                                        'Struvite at WWTP':\"#CCCCFF\",\n",
    "                                        'Ammonium sulphate at WWTP':\"#f0f0fc\",\n",
    "                                        'compost, market for compost Metropolitan Area of Barcelona':\"#5ec7fa\"}, name=' ') +\\\n",
    "            #p9.facet_grid('Scenario ~ LCIA') +\\\n",
    "            p9.facet_wrap([\"Scenario\"]) +\\\n",
    "            p9.labels.ylab('Water Consumption (*1000 m$^{3}$ yr$^{-1}$)') +\\\n",
    "            p9.labels.xlab('') +\\\n",
    "            p9.theme(figure_size=(8, 6), axis_text_x=p9.element_text(rotation=90, hjust = 1))).draw(show=True)\n",
    "fig.savefig('output/WD_LCIA_yr_allscenarios.png', bbox_inches='tight')"
   ]
  },
  {
   "cell_type": "code",
   "execution_count": null,
   "metadata": {},
   "outputs": [],
   "source": [
    "#Abioditc resource depletion\n",
    "fig = plt.figure()\n",
    "plot = (p9.ggplot(ADP_LCIA, p9.aes('database','imp_yr', fill='product')) +\\\n",
    "            p9.geom_col() +\\\n",
    "            #p9.scale_x_discrete(limits=total_impacts_GW['database'].tolist()) +\\\n",
    "            p9.scale_fill_manual(values={'CH4':\"#f2d8dd\",\n",
    "                                        #'CO':\"#FF9999\",\n",
    "                                        'CO2':\"#f5a9b8\",\n",
    "                                        'N2O':\"#FF0033\",\n",
    "                                        #'NOx':\"#FF0000\",\n",
    "                                        'Irrigation':\"#b3495e\",\n",
    "                                        'Nitrate':\"#7a1c2f\",\n",
    "                                        'Phosphate':\"#590919\",\n",
    "                                        'inorganic nitrogen fertiliser, as N':\"#6666FF\",\n",
    "                                        'inorganic phosphorus fertiliser, as P2O5':\"#0000FF\",\n",
    "                                        'inorganic potassium fertiliser, as K2O':\"#000099\",\n",
    "                                        'Struvite at WWTP':\"#CCCCFF\",\n",
    "                                        'Ammonium sulphate at WWTP':\"#f0f0fc\",\n",
    "                                        'compost, market for compost Metropolitan Area of Barcelona':\"#5ec7fa\"}, name=' ') +\\\n",
    "            #p9.facet_grid('Scenario ~ LCIA') +\\\n",
    "            p9.facet_wrap([\"Scenario\"]) +\\\n",
    "            p9.labels.ylab('Abiotic Resource Depletion (Tons Sb$_{eq}$ yr$^{-1}$)') +\\\n",
    "            p9.labels.xlab('') +\\\n",
    "            p9.theme(figure_size=(8, 6), axis_text_x=p9.element_text(rotation=90, hjust = 1))).draw(show=True)\n",
    "fig.savefig('output/ADP_LCIA_yr_allscenarios.png', bbox_inches='tight')"
   ]
  },
  {
   "cell_type": "code",
   "execution_count": null,
   "metadata": {},
   "outputs": [],
   "source": []
  },
  {
   "cell_type": "code",
   "execution_count": null,
   "metadata": {},
   "outputs": [],
   "source": []
  }
 ],
 "metadata": {
  "kernelspec": {
   "display_name": "Python 3 (ipykernel)",
   "language": "python",
   "name": "python3"
  },
  "language_info": {
   "codemirror_mode": {
    "name": "ipython",
    "version": 3
   },
   "file_extension": ".py",
   "mimetype": "text/x-python",
   "name": "python",
   "nbconvert_exporter": "python",
   "pygments_lexer": "ipython3",
   "version": "3.11.8"
  }
 },
 "nbformat": 4,
 "nbformat_minor": 4
}
